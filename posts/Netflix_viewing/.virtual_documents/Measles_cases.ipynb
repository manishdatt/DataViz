





import pandas as pd
import matplotlib.pyplot as plt
import seaborn as sns

cases_month = pd.read_csv('https://raw.githubusercontent.com/rfordatascience/tidytuesday/main/data/2025/2025-06-24/cases_month.csv')
cases_year = pd.read_csv('https://raw.githubusercontent.com/rfordatascience/tidytuesday/main/data/2025/2025-06-24/cases_year.csv')
cases_month


cases_year


cases_month.groupby("country").size().sort_values(ascending=False)


df_grp = cases_month.groupby(["month","year"])[["measles_total", "rubella_total"]].sum().reset_index()
df_grp


import matplotlib.font_manager as fm
monospace_font = fm.FontProperties(family='monospace')


months_order = ['Jan', 'Feb', 'Mar', 'Apr', 'May', 'Jun',
                'Jul', 'Aug', 'Sep', 'Oct', 'Nov', 'Dec']

fig, ax = plt.subplots(figsize=(10, 6))
jitter = 0.15
df_grp['month_measles'] = df_grp['month'] - jitter
df_grp['month_rubella'] = df_grp['month'] + jitter

s1 = sns.scatterplot(data=df_grp, y="month_measles", x="year", size="measles_total", sizes=(25,250),
                hue="measles_total", marker="o", palette="Oranges", legend='brief')

handles1, labels1 = s1.get_legend_handles_labels()
labels1 = [f"{int(x):,}" for x in labels1]
legend1 = ax.legend(handles1, labels1, title="Measles Cases", loc="upper left", 
                    bbox_to_anchor=(1, 0.6), frameon=False)
ax.add_artist(legend1)  

s2 = sns.scatterplot(data=df_grp, y="month_rubella", x="year", size="rubella_total", sizes=(5,50),
                hue="rubella_total", marker="s", palette="Blues", legend='brief')

all_handles, all_labels = s2.get_legend_handles_labels()

rubella_handles = all_handles[len(handles1):]
rubella_labels = all_labels[len(labels1):] #[l for h, l in zip(all_handles, all_labels) if h not in handles1]
rubella_labels = [f"{int(x):,}" for x in rubella_labels]

legend2 = ax.legend(rubella_handles, rubella_labels, title="Rubella Cases", loc="upper left", 
                    bbox_to_anchor=(1, 0.3), frameon=False)

title = "Timeline of global measles and rubella (M&R) cases."
sub_title = "Contagious diseases like M&R exhibit seasonality, with incidence peaking during the winter/spring transition.\nRestrictions imposed due to Covid-19 led to a reduction in the spread of M&R viruses."
plt.title(textwrap.fill(title, width=60), fontfamily="Serif", loc='left',pad=35, fontweight="bold")
#plt.suptitle(textwrap.fill(sub_title, width=90), fontfamily="Serif", y=0.82, x=.05, ha="left", fontsize=10)
plt.suptitle(sub_title, fontfamily="Serif", y=0.86, x=.05, ha="left", fontsize=10)
plt.xlabel("")
plt.ylabel("")
plt.yticks(ticks=range(1, 13), labels=months_order,fontfamily='monospace')
plt.xticks(ticks=range(2012,2026),fontfamily='monospace')
ax.invert_yaxis()
plt.tight_layout()
#plt.savefig('measles_cases.png', bbox_inches='tight', pad_inches=0.1, dpi=300)
plt.show()
