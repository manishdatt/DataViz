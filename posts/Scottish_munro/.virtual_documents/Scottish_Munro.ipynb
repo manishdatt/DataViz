





import pandas as pd
import matplotlib.pyplot as plt
import seaborn as sns


scottish_munros = pd.read_csv('https://raw.githubusercontent.com/rfordatascience/tidytuesday/main/data/2025/2025-08-19/scottish_munros.csv', encoding='latin1')


scottish_munros


scottish_munros.columns


scottish_munros.groupby('1891').count()


sns.histplot(scottish_munros, x='Height_ft', hue='1891', multiple='stack', bins=20)
plt.show()


scottish_munros_long = scottish_munros.melt(id_vars=['DoBIH_number', 'Name', 'Height_m', 'Height_ft', 'xcoord', 'ycoord', 'Comments'], var_name='year', value_name='munro_type')
munro_counts = scottish_munros_long.groupby(['year', 'munro_type']).size()


sns.set_style("dark", {
    'axes.facecolor': 'darkgrey',     # background of the plot
    'figure.facecolor': 'darkgrey',   # background around the plot
    'axes.edgecolor': 'gainsboro',
    'font.family': 'monospace',
})
sns.set_context("notebook", font_scale=2)

g = sns.displot(data=scottish_munros_long, x='Height_ft', hue='munro_type', col='year', \
col_wrap=6, kind='hist', multiple='dodge', palette=['lightgreen','white'], \
height=3, aspect=1.5, bins=20, edgecolor='none')
#sns.move_legend(g,"lower right", bbox_to_anchor=(0.875, 0.2), title=None, frameon=False)
g.legend.set_visible(False)
g.set_axis_labels("", "")
g.figure.suptitle("Year-wise distribution of heights for Scottish Munros and Munro Tops",\
x=0.05, y=1.025, ha='left', fontfamily='serif', fontsize=36)
g.figure.subplots_adjust(wspace=0, hspace=0)
text_obj = g.figure.supylabel('Count')
x, y = text_obj.get_position()   # get current position
text_obj.set_position((x - 0.01, y))  
g.figure.supxlabel('Height (feet)')

custom_ticks = [3000, 3500, 4000]
custom_labels = ['3K', '3.5', '4K']

# Set the ticks and labels on each axis in the grid
for ax in g.axes.flat:
    ax.set_xticks(custom_ticks)
    ax.set_xticklabels(custom_labels)
    title_text = ax.get_title()
    year = title_text.split('=')[-1].strip()
    year_counts = munro_counts.loc[year]
    for i, (mt, m_count) in enumerate(year_counts.items()):
        k=0
        if(i==0):
            if(ax == g.axes.flat[-1]):
                m_count = f'{m_count} ← Total Munros'
                k = 0.6
            ax.text(0.9 + k, 0.5 - i * 0.1, f'{m_count}', transform=ax.transAxes, ha='right', va='center', color='lightgreen')
        else:
            if(ax == g.axes.flat[-1]):
                m_count = f'{m_count} ← Total Munro Tops'
                k = 0.8
            ax.text(0.9 + k, 0.5 - i * 0.2, f'{m_count}', transform=ax.transAxes, ha='right', va='center', color='white')    

g.set_titles("{col_name}", y=0.7)
g.figure.text(0.90, 0.01, '1K feet = 304.8 meters', ha='right', color='gainsboro')

sns.despine()
#g.figure.savefig('Scottish_munros.png', dpi=300, bbox_inches='tight',pad_inches=0.25)
plt.show()



