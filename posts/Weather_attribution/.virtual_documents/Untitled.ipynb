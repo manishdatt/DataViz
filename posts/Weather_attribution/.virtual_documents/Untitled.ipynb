





import pandas as pd
import plotly.express as px
import plotly.subplots as sp
import textwrap


attribution_studies = pd.read_csv('https://raw.githubusercontent.com/rfordatascience/tidytuesday/main/data/2025/2025-08-12/attribution_studies.csv')
attribution_studies_raw = pd.read_csv('https://raw.githubusercontent.com/rfordatascience/tidytuesday/main/data/2025/2025-08-12/attribution_studies_raw.csv')



attribution_studies


attribution_studies['event_type'].value_counts()


attribution_studies['event_name'].value_counts()


attribution_studies['classification'].value_counts()


classification_labels = {
    'More severe or more likely to occur': 'More Severe/Likely',
    'Decrease, less severe or less likely to occur': 'Less Severe/Likely',
    'No discernible human influence': 'No human influence',
    'Insufficient data/inconclusive': 'Insufficient Data'
}

# sunburst plots
sunburst_data = attribution_studies.groupby(['study_focus', 'classification', 'event_type']).size().reset_index(name='count')
sunburst_data['classification'] = sunburst_data['classification'].map(classification_labels)

sunburst_data = sunburst_data.dropna(subset=['classification'])

event_focus_count = sunburst_data[sunburst_data['study_focus'] == 'Event']['count'].sum()
trend_focus_count = sunburst_data[sunburst_data['study_focus'] == 'Trend']['count'].sum()

fig = sp.make_subplots(rows=1, cols=2, specs=[[{'type':'domain'}, {'type':'domain'}]],
                       subplot_titles=(f'Event Focus ({event_focus_count})', f'Trend Focus ({trend_focus_count})'))

fig.add_trace(px.sunburst(sunburst_data[sunburst_data['study_focus'] == 'Event'], 
                          path=['classification', 'event_type'], values='count').data[0],
              row=1, col=1)

fig.add_trace(px.sunburst(sunburst_data[sunburst_data['study_focus'] == 'Trend'], 
                          path=['classification', 'event_type'], values='count').data[0],
              row=1, col=2)

fig.update_layout(title_text='Effect of climate change on extreme weather attributions &#8211; <br><span style="color:blue">More severe</span>, <span style="color:green">Less severe</span>, <span style="color:red">No human influence</span>, and <span style="color:purple">Insufficient data</span>.')

# Save figure
#fig.write_html('sunburst_plots_by_study_focus.html')
fig.write_image("weather_attribution.png")
fig.show()



