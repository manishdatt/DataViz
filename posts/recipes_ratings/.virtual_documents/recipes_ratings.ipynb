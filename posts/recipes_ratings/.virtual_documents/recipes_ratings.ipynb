





import pandas as pd
import numpy as np
import flagpy as fp
from great_tables import GT, style,loc, md, html, nanoplot_options
import io
import base64
import matplotlib.pyplot as plt


all_recipes = pd.read_csv('https://raw.githubusercontent.com/rfordatascience/tidytuesday/main/data/2025/2025-09-16/all_recipes.csv')
cuisines = pd.read_csv('https://raw.githubusercontent.com/rfordatascience/tidytuesday/main/data/2025/2025-09-16/cuisines.csv')


all_recipes


cuisines


cuisines_filtered = cuisines[(cuisines['avg_rating']==5) & (cuisines['total_time']<=10) & (cuisines['total_time']>0)]
cuisines_filtered


cuisines_filtered.columns


cuisines_final = cuisines_filtered[['name', 'country', 'ingredients',
       'calories', 'fat', 'carbs', 'protein', 
       'prep_time', 'cook_time']].sort_values(by='country').reset_index(drop=True)
cuisines_final


# merge calories, fat, carbs, and protein cols into one col as a list of four elements.
cuisines_final['nutrition'] = cuisines_final[['fat', 'carbs', 'protein']].values.tolist()
# in calories, fat, protein, carbs, replace nan with 0.0
cuisines_final[['calories', 'fat', 'carbs', 'protein']] = cuisines_final[['calories', 'fat', 'carbs', 'protein']].fillna(0.0)
# convert nutrition col to string
cuisines_final['nutrition'] = cuisines_final['nutrition'].apply(
    lambda x: ', '.join([str(0.0 if pd.isna(i) else i) for i in x])
)
cuisines_final


cuisines_final['country'].unique()


country_list = ['Argentina', 'Brazil', 'Canada', 'Chile', 'Colombia', 'Cuba', 'Italy', 'Lebanon', 'Spain', 'Vietnam']


# save flag for each country
for country in country_list:
    img = fp.get_flag_img(country)
    img.save(f'{country}_flag.png')


country_image_paths = {
    'Argentinian': 'Argentina_flag.png',
    'Brazilian': 'Brazil_flag.png',
    'Canadian': 'Canada_flag.png',
    'Chilean': 'Chile_flag.png',
    'Colombian': 'Colombia_flag.png',
    'Cuban': 'Cuba_flag.png',
    'Italian': 'Italy_flag.png',
    'Lebanese': 'Lebanon_flag.png',
    'Spanish': 'Spain_flag.png',
    'Vietnamese': 'Vietnam_flag.png'
}

cuisines_final['flag']=cuisines_final['country'].map(country_image_paths)


cuisines_final.columns


def create_tally_image(n, color='black'):
    """Create tally mark image with diagonal going from bottom-left to top-right"""
    groups = n // 5
    remainder = n % 5
    
    # Calculate figure width based on number of marks
    # Each group takes 0.7 width (0.5 for marks + 0.2 space)
    # Each remainder takes 0.1 width
    total_width = max(1.0, 0.7 * groups + 0.1 * remainder + 0.2)
    
    fig, ax = plt.subplots(figsize=(total_width, 0.5))
    ax.set_xlim(0, total_width)
    ax.set_ylim(0, 1)
    ax.axis('off')
    
    x_start = 0.1
    for i in range(groups):
        # Four vertical bars
        for j in range(4):
            ax.plot([x_start + j*0.1, x_start + j*0.1], [0.2, 0.8], color=color, lw=2)
        
        # Diagonal from bottom-left to top-right
        # Starts below and left of first line, ends above and right of fourth line
        ax.plot([x_start - 0.05, x_start + 0.35], [0.15, 0.85], color=color, lw=2)
        
        # Add space after group
        x_start += 0.7  # 0.5 for marks + 0.2 space
    
    # Draw remaining marks
    for j in range(remainder):
        ax.plot([x_start + j*0.1, x_start + j*0.1], [0.2, 0.8], color=color, lw=2)
    
    # Save to memory
    buf = io.BytesIO()
    plt.savefig(buf, format='png', bbox_inches='tight', pad_inches=0.1, transparent=True)
    buf.seek(0)
    img_str = base64.b64encode(buf.read()).decode('utf-8')
    plt.close(fig)
    
    return f'<img src="data:image/png;base64,{img_str}" style="height:30px">'

cuisines_final["prep_Tally"] = cuisines_final["prep_time"].apply(create_tally_image, args=('purple',))
cuisines_final["cook_Tally"] = cuisines_final["cook_time"].apply(create_tally_image, args=('dodgerblue',))



gt_table = (
GT(cuisines_final[['name', 'flag', 'ingredients', 'prep_Tally', 'cook_Tally', 'nutrition','calories']], rowname_col='name')
.cols_width({
      'name': '15%',
      'flag': '8%',
      'ingredients': '45%',
      'calories': '6%',
#      'prep_time': '5%',
#      'cook_time': '6%',
      'nutrition': '15%',
      'prep_Tally': '5%',
      'cook_Tally': '6%'
  })
.tab_spanner(label="Time (mins)", columns=["prep_Tally", "cook_Tally"])
.tab_spanner(label="Nutrition", columns=["calories","nutrition"])
.tab_style(
    style=style.text(weight="bold"),
    locations=loc.spanner_labels(["Time (mins)", "Nutrition"])
  )
.tab_header(
    title=md("**Five star** cuisines having preparation time upto **ten minutes**."),
#    subtitle="Recipes with 5 star ratings and total time less than 10 minutes"
)
.cols_label(
    prep_Tally="Prep",
    cook_Tally="Cook",
    calories="Calories",
    flag="Country",
    ingredients="Ingredients",
    nutrition="Fat, Carbs, Protein"
)
.fmt_number(columns=["calories"], decimals=0)
.fmt_nanoplot(columns="nutrition", plot_type='bar',options=nanoplot_options(data_bar_fill_color="green"))
.fmt_markdown(columns='ingredients')
.cols_align('center')
.cols_align(align="left", columns=["ingredients"])
.tab_style(
    style=style.text(align="center"),                # Center header text
    locations=loc.column_labels(columns=["ingredients"])
    )
.tab_style(
    style=style.text(weight="bold"),                # Center header text
    locations=loc.column_labels(columns=["flag","ingredients"])
    )
.data_color(
        columns=['calories'],
        palette='Reds',
        domain=[cuisines_final['calories'].min(), cuisines_final['calories'].max()]
        ) 
.tab_style(
style=[
        style.text(whitespace='normal'),  # Text wrapping
        style.fill(color='papayawhip')     # Background fill
    ],
locations=loc.body(columns='ingredients'))
.tab_style(
    style=[
        style.text(whitespace='normal'),
        style.fill(color='aliceblue')
    ],
    locations=loc.stub()
  )
.tab_style(
    style=style.text(color="purple"), #, weight="bold", size="16px"),
    locations=loc.column_labels(columns=["prep_Tally"])
)
.tab_style(
    style=style.text(color="dodgerblue"),
    locations=loc.column_labels(columns=["cook_Tally"])
)
.tab_options(table_width='100%')
.fmt_image(
    columns=['flag'], path="."  
)
.tab_source_note(
    source_note="Data: allrecipies.com"
)
.tab_style(
    style=style.css("border:0px"),
    locations=loc.body(columns=["flag"])
)
.tab_style(
    style=style.css("border-radius: 50px;"),
    locations=loc.body(columns=["calories"])
)


)

#gt_table.save("table.html")

# Save html without selenium
html = gt_table.as_raw_html()
with open("table.html", "w") as f:
    f.write(html)

gt_table

#gt_table.save(
#    file="my_table.png",
#    selector="table",       # HTML selector to capture
#    scale=1.0,               # Zoom level
#    expand=5,                # Padding around the image
#    window_size=(1000, 800)  # Size of the browser window used for rendering
#)



