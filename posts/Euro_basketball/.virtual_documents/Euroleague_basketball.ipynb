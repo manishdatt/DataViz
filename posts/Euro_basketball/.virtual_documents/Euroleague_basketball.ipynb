





import pandas as pd
import numpy as np
import matplotlib.pyplot as plt
import matplotlib.image as mpimg
from matplotlib.offsetbox import OffsetImage, AnnotationBbox
import flagpy as fp


euroleague_basketball = pd.read_csv('https://raw.githubusercontent.com/rfordatascience/tidytuesday/main/data/2025/2025-10-07/euroleague_basketball.csv')


euroleague_basketball


countries = euroleague_basketball['Country'].unique()
countries


# save flag for each country
for country in countries:
    if country=='United Arab Emirates':
        continue
    img = fp.get_flag_img(country)
    img.save(f'{country}_flag.png')


df_grp_team = (
            euroleague_basketball.groupby(['Country','Team'])
            .agg({'Titles_Won': 'sum',
                  'Years_of_Titles_Won': lambda x: ', '.join(x.dropna()),
                  })
            .sort_values(by='Titles_Won', ascending=False)
            .reset_index()
)
df_grp_team = df_grp_team[df_grp_team['Titles_Won'] > 0]
df_grp_team





plt.rcParams['font.family'] = 'Segoe UI Emoji'  


items = df_grp_team['Years_of_Titles_Won'].to_list()
def comma_newline(s):
    parts = [p.strip() for p in s.split(',')]
    separators = [',' if i % 2 == 0 else '\n' for i in range(len(parts) - 1)]
    return ''.join(p + sep for p, sep in zip(parts, separators)) + parts[-1]
#print(items)
year_won = [comma_newline(s) for s in items]
#print(year_won)

fig, ax = plt.subplots(figsize=(14, 3))#, subplot_kw=dict(polar=True))
plt.scatter(df_grp_team['Team'],[1]*len(df_grp_team['Titles_Won']), s=df_grp_team['Titles_Won']*1500, \
            color='orange', alpha=0)
for ind, (x, y, z) in enumerate(zip(df_grp_team['Team'],[1]*len(df_grp_team['Titles_Won']), year_won)):
    plt.text(x,y,z, fontsize=9, ha='center', va='top', color='black', family='monospace')
    plt.text(x, y,'\U0001F3C0', fontsize=(df_grp_team['Titles_Won'][ind]*10)+30, ha='center', va='center',\
            color='orange',zorder=1, alpha=0.8)
    plt.text(x, y-0.18,x, fontsize=12, ha='center', va='center', color='#333333')
    img = mpimg.imread(f'{df_grp_team["Country"][ind]}_flag.png')
    imagebox = OffsetImage(img, zoom=0.3)  
#    ab = AnnotationBbox(imagebox, (x, y-0.26), frameon=True, bboxprops=dict(edgecolor='lightgray'), zorder=2)  # Higher zorder
    ab = AnnotationBbox(imagebox, (x, y-0.26), frameon=False, zorder=2)  # Higher zorder
    ax.add_artist(ab)
plt.axis('off')
plt.xlim(-0.75,6.5)
plt.ylim(0.70,1.2)
plt.title("EuroLeague Basketball Champions", fontsize=20, family='Serif', color='#333333')
fig.patch.set_facecolor('#FFFDD0')
plt.savefig("euro_bb.png", dpi=300, bbox_inches="tight")
plt.show()






