





import pandas as pd
import numpy as np
import matplotlib.pyplot as plt
import seaborn as sns
import textwrap
from plotnine import *


fide_ratings_august = pd.read_csv('https://raw.githubusercontent.com/rfordatascience/tidytuesday/main/data/2025/2025-09-23/fide_ratings_august.csv')
fide_ratings_september = pd.read_csv('https://raw.githubusercontent.com/rfordatascience/tidytuesday/main/data/2025/2025-09-23/fide_ratings_september.csv')


fide_ratings_august


fide_Aug_fed_titles = (
    fide_ratings_august[fide_ratings_august['title'].notna()]
    .groupby(['fed','sex'])
    .count()
    .loc[lambda x: x['id']>100]
    .sort_values(by='id', ascending=False)
    .reset_index()
)
fide_Aug_fed_titles


fig,ax = plt.subplots(figsize=(6,8))
sns.scatterplot(data=fide_Aug_fed_titles, x='id', y='fed', hue='sex')
# add fed label to points
for i, row in fide_Aug_fed_titles.iterrows():
    plt.text(row['id']+10, row['fed'], row['fed'], fontsize=12, ha='left', va='center')
sns.despine()
plt.show()


fide_Aug_fed_titles['symbol'] = fide_Aug_fed_titles['sex'].apply(
    lambda s: '♔' if s == 'M' else '♕'
)
fide_Aug_fed_titles


unique_fed_order = fide_Aug_fed_titles['fed'].drop_duplicates()[::-1].tolist()
fide_Aug_fed_titles['fed'] = pd.Categorical(
    fide_Aug_fed_titles['fed'],
    categories=unique_fed_order,
    ordered=True
)
fide_Aug_fed_titles['fed_label'] = fide_Aug_fed_titles.apply(
    lambda row: f"{row['fed']} ({row['id']})", axis=1
)
fed_list = ['IND', 'GER', 'ESP', 'FRA', 'CRO', 'SVK']
#label_df = fide_Aug_fed_titles[fide_Aug_fed_titles['fed'].isin(fed_list)].copy()
label_df = fide_Aug_fed_titles.copy()
label_df['label'] = label_df.apply(lambda row: f'({row.id})', axis=1)
wrapped_title = textwrap.fill("Number of male (♔) and female (♕) chess players with titles in August 2025. Countries with more than 100 titled players are shown.", \
                    width=35)

(
    ggplot(fide_Aug_fed_titles, aes(x='id', y='fed')) +
#    geom_point(size=2) +
    geom_text(aes(label='symbol'), size=15, va='center', color='#FFFFFF', show_legend=False) + 
    geom_text(aes(label='fed', color='sex'), nudge_x=20, size=10, ha='left', va='center',\
     show_legend=False, family='monospace') +
    geom_text(data=label_df, mapping=aes(label='label', color='sex'), nudge_x=65, \
    size=9, va='center', ha='left', family='monospace', show_legend=False) +
    annotate('text', x=325, y=10, label=wrapped_title, color='#EEEEEE', \
    size=14, ha='left', va='center') +
    theme_minimal() +
    scale_color_manual(values={'M':'skyblue', 'F':'pink'}) +
#    labs(x='Number of players with titles') +
    xlim(0, 985) +
    theme(figure_size=(6, 6),
        axis_title_y=element_blank(),
        axis_text_y=element_blank(),
        axis_ticks_major_y=element_blank(),
        axis_ticks_minor_y=element_blank(),
        panel_grid_major_y=element_blank(),
        axis_title_x=element_blank(),
        axis_text_x=element_blank(),
        axis_ticks_major_x=element_blank(),
        axis_ticks_minor_x=element_blank(),
        panel_grid_major_x=element_blank(),
        panel_grid_minor_x=element_blank(),
        plot_background=element_rect(fill='#2E2E2E'),
        panel_background=element_rect(fill='#2E2E2E')
    )
)#.save('chess_ratings.png', width=6, height=6, dpi=300)



df_sept_mod = (
    fide_ratings_september[(fide_ratings_september['rating']>2000) & 
    (fide_ratings_september['games']>0)]
    .groupby("fed")
    .obj
#    .loc[lambda x: x['id']>100]
#    .loc[lambda x: x['fed']=="IND"]
#    .sort_values(by='id', ascending=False)
    # change bday to datetime
    .assign(bday=lambda x: pd.to_datetime(x['bday'], format='%Y'))
    .assign(age=lambda x: 2025 - x['bday'].dt.year)
)

df_sept_mod


sns.histplot(data=df_sept_mod, x='age', bins=20, hue='sex')
