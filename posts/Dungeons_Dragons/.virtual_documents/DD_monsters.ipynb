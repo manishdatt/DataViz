





import pandas as pd
import seaborn as sns
import matplotlib.pyplot as plt


monsters = pd.read_csv('https://raw.githubusercontent.com/rfordatascience/tidytuesday/main/data/2025/2025-05-27/monsters.csv')


monsters


monsters.columns


monsters.describe()


monsters.groupby(["senses"]).size().sort_values(ascending=False)


monsters.groupby(["size"]).describe()["cr"] 


sns.heatmap(monsters.select_dtypes(include='number').corr())


monsters['senses'].values[:10]


monsters[monsters['senses'].astype(str).str.contains('unimpeded', case=False, na=False)]


import re


def extract_senses(sense_str):
    result = {}
    if not isinstance(sense_str, str):
        return result

    # Senses to extract
    sense_names = ['darkvision', 'blindsight', 'tremorsense', 'truesight']
    
    # General pattern for senses with ft.
    for match in re.findall(r'([a-zA-Z]+)\s+(\d+)\s*ft*\.?', sense_str, flags=re.IGNORECASE):
        name, value = match
        name = name.strip().lower()
        if name in sense_names:
            result[name] = int(value)
    
    # Passive Perception (no ft.)
    pp_match = re.search(r'Passive Perception\s+(\d+)', sense_str, flags=re.IGNORECASE)
    if pp_match:
        result['passive perception'] = int(pp_match.group(1))
    
    return result




senses_df = monsters['senses'].apply(extract_senses).apply(pd.Series).fillna(0).astype(int)
senses_df
#(senses_df['passive perception'] == 0).any()
#senses_df[(senses_df == 0).sum(axis=1) == 2]
#senses_df[senses_df["tremorsense"] > 0]


senses_df_filtered = senses_df[(senses_df == 0).sum(axis=1) != 2]
senses_df_filtered


monsters_mod = pd.concat([monsters, senses_df], axis=1)


monsters_mod = monsters_mod[["size"]+list(monsters_mod.columns[-5:])]


import seaborn as sns


long_df = pd.melt(
    senses_df, #filtered
    id_vars=['passive perception'], #,'size'],             
    value_vars=['darkvision', 'blindsight', 'tremorsense', 'truesight'], 
    var_name='sense_type',
    value_name='distance'
)
long_df #[(long_df["sense_type"] == "tremorsense") & (long_df["distance"] != 0)]





sns.set_theme(style="dark", font="Comic Sans MS")
current_style = sns.axes_style()
colors = ["grey", "orange", "dodgerblue", "salmon"]
plot1 = sns.catplot(data=long_df[long_df["distance"] != 0], x="distance", y="passive perception", hue="sense_type",\
            kind="strip", dodge=True, height=4, aspect=2, size=4, native_scale=True,\
                   jitter=0.25, palette=colors)
plot1._legend.remove()
plot1.add_legend(title='', ncol=4, bbox_to_anchor=(0.5, 1.05))
for ind, text in enumerate(plot1._legend.texts):
    text.set_color(colors[ind]) 
for handle in plot1._legend.legend_handles:
    handle.set_visible(False)
plot1.fig.set_facecolor(current_style['axes.facecolor'])
sns.despine(left=True, bottom=True, right=True, top=True)
for ax in plot1.axes.flat:
    ax.grid(axis='y', which='major')

plt.xticks(ticks=range(0,151,30))
plt.xlabel("Distance (feet)")
#plt.savefig("senses.png", dpi=300, bbox_inches="tight")
plt.show()



#plot1 = sns.catplot(data=long_df, x="distance", y="passive perception", hue="size",\
#            kind="strip", dodge=True, height=4, aspect=2, size=4, native_scale=True,\
#                   jitter=1, col="sense_type", col_wrap=2)
#plot1._legend.remove()
#plot1.add_legend(title='', ncol=7, bbox_to_anchor=(0.5, 1.05))
#plt.xticks(ticks=range(0,151,30))
#plt.xlabel("Distance (feet)")
#plt.tight_layout()
#plt.show()


sns.dark_palette("xkcd:golden", 4)






from upsetplot import plot
from upsetplot import UpSet
import textwrap
sns.reset_defaults()


binary_df = senses_df > 0
counts = binary_df.value_counts().sort_values(ascending=False)


with plt.style.context("grayscale"):
    upset = UpSet(counts, sort_by= "cardinality", show_percentages=True, facecolor="dodgerblue")
    upset.style_subsets(present="truesight", edgecolor="lightgreen", linewidth=1)
    upset.style_subsets(present="tremorsense", edgecolor="salmon", linewidth=1)
    
    #upset.add_catplot(value="progression", kind="strip", color="blue")
    upset.plot()
    for ind, ax in enumerate(plt.gcf().get_axes()):
        if(ind == 3):
            ax.set_yticks(range(0,151,50))
            ax.set_facecolor("#BEBEBE")
            ax.yaxis.grid(True, color="#D0D0D0")
        if(ind == 2):
            ax.xaxis.grid(True, color="#D0D0D0")
        ax.spines['left'].set_visible(False)
        ax.tick_params(axis='both', length=0)

        for text in ax.texts:
            if "%" in text.get_text():  
                text.set_fontsize(9)
#                text.set_fontfamily("Consolas")
    title_text = "Frequency of five senses and their combinations across all the characters in Dungeons and Dragons Monsters (2024)"
    plt.suptitle("\n".join(textwrap.wrap(title_text, width=20)), x=0.075, y=0.8, ha="left", fontfamily="Serif")
    plt.savefig("senses_comb.png", dpi=300, facecolor="#BEBEBE", bbox_inches='tight')
    plt.show()



