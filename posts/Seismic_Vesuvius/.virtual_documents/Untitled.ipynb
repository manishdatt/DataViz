


import pandas as pd
import matplotlib.pyplot as plt
import seaborn as sns


vesuvius = pd.read_csv('https://raw.githubusercontent.com/rfordatascience/tidytuesday/main/data/2025/2025-05-13/vesuvius.csv')


vesuvius


vesuvius["time"] = pd.to_datetime(vesuvius["time"])


vesuvius["hour12"] = vesuvius["time"].dt.strftime("%I").astype(int)    
vesuvius["AMPM"] = vesuvius["time"].dt.strftime("%p")              



vesuvius["hour"] = vesuvius["time"].dt.hour
time_bins = [0, 5, 12, 17, 21, 24]  # 0-4 -> Night, 5-11 -> Morning, etc.
time_labels = ["Night", "Morning", "Afternoon", "Evening", "Night"]



vesuvius["time_of_day"] = pd.cut(vesuvius['hour'], bins=time_bins, labels=time_labels, right=False, ordered=False)



vesuvius["hour"]


vesuvius["year"].unique()


sns.histplot(data=vesuvius,x="depth_km")


vesuvius['depth_km'].describe()


bin_edges = [-float('inf'), 1, 2, 3, 5, 7, float('inf')]
vesuvius["depth_bins"] = pd.cut(vesuvius['depth_km'], bins=bin_edges)



vesuvius["depth_bins"].value_counts()


bin_order = vesuvius['depth_bins'].cat.categories
bin_order


help(sns.despine)


vesuvius.head()


fig, ax = plt.subplots()
hue_order = ["Morning", "Afternoon", "Evening", "Night"]
color_map = ["lightblue", "dodgerblue", "lightgrey", "grey"]
colors = {x: color_map[ind] for ind, x in enumerate(hue_order)}
     
sns.stripplot(data=vesuvius, x="year", y="duration_magnitude_md", \
              hue='time_of_day', hue_order=hue_order, palette="plasma")



vesuvius[["year","hour"]].dtypes


vesuvius["hour12"]


vesuvius_grp = vesuvius.groupby(["hour12", "AMPM"]).size().unstack(fill_value=0)
vesuvius_grp


#fig, ax = plt.subplots(figsize=(8, 8), subplot_kw={'projection': 'polar'})
vesuvius_grp.plot(kind="bar", stacked=True, color=['dodgerblue', 'salmon'])


import plotly.graph_objects as go
import numpy as np



vesuvius_grp.index


max(vesuvius_grp["AM"]+vesuvius_grp["PM"])


vesuvius_grp['angle'] = vesuvius_grp.index * 30

# Create polar plot with two bar traces: AM and PM
fig = go.Figure()

# AM bars
fig.add_trace(go.Barpolar(
    r=vesuvius_grp['AM'],
    theta=vesuvius_grp['angle'],
    name='AM',
    marker_color='dodgerblue',
    hovertemplate='count = %{r}<br>time = %{theta} AM<extra></extra>'
))

# PM bars
fig.add_trace(go.Barpolar(
    r=vesuvius_grp['PM'],
    theta=vesuvius_grp['angle'],
    name='PM',
    marker_color='salmon',
    hovertemplate='count = %{r}<br>time = %{theta} PM<extra></extra>'
))

# Layout
fig.update_layout(
    title={
        'text': 'Total number of earthquakes during <br><span style="color:dodgerblue;">AM</span> and <span style="color:red;">PM</span> at Mount Vesuvius since 2011',
        'font': {
            'size': 16  
        },
        "x" : 0.5,
    },
    polar=dict(
        angularaxis=dict(direction='clockwise', rotation=90, tickmode='array',
                         tickvals=np.arange(30, 361, 30),
                         ticktext=[f"<b>{h}</b>" for h in range(1, 13)], showgrid=False),
        radialaxis=dict(showticklabels=False, ticks='', showline=False, showgrid=False)
    ),
    showlegend=False,
    template='plotly_white',
    width=500,
    height=500,
    margin=dict(l=0, r=0, t=100, b=20)
)
fig.add_trace(go.Scatterpolar(
    r=vesuvius_grp['AM']+50,  # Radius values for AM bars
    theta=vesuvius_grp['angle'],  # Angle values for AM bars
    mode="text",  # Display only text
    text=vesuvius_grp['AM'],  # Label values
    textposition="middle center",  # Position text at the center of bars
    textfont=dict(size=14, color="white"),
    name="AM Labels",
    hoverinfo="skip",  # Avoid unnecessary tooltips
    showlegend=False
))

fig.add_trace(go.Scatterpolar(
    r=vesuvius_grp['AM']+vesuvius_grp['PM']+50,  # Radius values for PM bars
    theta=vesuvius_grp['angle'],  # Angle values for PM bars
    mode="text",
    text=vesuvius_grp['PM'],
    textposition="middle center",
    name="PM Labels",
    hoverinfo="skip",
    showlegend=False
))

fig.show()



