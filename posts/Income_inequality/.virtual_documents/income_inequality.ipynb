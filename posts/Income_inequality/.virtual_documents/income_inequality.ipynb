





import pandas as pd
import matplotlib.pyplot as plt
from matplotlib.lines import Line2D
import textwrap


income_inequality_processed = pd.read_csv('https://raw.githubusercontent.com/rfordatascience/tidytuesday/main/data/2025/2025-08-05/income_inequality_processed.csv')
income_inequality_raw = pd.read_csv('https://raw.githubusercontent.com/rfordatascience/tidytuesday/main/data/2025/2025-08-05/income_inequality_raw.csv')


income_inequality_processed


income_inequality_raw


income_inequality_processed_noNA = income_inequality_processed.dropna(subset=['gini_mi_eq'])
income_inequality_processed_noNA['diff'] = income_inequality_processed_noNA['gini_mi_eq'] - income_inequality_processed_noNA['gini_dhi_eq']
df1 = income_inequality_processed_noNA.sort_values('Year').groupby('Entity').last()
df1 = df1.sort_values('diff', ascending=False)
df1





cutoff = 0.460
set1 = df1[df1['gini_mi_eq']>=cutoff]
set2 = df1[df1['gini_mi_eq']<cutoff]


x = [0,1]

categories1 = sorted(set(set1['gini_mi_eq']).union(set(set1['gini_dhi_eq'])))
categories2 = sorted(set(set2['gini_mi_eq']).union(set(set2['gini_dhi_eq'])))
categories = categories1 + categories2

fig, (ax1,ax2) = plt.subplots(1,2,figsize=(6, 8),sharey=True)
for ind, (row_ind, row) in enumerate(set1.iterrows()):
    ax1.plot(x, [row['gini_mi_eq'], row['gini_dhi_eq']], marker='o', label=row_ind, alpha=0.6)
    if (row_ind in ['Germany', 'Denmark']):
        ax1.annotate(row_ind, (0.5, row['gini_dhi_eq']))
    elif (row_ind in ['Austria']):
        ax1.annotate(row_ind, (1.01, row['gini_dhi_eq']-0.01))
    else:
        ax1.annotate(row_ind, (1.01, row['gini_dhi_eq']))

for ind, (row_ind, row) in enumerate(set2.iterrows()):
    ax2.plot(x, [row['gini_mi_eq'], row['gini_dhi_eq']], marker='o', label=row_ind, alpha=0.6)
    if (row_ind in ['Switzerland', 'Luxembourg', 'Finland', 'Iceland']):
        ax2.annotate(row_ind, (0.4, row['gini_dhi_eq']))
    else:
        ax2.annotate(row_ind, (1.01, row['gini_dhi_eq']))

ax1.spines[['top', 'right', 'bottom', 'left']].set_visible(False)
ax2.spines[['top', 'right', 'bottom', 'left']].set_visible(False)

ax1.set_xticks([])
ax2.set_xticks([])

ax1.tick_params(axis='y', pad=15)
ax1.tick_params(axis='y', length=0)
ax2.tick_params(axis='y', length=0)


#ax1.set_ylabel(r'Income inequality $\longrightarrow\!\!\!\!\!\!>$', fontsize=12)

title_text = textwrap.fill("Gini coefficient for different countries pre- (left) and post- (right) tax deductions. Data for the most recent year are shown. The plot is split into two columns at the dotted line for better visualization.",30)
fig.text(x=.55,y=.75,s=title_text, fontsize=12, fontfamily='Serif')

ax1.annotate(
    '', 
    xy=(-0.05, 1), xycoords='axes fraction',
    xytext=(-0.05, 0), textcoords='axes fraction',
    arrowprops=dict(arrowstyle='->', lw=10, mutation_scale=70, color='lightgrey'),
    zorder=-1
)

ax1.annotate(
    'Income inequality', 
    xy=(-0.09, 1), xycoords='axes fraction',
    xytext=(-0.09, 0.10), textcoords='axes fraction',
    rotation=90
)

plt.tight_layout()

y_display = ax1.transData.transform((0, cutoff))[1]
y_fig = fig.transFigure.inverted().transform((0, y_display))[1]

# Add horizontal line across the figure at the data-level cutoff
line = Line2D([0.125, 0.9], [y_fig, y_fig],  # X in figure coords, Y is now in figure coords too
              transform=fig.transFigure,
              color='lightgrey', linewidth=1, linestyle='dotted')

fig.add_artist(line)

#plt.savefig("income_inequality.png", dpi=300)
plt.show()



