{
 "cells": [
  {
   "cell_type": "code",
   "execution_count": 1,
   "id": "c4dc940f-eb29-4aff-b8e4-7ad9d05ebf01",
   "metadata": {},
   "outputs": [],
   "source": [
    "import pandas as pd"
   ]
  },
  {
   "cell_type": "code",
   "execution_count": 2,
   "id": "9bee8558-5f84-41a8-a260-98cadd46eb2c",
   "metadata": {},
   "outputs": [],
   "source": [
    "nsf_terminations = pd.read_csv('https://raw.githubusercontent.com/rfordatascience/tidytuesday/main/data/2025/2025-05-06/nsf_terminations.csv')"
   ]
  },
  {
   "cell_type": "code",
   "execution_count": 3,
   "id": "3f2ebfef-f874-4d35-baa5-6ab16a7e8ee0",
   "metadata": {},
   "outputs": [
    {
     "data": {
      "text/html": [
       "<div>\n",
       "<style scoped>\n",
       "    .dataframe tbody tr th:only-of-type {\n",
       "        vertical-align: middle;\n",
       "    }\n",
       "\n",
       "    .dataframe tbody tr th {\n",
       "        vertical-align: top;\n",
       "    }\n",
       "\n",
       "    .dataframe thead th {\n",
       "        text-align: right;\n",
       "    }\n",
       "</style>\n",
       "<table border=\"1\" class=\"dataframe\">\n",
       "  <thead>\n",
       "    <tr style=\"text-align: right;\">\n",
       "      <th></th>\n",
       "      <th>grant_number</th>\n",
       "      <th>project_title</th>\n",
       "      <th>termination_letter_date</th>\n",
       "      <th>org_name</th>\n",
       "      <th>org_city</th>\n",
       "      <th>org_state</th>\n",
       "      <th>org_district</th>\n",
       "      <th>usaspending_obligated</th>\n",
       "      <th>award_type</th>\n",
       "      <th>directorate_abbrev</th>\n",
       "      <th>...</th>\n",
       "      <th>division</th>\n",
       "      <th>nsf_program_name</th>\n",
       "      <th>nsf_url</th>\n",
       "      <th>usaspending_url</th>\n",
       "      <th>nsf_startdate</th>\n",
       "      <th>nsf_expected_end_date</th>\n",
       "      <th>org_zip</th>\n",
       "      <th>org_uei</th>\n",
       "      <th>abstract</th>\n",
       "      <th>in_cruz_list</th>\n",
       "    </tr>\n",
       "  </thead>\n",
       "  <tbody>\n",
       "    <tr>\n",
       "      <th>0</th>\n",
       "      <td>2135329</td>\n",
       "      <td>Collaborative Research: Research: Early-Career...</td>\n",
       "      <td>2025-04-25</td>\n",
       "      <td>University of New Mexico</td>\n",
       "      <td>ALBUQUERQUE</td>\n",
       "      <td>NM</td>\n",
       "      <td>NM01</td>\n",
       "      <td>190725.0</td>\n",
       "      <td>Standard Grant</td>\n",
       "      <td>ENG</td>\n",
       "      <td>...</td>\n",
       "      <td>Engineering Education and Centers</td>\n",
       "      <td>ER2-Ethical &amp; Responsible Res</td>\n",
       "      <td>https://www.nsf.gov/awardsearch/showAward?AWD_...</td>\n",
       "      <td>https://www.usaspending.gov/award/ASST_NON_213...</td>\n",
       "      <td>2022-09-01</td>\n",
       "      <td>2025-04-18</td>\n",
       "      <td>871310001</td>\n",
       "      <td>F6XLTRUQJEN4</td>\n",
       "      <td>Transportation systems, computing algorithms, ...</td>\n",
       "      <td>True</td>\n",
       "    </tr>\n",
       "    <tr>\n",
       "      <th>1</th>\n",
       "      <td>2342099</td>\n",
       "      <td>MyTurn: An Afterschool Social Robotics Program...</td>\n",
       "      <td>2025-04-25</td>\n",
       "      <td>University of Illinois at Chicago</td>\n",
       "      <td>CHICAGO</td>\n",
       "      <td>IL</td>\n",
       "      <td>IL07</td>\n",
       "      <td>499999.0</td>\n",
       "      <td>Standard Grant</td>\n",
       "      <td>EDU</td>\n",
       "      <td>...</td>\n",
       "      <td>Research on Learning in Formal and Informal Se...</td>\n",
       "      <td>ITEST-Inov Tech Exp Stu &amp; Teac</td>\n",
       "      <td>https://www.nsf.gov/awardsearch/showAward?AWD_...</td>\n",
       "      <td>https://www.usaspending.gov/award/ASST_NON_234...</td>\n",
       "      <td>2024-08-15</td>\n",
       "      <td>2027-07-31</td>\n",
       "      <td>606124305</td>\n",
       "      <td>W8XEAJDKMXH3</td>\n",
       "      <td>Computational thinking and robotics are increa...</td>\n",
       "      <td>False</td>\n",
       "    </tr>\n",
       "    <tr>\n",
       "      <th>2</th>\n",
       "      <td>2201103</td>\n",
       "      <td>Collaborative Research: The Organizational Cli...</td>\n",
       "      <td>2025-04-25</td>\n",
       "      <td>American Society For Engineering Education</td>\n",
       "      <td>WASHINGTON</td>\n",
       "      <td>DC</td>\n",
       "      <td>DC00</td>\n",
       "      <td>124241.0</td>\n",
       "      <td>Continuing Grant</td>\n",
       "      <td>EDU</td>\n",
       "      <td>...</td>\n",
       "      <td>Equity for Excellence in STEM</td>\n",
       "      <td>ECR-EDU Core Research</td>\n",
       "      <td>https://www.nsf.gov/awardsearch/showAward?AWD_...</td>\n",
       "      <td>https://www.usaspending.gov/award/ASST_NON_220...</td>\n",
       "      <td>2022-08-01</td>\n",
       "      <td>2026-07-31</td>\n",
       "      <td>200362476</td>\n",
       "      <td>F6G9C4HMNHW4</td>\n",
       "      <td>The ongoing lack of diversity in the engineeri...</td>\n",
       "      <td>True</td>\n",
       "    </tr>\n",
       "    <tr>\n",
       "      <th>3</th>\n",
       "      <td>2215382</td>\n",
       "      <td>Engaging Rural, Latinx Youth in an After Schoo...</td>\n",
       "      <td>2025-04-25</td>\n",
       "      <td>TERC Inc</td>\n",
       "      <td>CAMBRIDGE</td>\n",
       "      <td>MA</td>\n",
       "      <td>MA05</td>\n",
       "      <td>2601763.0</td>\n",
       "      <td>Continuing Grant</td>\n",
       "      <td>EDU</td>\n",
       "      <td>...</td>\n",
       "      <td>Research on Learning in Formal and Informal Se...</td>\n",
       "      <td>AISL</td>\n",
       "      <td>https://www.nsf.gov/awardsearch/showAward?AWD_...</td>\n",
       "      <td>https://www.usaspending.gov/award/ASST_NON_221...</td>\n",
       "      <td>2022-08-01</td>\n",
       "      <td>2026-07-31</td>\n",
       "      <td>21401339</td>\n",
       "      <td>GSLCJ3M62XX1</td>\n",
       "      <td>The project will develop and research an after...</td>\n",
       "      <td>True</td>\n",
       "    </tr>\n",
       "    <tr>\n",
       "      <th>4</th>\n",
       "      <td>2405633</td>\n",
       "      <td>Design Effective and Equitable Professional Le...</td>\n",
       "      <td>2025-04-25</td>\n",
       "      <td>San Francisco State University</td>\n",
       "      <td>SAN FRANCISCO</td>\n",
       "      <td>CA</td>\n",
       "      <td>CA11</td>\n",
       "      <td>565771.0</td>\n",
       "      <td>Continuing Grant</td>\n",
       "      <td>EDU</td>\n",
       "      <td>...</td>\n",
       "      <td>Research on Learning in Formal and Informal Se...</td>\n",
       "      <td>Discovery Research K-12</td>\n",
       "      <td>https://www.nsf.gov/awardsearch/showAward?AWD_...</td>\n",
       "      <td>https://www.usaspending.gov/award/ASST_NON_240...</td>\n",
       "      <td>2024-10-01</td>\n",
       "      <td>2028-09-30</td>\n",
       "      <td>941321740</td>\n",
       "      <td>F4SLJ5WF59F6</td>\n",
       "      <td>Providing computer science (CS) education to s...</td>\n",
       "      <td>False</td>\n",
       "    </tr>\n",
       "  </tbody>\n",
       "</table>\n",
       "<p>5 rows × 21 columns</p>\n",
       "</div>"
      ],
      "text/plain": [
       "   grant_number                                      project_title  \\\n",
       "0       2135329  Collaborative Research: Research: Early-Career...   \n",
       "1       2342099  MyTurn: An Afterschool Social Robotics Program...   \n",
       "2       2201103  Collaborative Research: The Organizational Cli...   \n",
       "3       2215382  Engaging Rural, Latinx Youth in an After Schoo...   \n",
       "4       2405633  Design Effective and Equitable Professional Le...   \n",
       "\n",
       "  termination_letter_date                                    org_name  \\\n",
       "0              2025-04-25                    University of New Mexico   \n",
       "1              2025-04-25           University of Illinois at Chicago   \n",
       "2              2025-04-25  American Society For Engineering Education   \n",
       "3              2025-04-25                                    TERC Inc   \n",
       "4              2025-04-25              San Francisco State University   \n",
       "\n",
       "        org_city org_state org_district  usaspending_obligated  \\\n",
       "0    ALBUQUERQUE        NM         NM01               190725.0   \n",
       "1        CHICAGO        IL         IL07               499999.0   \n",
       "2     WASHINGTON        DC         DC00               124241.0   \n",
       "3      CAMBRIDGE        MA         MA05              2601763.0   \n",
       "4  SAN FRANCISCO        CA         CA11               565771.0   \n",
       "\n",
       "         award_type directorate_abbrev  ...  \\\n",
       "0    Standard Grant                ENG  ...   \n",
       "1    Standard Grant                EDU  ...   \n",
       "2  Continuing Grant                EDU  ...   \n",
       "3  Continuing Grant                EDU  ...   \n",
       "4  Continuing Grant                EDU  ...   \n",
       "\n",
       "                                            division  \\\n",
       "0                  Engineering Education and Centers   \n",
       "1  Research on Learning in Formal and Informal Se...   \n",
       "2                      Equity for Excellence in STEM   \n",
       "3  Research on Learning in Formal and Informal Se...   \n",
       "4  Research on Learning in Formal and Informal Se...   \n",
       "\n",
       "                 nsf_program_name  \\\n",
       "0   ER2-Ethical & Responsible Res   \n",
       "1  ITEST-Inov Tech Exp Stu & Teac   \n",
       "2           ECR-EDU Core Research   \n",
       "3                            AISL   \n",
       "4         Discovery Research K-12   \n",
       "\n",
       "                                             nsf_url  \\\n",
       "0  https://www.nsf.gov/awardsearch/showAward?AWD_...   \n",
       "1  https://www.nsf.gov/awardsearch/showAward?AWD_...   \n",
       "2  https://www.nsf.gov/awardsearch/showAward?AWD_...   \n",
       "3  https://www.nsf.gov/awardsearch/showAward?AWD_...   \n",
       "4  https://www.nsf.gov/awardsearch/showAward?AWD_...   \n",
       "\n",
       "                                     usaspending_url nsf_startdate  \\\n",
       "0  https://www.usaspending.gov/award/ASST_NON_213...    2022-09-01   \n",
       "1  https://www.usaspending.gov/award/ASST_NON_234...    2024-08-15   \n",
       "2  https://www.usaspending.gov/award/ASST_NON_220...    2022-08-01   \n",
       "3  https://www.usaspending.gov/award/ASST_NON_221...    2022-08-01   \n",
       "4  https://www.usaspending.gov/award/ASST_NON_240...    2024-10-01   \n",
       "\n",
       "  nsf_expected_end_date    org_zip       org_uei  \\\n",
       "0            2025-04-18  871310001  F6XLTRUQJEN4   \n",
       "1            2027-07-31  606124305  W8XEAJDKMXH3   \n",
       "2            2026-07-31  200362476  F6G9C4HMNHW4   \n",
       "3            2026-07-31   21401339  GSLCJ3M62XX1   \n",
       "4            2028-09-30  941321740  F4SLJ5WF59F6   \n",
       "\n",
       "                                            abstract in_cruz_list  \n",
       "0  Transportation systems, computing algorithms, ...         True  \n",
       "1  Computational thinking and robotics are increa...        False  \n",
       "2  The ongoing lack of diversity in the engineeri...         True  \n",
       "3  The project will develop and research an after...         True  \n",
       "4  Providing computer science (CS) education to s...        False  \n",
       "\n",
       "[5 rows x 21 columns]"
      ]
     },
     "execution_count": 3,
     "metadata": {},
     "output_type": "execute_result"
    }
   ],
   "source": [
    "nsf_terminations.head()"
   ]
  },
  {
   "cell_type": "code",
   "execution_count": 84,
   "id": "03e05d63-89b9-4daa-9849-1751a9a9ed72",
   "metadata": {},
   "outputs": [
    {
     "data": {
      "text/plain": [
       "array(['2025-04-25', '2025-04-22', '2025-04-21', '2025-04-18'],\n",
       "      dtype=object)"
      ]
     },
     "execution_count": 84,
     "metadata": {},
     "output_type": "execute_result"
    }
   ],
   "source": [
    "nsf_terminations[\"termination_letter_date\"].unique()"
   ]
  },
  {
   "cell_type": "code",
   "execution_count": 8,
   "id": "3ffa6ef7-bbbc-4deb-a810-f730c8f6133c",
   "metadata": {},
   "outputs": [
    {
     "data": {
      "text/plain": [
       "Index(['grant_number', 'project_title', 'termination_letter_date', 'org_name',\n",
       "       'org_city', 'org_state', 'org_district', 'usaspending_obligated',\n",
       "       'award_type', 'directorate_abbrev', 'directorate', 'division',\n",
       "       'nsf_program_name', 'nsf_url', 'usaspending_url', 'nsf_startdate',\n",
       "       'nsf_expected_end_date', 'org_zip', 'org_uei', 'abstract',\n",
       "       'in_cruz_list'],\n",
       "      dtype='object')"
      ]
     },
     "execution_count": 8,
     "metadata": {},
     "output_type": "execute_result"
    }
   ],
   "source": [
    "nsf_terminations.columns"
   ]
  },
  {
   "cell_type": "code",
   "execution_count": 13,
   "id": "3f55490f-702f-4613-952f-151fd5d67309",
   "metadata": {},
   "outputs": [
    {
     "data": {
      "text/html": [
       "<div>\n",
       "<style scoped>\n",
       "    .dataframe tbody tr th:only-of-type {\n",
       "        vertical-align: middle;\n",
       "    }\n",
       "\n",
       "    .dataframe tbody tr th {\n",
       "        vertical-align: top;\n",
       "    }\n",
       "\n",
       "    .dataframe thead th {\n",
       "        text-align: right;\n",
       "    }\n",
       "</style>\n",
       "<table border=\"1\" class=\"dataframe\">\n",
       "  <thead>\n",
       "    <tr style=\"text-align: right;\">\n",
       "      <th></th>\n",
       "      <th>grant_number</th>\n",
       "      <th>project_title</th>\n",
       "      <th>termination_letter_date</th>\n",
       "      <th>org_name</th>\n",
       "      <th>org_city</th>\n",
       "      <th>org_state</th>\n",
       "      <th>org_district</th>\n",
       "      <th>usaspending_obligated</th>\n",
       "      <th>award_type</th>\n",
       "      <th>directorate_abbrev</th>\n",
       "      <th>directorate</th>\n",
       "      <th>division</th>\n",
       "      <th>nsf_program_name</th>\n",
       "      <th>nsf_url</th>\n",
       "      <th>usaspending_url</th>\n",
       "      <th>nsf_startdate</th>\n",
       "      <th>nsf_expected_end_date</th>\n",
       "      <th>org_zip</th>\n",
       "      <th>org_uei</th>\n",
       "      <th>abstract</th>\n",
       "      <th>in_cruz_list</th>\n",
       "    </tr>\n",
       "  </thead>\n",
       "  <tbody>\n",
       "    <tr>\n",
       "      <th>0</th>\n",
       "      <td>2135329</td>\n",
       "      <td>Collaborative Research: Research: Early-Career...</td>\n",
       "      <td>2025-04-25</td>\n",
       "      <td>University of New Mexico</td>\n",
       "      <td>ALBUQUERQUE</td>\n",
       "      <td>NM</td>\n",
       "      <td>NM01</td>\n",
       "      <td>190725.0</td>\n",
       "      <td>Standard Grant</td>\n",
       "      <td>ENG</td>\n",
       "      <td>Engineering</td>\n",
       "      <td>Engineering Education and Centers</td>\n",
       "      <td>ER2-Ethical &amp; Responsible Res</td>\n",
       "      <td>https://www.nsf.gov/awardsearch/showAward?AWD_...</td>\n",
       "      <td>https://www.usaspending.gov/award/ASST_NON_213...</td>\n",
       "      <td>2022-09-01</td>\n",
       "      <td>2025-04-18</td>\n",
       "      <td>871310001</td>\n",
       "      <td>F6XLTRUQJEN4</td>\n",
       "      <td>Transportation systems, computing algorithms, ...</td>\n",
       "      <td>True</td>\n",
       "    </tr>\n",
       "    <tr>\n",
       "      <th>1</th>\n",
       "      <td>2342099</td>\n",
       "      <td>MyTurn: An Afterschool Social Robotics Program...</td>\n",
       "      <td>2025-04-25</td>\n",
       "      <td>University of Illinois at Chicago</td>\n",
       "      <td>CHICAGO</td>\n",
       "      <td>IL</td>\n",
       "      <td>IL07</td>\n",
       "      <td>499999.0</td>\n",
       "      <td>Standard Grant</td>\n",
       "      <td>EDU</td>\n",
       "      <td>STEM Education</td>\n",
       "      <td>Research on Learning in Formal and Informal Se...</td>\n",
       "      <td>ITEST-Inov Tech Exp Stu &amp; Teac</td>\n",
       "      <td>https://www.nsf.gov/awardsearch/showAward?AWD_...</td>\n",
       "      <td>https://www.usaspending.gov/award/ASST_NON_234...</td>\n",
       "      <td>2024-08-15</td>\n",
       "      <td>2027-07-31</td>\n",
       "      <td>606124305</td>\n",
       "      <td>W8XEAJDKMXH3</td>\n",
       "      <td>Computational thinking and robotics are increa...</td>\n",
       "      <td>False</td>\n",
       "    </tr>\n",
       "    <tr>\n",
       "      <th>...</th>\n",
       "      <td>...</td>\n",
       "      <td>...</td>\n",
       "      <td>...</td>\n",
       "      <td>...</td>\n",
       "      <td>...</td>\n",
       "      <td>...</td>\n",
       "      <td>...</td>\n",
       "      <td>...</td>\n",
       "      <td>...</td>\n",
       "      <td>...</td>\n",
       "      <td>...</td>\n",
       "      <td>...</td>\n",
       "      <td>...</td>\n",
       "      <td>...</td>\n",
       "      <td>...</td>\n",
       "      <td>...</td>\n",
       "      <td>...</td>\n",
       "      <td>...</td>\n",
       "      <td>...</td>\n",
       "      <td>...</td>\n",
       "      <td>...</td>\n",
       "    </tr>\n",
       "    <tr>\n",
       "      <th>1039</th>\n",
       "      <td>2216826</td>\n",
       "      <td>Community of Neighboring and National Entrepre...</td>\n",
       "      <td>2025-04-18</td>\n",
       "      <td>St. Catherine University</td>\n",
       "      <td>SAINT PAUL</td>\n",
       "      <td>MN</td>\n",
       "      <td>MN04</td>\n",
       "      <td>75000.0</td>\n",
       "      <td>Standard Grant</td>\n",
       "      <td>BIO</td>\n",
       "      <td>Biological Sciences</td>\n",
       "      <td>Biological Infrastructure</td>\n",
       "      <td>UBE - Undergraduate Biology Ed</td>\n",
       "      <td>https://www.nsf.gov/awardsearch/showAward?AWD_...</td>\n",
       "      <td>https://www.usaspending.gov/award/ASST_NON_221...</td>\n",
       "      <td>2022-09-01</td>\n",
       "      <td>2025-08-31</td>\n",
       "      <td>551051750</td>\n",
       "      <td>RQJ5KM1LQ935</td>\n",
       "      <td>This project aims to serve the national intere...</td>\n",
       "      <td>True</td>\n",
       "    </tr>\n",
       "    <tr>\n",
       "      <th>1040</th>\n",
       "      <td>2210842</td>\n",
       "      <td>Collaborative Research: HCC: Designing Technol...</td>\n",
       "      <td>2025-04-18</td>\n",
       "      <td>University of California-Irvine</td>\n",
       "      <td>IRVINE</td>\n",
       "      <td>CA</td>\n",
       "      <td>CA47</td>\n",
       "      <td>90626.0</td>\n",
       "      <td>Standard Grant</td>\n",
       "      <td>CISE</td>\n",
       "      <td>Computer and Information Science and Engineering</td>\n",
       "      <td>Information and Intelligent Systems</td>\n",
       "      <td>HCC-Human-Centered Computing</td>\n",
       "      <td>https://www.nsf.gov/awardsearch/showAward?AWD_...</td>\n",
       "      <td>https://www.usaspending.gov/award/ASST_NON_221...</td>\n",
       "      <td>2022-10-01</td>\n",
       "      <td>2025-04-18</td>\n",
       "      <td>926970001</td>\n",
       "      <td>MJC5FCYQTPE6</td>\n",
       "      <td>This award supports research that examines the...</td>\n",
       "      <td>True</td>\n",
       "    </tr>\n",
       "  </tbody>\n",
       "</table>\n",
       "<p>1041 rows × 21 columns</p>\n",
       "</div>"
      ],
      "text/plain": [
       "      grant_number                                      project_title  \\\n",
       "0          2135329  Collaborative Research: Research: Early-Career...   \n",
       "1          2342099  MyTurn: An Afterschool Social Robotics Program...   \n",
       "...            ...                                                ...   \n",
       "1039       2216826  Community of Neighboring and National Entrepre...   \n",
       "1040       2210842  Collaborative Research: HCC: Designing Technol...   \n",
       "\n",
       "     termination_letter_date                           org_name     org_city  \\\n",
       "0                 2025-04-25           University of New Mexico  ALBUQUERQUE   \n",
       "1                 2025-04-25  University of Illinois at Chicago      CHICAGO   \n",
       "...                      ...                                ...          ...   \n",
       "1039              2025-04-18           St. Catherine University   SAINT PAUL   \n",
       "1040              2025-04-18    University of California-Irvine       IRVINE   \n",
       "\n",
       "     org_state org_district  usaspending_obligated      award_type  \\\n",
       "0           NM         NM01               190725.0  Standard Grant   \n",
       "1           IL         IL07               499999.0  Standard Grant   \n",
       "...        ...          ...                    ...             ...   \n",
       "1039        MN         MN04                75000.0  Standard Grant   \n",
       "1040        CA         CA47                90626.0  Standard Grant   \n",
       "\n",
       "     directorate_abbrev                                       directorate  \\\n",
       "0                   ENG                                       Engineering   \n",
       "1                   EDU                                    STEM Education   \n",
       "...                 ...                                               ...   \n",
       "1039                BIO                               Biological Sciences   \n",
       "1040               CISE  Computer and Information Science and Engineering   \n",
       "\n",
       "                                               division  \\\n",
       "0                     Engineering Education and Centers   \n",
       "1     Research on Learning in Formal and Informal Se...   \n",
       "...                                                 ...   \n",
       "1039                          Biological Infrastructure   \n",
       "1040                Information and Intelligent Systems   \n",
       "\n",
       "                    nsf_program_name  \\\n",
       "0      ER2-Ethical & Responsible Res   \n",
       "1     ITEST-Inov Tech Exp Stu & Teac   \n",
       "...                              ...   \n",
       "1039  UBE - Undergraduate Biology Ed   \n",
       "1040    HCC-Human-Centered Computing   \n",
       "\n",
       "                                                nsf_url  \\\n",
       "0     https://www.nsf.gov/awardsearch/showAward?AWD_...   \n",
       "1     https://www.nsf.gov/awardsearch/showAward?AWD_...   \n",
       "...                                                 ...   \n",
       "1039  https://www.nsf.gov/awardsearch/showAward?AWD_...   \n",
       "1040  https://www.nsf.gov/awardsearch/showAward?AWD_...   \n",
       "\n",
       "                                        usaspending_url nsf_startdate  \\\n",
       "0     https://www.usaspending.gov/award/ASST_NON_213...    2022-09-01   \n",
       "1     https://www.usaspending.gov/award/ASST_NON_234...    2024-08-15   \n",
       "...                                                 ...           ...   \n",
       "1039  https://www.usaspending.gov/award/ASST_NON_221...    2022-09-01   \n",
       "1040  https://www.usaspending.gov/award/ASST_NON_221...    2022-10-01   \n",
       "\n",
       "     nsf_expected_end_date    org_zip       org_uei  \\\n",
       "0               2025-04-18  871310001  F6XLTRUQJEN4   \n",
       "1               2027-07-31  606124305  W8XEAJDKMXH3   \n",
       "...                    ...        ...           ...   \n",
       "1039            2025-08-31  551051750  RQJ5KM1LQ935   \n",
       "1040            2025-04-18  926970001  MJC5FCYQTPE6   \n",
       "\n",
       "                                               abstract  in_cruz_list  \n",
       "0     Transportation systems, computing algorithms, ...          True  \n",
       "1     Computational thinking and robotics are increa...         False  \n",
       "...                                                 ...           ...  \n",
       "1039  This project aims to serve the national intere...          True  \n",
       "1040  This award supports research that examines the...          True  \n",
       "\n",
       "[1041 rows x 21 columns]"
      ]
     },
     "metadata": {},
     "output_type": "display_data"
    }
   ],
   "source": [
    "with pd.option_context('display.max_rows', 5, 'display.max_columns', None): \n",
    "    display(nsf_terminations)\n"
   ]
  },
  {
   "cell_type": "code",
   "execution_count": 26,
   "id": "6eb851c8-eb4c-4cd5-891b-adf6b6a217b7",
   "metadata": {},
   "outputs": [
    {
     "data": {
      "text/plain": [
       "division\n",
       "Biological Infrastructure             35\n",
       "Emerging Frontiers                     1\n",
       "Environmental Biology                  5\n",
       "Integrative Organismal Systems         1\n",
       "Molecular and Cellular Biosciences     3\n",
       "dtype: int64"
      ]
     },
     "execution_count": 26,
     "metadata": {},
     "output_type": "execute_result"
    }
   ],
   "source": [
    "nsf_terminations.groupby('directorate').get_group(\"Biological Sciences\").groupby(\"division\").size()"
   ]
  },
  {
   "cell_type": "code",
   "execution_count": 56,
   "id": "8417093f-cad3-4355-a425-19f51f5f9a61",
   "metadata": {},
   "outputs": [
    {
     "data": {
      "text/html": [
       "<div>\n",
       "<style scoped>\n",
       "    .dataframe tbody tr th:only-of-type {\n",
       "        vertical-align: middle;\n",
       "    }\n",
       "\n",
       "    .dataframe tbody tr th {\n",
       "        vertical-align: top;\n",
       "    }\n",
       "\n",
       "    .dataframe thead th {\n",
       "        text-align: right;\n",
       "    }\n",
       "</style>\n",
       "<table border=\"1\" class=\"dataframe\">\n",
       "  <thead>\n",
       "    <tr style=\"text-align: right;\">\n",
       "      <th></th>\n",
       "      <th>grant_number</th>\n",
       "      <th>project_title</th>\n",
       "      <th>termination_letter_date</th>\n",
       "      <th>org_name</th>\n",
       "      <th>org_city</th>\n",
       "      <th>org_state</th>\n",
       "      <th>org_district</th>\n",
       "      <th>usaspending_obligated</th>\n",
       "      <th>award_type</th>\n",
       "      <th>directorate_abbrev</th>\n",
       "      <th>...</th>\n",
       "      <th>division</th>\n",
       "      <th>nsf_program_name</th>\n",
       "      <th>nsf_url</th>\n",
       "      <th>usaspending_url</th>\n",
       "      <th>nsf_startdate</th>\n",
       "      <th>nsf_expected_end_date</th>\n",
       "      <th>org_zip</th>\n",
       "      <th>org_uei</th>\n",
       "      <th>abstract</th>\n",
       "      <th>in_cruz_list</th>\n",
       "    </tr>\n",
       "  </thead>\n",
       "  <tbody>\n",
       "    <tr>\n",
       "      <th>1</th>\n",
       "      <td>2342099</td>\n",
       "      <td>MyTurn: An Afterschool Social Robotics Program...</td>\n",
       "      <td>2025-04-25</td>\n",
       "      <td>University of Illinois at Chicago</td>\n",
       "      <td>CHICAGO</td>\n",
       "      <td>IL</td>\n",
       "      <td>IL07</td>\n",
       "      <td>499999.0</td>\n",
       "      <td>Standard Grant</td>\n",
       "      <td>EDU</td>\n",
       "      <td>...</td>\n",
       "      <td>Research on Learning in Formal and Informal Se...</td>\n",
       "      <td>ITEST-Inov Tech Exp Stu &amp; Teac</td>\n",
       "      <td>https://www.nsf.gov/awardsearch/showAward?AWD_...</td>\n",
       "      <td>https://www.usaspending.gov/award/ASST_NON_234...</td>\n",
       "      <td>2024-08-15</td>\n",
       "      <td>2027-07-31</td>\n",
       "      <td>606124305</td>\n",
       "      <td>W8XEAJDKMXH3</td>\n",
       "      <td>Computational thinking and robotics are increa...</td>\n",
       "      <td>False</td>\n",
       "    </tr>\n",
       "    <tr>\n",
       "      <th>3</th>\n",
       "      <td>2215382</td>\n",
       "      <td>Engaging Rural, Latinx Youth in an After Schoo...</td>\n",
       "      <td>2025-04-25</td>\n",
       "      <td>TERC Inc</td>\n",
       "      <td>CAMBRIDGE</td>\n",
       "      <td>MA</td>\n",
       "      <td>MA05</td>\n",
       "      <td>2601763.0</td>\n",
       "      <td>Continuing Grant</td>\n",
       "      <td>EDU</td>\n",
       "      <td>...</td>\n",
       "      <td>Research on Learning in Formal and Informal Se...</td>\n",
       "      <td>AISL</td>\n",
       "      <td>https://www.nsf.gov/awardsearch/showAward?AWD_...</td>\n",
       "      <td>https://www.usaspending.gov/award/ASST_NON_221...</td>\n",
       "      <td>2022-08-01</td>\n",
       "      <td>2026-07-31</td>\n",
       "      <td>21401339</td>\n",
       "      <td>GSLCJ3M62XX1</td>\n",
       "      <td>The project will develop and research an after...</td>\n",
       "      <td>True</td>\n",
       "    </tr>\n",
       "    <tr>\n",
       "      <th>4</th>\n",
       "      <td>2405633</td>\n",
       "      <td>Design Effective and Equitable Professional Le...</td>\n",
       "      <td>2025-04-25</td>\n",
       "      <td>San Francisco State University</td>\n",
       "      <td>SAN FRANCISCO</td>\n",
       "      <td>CA</td>\n",
       "      <td>CA11</td>\n",
       "      <td>565771.0</td>\n",
       "      <td>Continuing Grant</td>\n",
       "      <td>EDU</td>\n",
       "      <td>...</td>\n",
       "      <td>Research on Learning in Formal and Informal Se...</td>\n",
       "      <td>Discovery Research K-12</td>\n",
       "      <td>https://www.nsf.gov/awardsearch/showAward?AWD_...</td>\n",
       "      <td>https://www.usaspending.gov/award/ASST_NON_240...</td>\n",
       "      <td>2024-10-01</td>\n",
       "      <td>2028-09-30</td>\n",
       "      <td>941321740</td>\n",
       "      <td>F4SLJ5WF59F6</td>\n",
       "      <td>Providing computer science (CS) education to s...</td>\n",
       "      <td>False</td>\n",
       "    </tr>\n",
       "    <tr>\n",
       "      <th>9</th>\n",
       "      <td>2215138</td>\n",
       "      <td>BRITE Girls Online STEM Practices: Building Re...</td>\n",
       "      <td>2025-04-25</td>\n",
       "      <td>Florida State University</td>\n",
       "      <td>TALLAHASSEE</td>\n",
       "      <td>FL</td>\n",
       "      <td>FL02</td>\n",
       "      <td>1902274.0</td>\n",
       "      <td>Standard Grant</td>\n",
       "      <td>EDU</td>\n",
       "      <td>...</td>\n",
       "      <td>Research on Learning in Formal and Informal Se...</td>\n",
       "      <td>AISL</td>\n",
       "      <td>https://www.nsf.gov/awardsearch/showAward?AWD_...</td>\n",
       "      <td>https://www.usaspending.gov/award/ASST_NON_221...</td>\n",
       "      <td>2022-08-15</td>\n",
       "      <td>2026-07-31</td>\n",
       "      <td>323060001</td>\n",
       "      <td>JF2BLNN4PJC3</td>\n",
       "      <td>Despite decades of policies and programs meant...</td>\n",
       "      <td>True</td>\n",
       "    </tr>\n",
       "    <tr>\n",
       "      <th>11</th>\n",
       "      <td>2201797</td>\n",
       "      <td>Collaborative Research: Investigating Gender D...</td>\n",
       "      <td>2025-04-25</td>\n",
       "      <td>University of North Carolina at Chapel Hill</td>\n",
       "      <td>CHAPEL HILL</td>\n",
       "      <td>NC</td>\n",
       "      <td>NC04</td>\n",
       "      <td>68319.0</td>\n",
       "      <td>Continuing Grant</td>\n",
       "      <td>EDU</td>\n",
       "      <td>...</td>\n",
       "      <td>Research on Learning in Formal and Informal Se...</td>\n",
       "      <td>ECR-EDU Core Research</td>\n",
       "      <td>https://www.nsf.gov/awardsearch/showAward?AWD_...</td>\n",
       "      <td>https://www.usaspending.gov/award/ASST_NON_220...</td>\n",
       "      <td>2022-07-01</td>\n",
       "      <td>2025-06-30</td>\n",
       "      <td>275995023</td>\n",
       "      <td>D3LHU66KBLD5</td>\n",
       "      <td>Despite evidence that gender differences in ma...</td>\n",
       "      <td>True</td>\n",
       "    </tr>\n",
       "    <tr>\n",
       "      <th>...</th>\n",
       "      <td>...</td>\n",
       "      <td>...</td>\n",
       "      <td>...</td>\n",
       "      <td>...</td>\n",
       "      <td>...</td>\n",
       "      <td>...</td>\n",
       "      <td>...</td>\n",
       "      <td>...</td>\n",
       "      <td>...</td>\n",
       "      <td>...</td>\n",
       "      <td>...</td>\n",
       "      <td>...</td>\n",
       "      <td>...</td>\n",
       "      <td>...</td>\n",
       "      <td>...</td>\n",
       "      <td>...</td>\n",
       "      <td>...</td>\n",
       "      <td>...</td>\n",
       "      <td>...</td>\n",
       "      <td>...</td>\n",
       "      <td>...</td>\n",
       "    </tr>\n",
       "    <tr>\n",
       "      <th>1012</th>\n",
       "      <td>2314307</td>\n",
       "      <td>Voces de Esperanza (Voices of Hope): An Exhibi...</td>\n",
       "      <td>2025-04-18</td>\n",
       "      <td>Oregon Museum of Science and Industry</td>\n",
       "      <td>PORTLAND</td>\n",
       "      <td>OR</td>\n",
       "      <td>OR01</td>\n",
       "      <td>2098013.0</td>\n",
       "      <td>Standard Grant</td>\n",
       "      <td>EDU</td>\n",
       "      <td>...</td>\n",
       "      <td>Research on Learning in Formal and Informal Se...</td>\n",
       "      <td>OFFICE OF MULTIDISCIPLINARY AC</td>\n",
       "      <td>https://www.nsf.gov/awardsearch/showAward?AWD_...</td>\n",
       "      <td>https://www.usaspending.gov/award/ASST_NON_231...</td>\n",
       "      <td>2023-09-01</td>\n",
       "      <td>2025-04-18</td>\n",
       "      <td>972143356</td>\n",
       "      <td>CLUFG5P4B554</td>\n",
       "      <td>This Integrating Research and Practice project...</td>\n",
       "      <td>True</td>\n",
       "    </tr>\n",
       "    <tr>\n",
       "      <th>1021</th>\n",
       "      <td>2302773</td>\n",
       "      <td>Collaborative Research: Developing and Researc...</td>\n",
       "      <td>2025-04-18</td>\n",
       "      <td>University of Texas at Austin</td>\n",
       "      <td>AUSTIN</td>\n",
       "      <td>TX</td>\n",
       "      <td>TX25</td>\n",
       "      <td>585290.0</td>\n",
       "      <td>Continuing Grant</td>\n",
       "      <td>EDU</td>\n",
       "      <td>...</td>\n",
       "      <td>Research on Learning in Formal and Informal Se...</td>\n",
       "      <td>Discovery Research K-12</td>\n",
       "      <td>https://www.nsf.gov/awardsearch/showAward?AWD_...</td>\n",
       "      <td>https://www.usaspending.gov/award/ASST_NON_230...</td>\n",
       "      <td>2023-01-01</td>\n",
       "      <td>2025-04-18</td>\n",
       "      <td>787121139</td>\n",
       "      <td>V6AFQPN18437</td>\n",
       "      <td>There is increased recognition that engaging a...</td>\n",
       "      <td>True</td>\n",
       "    </tr>\n",
       "    <tr>\n",
       "      <th>1029</th>\n",
       "      <td>2301115</td>\n",
       "      <td>Collaborative Research: Examining the Longitud...</td>\n",
       "      <td>2025-04-18</td>\n",
       "      <td>University of Texas at San Antonio</td>\n",
       "      <td>SAN ANTONIO</td>\n",
       "      <td>TX</td>\n",
       "      <td>TX20</td>\n",
       "      <td>158787.0</td>\n",
       "      <td>Continuing Grant</td>\n",
       "      <td>EDU</td>\n",
       "      <td>...</td>\n",
       "      <td>Research on Learning in Formal and Informal Se...</td>\n",
       "      <td>Discovery Research K-12</td>\n",
       "      <td>https://www.nsf.gov/awardsearch/showAward?AWD_...</td>\n",
       "      <td>https://www.usaspending.gov/award/ASST_NON_230...</td>\n",
       "      <td>2023-08-15</td>\n",
       "      <td>2027-07-31</td>\n",
       "      <td>782491644</td>\n",
       "      <td>U44ZMVYU52U6</td>\n",
       "      <td>Preparing teachers to create equitable mathema...</td>\n",
       "      <td>True</td>\n",
       "    </tr>\n",
       "    <tr>\n",
       "      <th>1036</th>\n",
       "      <td>2411129</td>\n",
       "      <td>Community-Situated Data Practices in Multiethn...</td>\n",
       "      <td>2025-04-18</td>\n",
       "      <td>Michigan State University</td>\n",
       "      <td>EAST LANSING</td>\n",
       "      <td>MI</td>\n",
       "      <td>MI07</td>\n",
       "      <td>1736866.0</td>\n",
       "      <td>Continuing Grant</td>\n",
       "      <td>EDU</td>\n",
       "      <td>...</td>\n",
       "      <td>Research on Learning in Formal and Informal Se...</td>\n",
       "      <td>Discovery Research K-12</td>\n",
       "      <td>https://www.nsf.gov/awardsearch/showAward?AWD_...</td>\n",
       "      <td>https://www.usaspending.gov/award/ASST_NON_241...</td>\n",
       "      <td>2024-09-15</td>\n",
       "      <td>2029-08-31</td>\n",
       "      <td>488242600</td>\n",
       "      <td>R28EKN92ZTZ9</td>\n",
       "      <td>Broadening STEM research and education to incl...</td>\n",
       "      <td>False</td>\n",
       "    </tr>\n",
       "    <tr>\n",
       "      <th>1037</th>\n",
       "      <td>2224674</td>\n",
       "      <td>Collaborative Research: Engaging Marginalized ...</td>\n",
       "      <td>2025-04-18</td>\n",
       "      <td>George Mason University</td>\n",
       "      <td>FAIRFAX</td>\n",
       "      <td>VA</td>\n",
       "      <td>VA11</td>\n",
       "      <td>439380.0</td>\n",
       "      <td>Continuing Grant</td>\n",
       "      <td>EDU</td>\n",
       "      <td>...</td>\n",
       "      <td>Research on Learning in Formal and Informal Se...</td>\n",
       "      <td>ECR-EDU Core Research</td>\n",
       "      <td>https://www.nsf.gov/awardsearch/showAward?AWD_...</td>\n",
       "      <td>https://www.usaspending.gov/award/ASST_NON_222...</td>\n",
       "      <td>2023-06-15</td>\n",
       "      <td>2028-05-31</td>\n",
       "      <td>220304422</td>\n",
       "      <td>EADLFP7Z72E5</td>\n",
       "      <td>This collaborative project investigates the la...</td>\n",
       "      <td>True</td>\n",
       "    </tr>\n",
       "  </tbody>\n",
       "</table>\n",
       "<p>231 rows × 21 columns</p>\n",
       "</div>"
      ],
      "text/plain": [
       "      grant_number                                      project_title  \\\n",
       "1          2342099  MyTurn: An Afterschool Social Robotics Program...   \n",
       "3          2215382  Engaging Rural, Latinx Youth in an After Schoo...   \n",
       "4          2405633  Design Effective and Equitable Professional Le...   \n",
       "9          2215138  BRITE Girls Online STEM Practices: Building Re...   \n",
       "11         2201797  Collaborative Research: Investigating Gender D...   \n",
       "...            ...                                                ...   \n",
       "1012       2314307  Voces de Esperanza (Voices of Hope): An Exhibi...   \n",
       "1021       2302773  Collaborative Research: Developing and Researc...   \n",
       "1029       2301115  Collaborative Research: Examining the Longitud...   \n",
       "1036       2411129  Community-Situated Data Practices in Multiethn...   \n",
       "1037       2224674  Collaborative Research: Engaging Marginalized ...   \n",
       "\n",
       "     termination_letter_date                                     org_name  \\\n",
       "1                 2025-04-25            University of Illinois at Chicago   \n",
       "3                 2025-04-25                                     TERC Inc   \n",
       "4                 2025-04-25               San Francisco State University   \n",
       "9                 2025-04-25                     Florida State University   \n",
       "11                2025-04-25  University of North Carolina at Chapel Hill   \n",
       "...                      ...                                          ...   \n",
       "1012              2025-04-18        Oregon Museum of Science and Industry   \n",
       "1021              2025-04-18                University of Texas at Austin   \n",
       "1029              2025-04-18           University of Texas at San Antonio   \n",
       "1036              2025-04-18                    Michigan State University   \n",
       "1037              2025-04-18                      George Mason University   \n",
       "\n",
       "           org_city org_state org_district  usaspending_obligated  \\\n",
       "1           CHICAGO        IL         IL07               499999.0   \n",
       "3         CAMBRIDGE        MA         MA05              2601763.0   \n",
       "4     SAN FRANCISCO        CA         CA11               565771.0   \n",
       "9       TALLAHASSEE        FL         FL02              1902274.0   \n",
       "11      CHAPEL HILL        NC         NC04                68319.0   \n",
       "...             ...       ...          ...                    ...   \n",
       "1012       PORTLAND        OR         OR01              2098013.0   \n",
       "1021         AUSTIN        TX         TX25               585290.0   \n",
       "1029    SAN ANTONIO        TX         TX20               158787.0   \n",
       "1036   EAST LANSING        MI         MI07              1736866.0   \n",
       "1037        FAIRFAX        VA         VA11               439380.0   \n",
       "\n",
       "            award_type directorate_abbrev  ...  \\\n",
       "1       Standard Grant                EDU  ...   \n",
       "3     Continuing Grant                EDU  ...   \n",
       "4     Continuing Grant                EDU  ...   \n",
       "9       Standard Grant                EDU  ...   \n",
       "11    Continuing Grant                EDU  ...   \n",
       "...                ...                ...  ...   \n",
       "1012    Standard Grant                EDU  ...   \n",
       "1021  Continuing Grant                EDU  ...   \n",
       "1029  Continuing Grant                EDU  ...   \n",
       "1036  Continuing Grant                EDU  ...   \n",
       "1037  Continuing Grant                EDU  ...   \n",
       "\n",
       "                                               division  \\\n",
       "1     Research on Learning in Formal and Informal Se...   \n",
       "3     Research on Learning in Formal and Informal Se...   \n",
       "4     Research on Learning in Formal and Informal Se...   \n",
       "9     Research on Learning in Formal and Informal Se...   \n",
       "11    Research on Learning in Formal and Informal Se...   \n",
       "...                                                 ...   \n",
       "1012  Research on Learning in Formal and Informal Se...   \n",
       "1021  Research on Learning in Formal and Informal Se...   \n",
       "1029  Research on Learning in Formal and Informal Se...   \n",
       "1036  Research on Learning in Formal and Informal Se...   \n",
       "1037  Research on Learning in Formal and Informal Se...   \n",
       "\n",
       "                    nsf_program_name  \\\n",
       "1     ITEST-Inov Tech Exp Stu & Teac   \n",
       "3                               AISL   \n",
       "4            Discovery Research K-12   \n",
       "9                               AISL   \n",
       "11             ECR-EDU Core Research   \n",
       "...                              ...   \n",
       "1012  OFFICE OF MULTIDISCIPLINARY AC   \n",
       "1021         Discovery Research K-12   \n",
       "1029         Discovery Research K-12   \n",
       "1036         Discovery Research K-12   \n",
       "1037           ECR-EDU Core Research   \n",
       "\n",
       "                                                nsf_url  \\\n",
       "1     https://www.nsf.gov/awardsearch/showAward?AWD_...   \n",
       "3     https://www.nsf.gov/awardsearch/showAward?AWD_...   \n",
       "4     https://www.nsf.gov/awardsearch/showAward?AWD_...   \n",
       "9     https://www.nsf.gov/awardsearch/showAward?AWD_...   \n",
       "11    https://www.nsf.gov/awardsearch/showAward?AWD_...   \n",
       "...                                                 ...   \n",
       "1012  https://www.nsf.gov/awardsearch/showAward?AWD_...   \n",
       "1021  https://www.nsf.gov/awardsearch/showAward?AWD_...   \n",
       "1029  https://www.nsf.gov/awardsearch/showAward?AWD_...   \n",
       "1036  https://www.nsf.gov/awardsearch/showAward?AWD_...   \n",
       "1037  https://www.nsf.gov/awardsearch/showAward?AWD_...   \n",
       "\n",
       "                                        usaspending_url nsf_startdate  \\\n",
       "1     https://www.usaspending.gov/award/ASST_NON_234...    2024-08-15   \n",
       "3     https://www.usaspending.gov/award/ASST_NON_221...    2022-08-01   \n",
       "4     https://www.usaspending.gov/award/ASST_NON_240...    2024-10-01   \n",
       "9     https://www.usaspending.gov/award/ASST_NON_221...    2022-08-15   \n",
       "11    https://www.usaspending.gov/award/ASST_NON_220...    2022-07-01   \n",
       "...                                                 ...           ...   \n",
       "1012  https://www.usaspending.gov/award/ASST_NON_231...    2023-09-01   \n",
       "1021  https://www.usaspending.gov/award/ASST_NON_230...    2023-01-01   \n",
       "1029  https://www.usaspending.gov/award/ASST_NON_230...    2023-08-15   \n",
       "1036  https://www.usaspending.gov/award/ASST_NON_241...    2024-09-15   \n",
       "1037  https://www.usaspending.gov/award/ASST_NON_222...    2023-06-15   \n",
       "\n",
       "     nsf_expected_end_date    org_zip       org_uei  \\\n",
       "1               2027-07-31  606124305  W8XEAJDKMXH3   \n",
       "3               2026-07-31   21401339  GSLCJ3M62XX1   \n",
       "4               2028-09-30  941321740  F4SLJ5WF59F6   \n",
       "9               2026-07-31  323060001  JF2BLNN4PJC3   \n",
       "11              2025-06-30  275995023  D3LHU66KBLD5   \n",
       "...                    ...        ...           ...   \n",
       "1012            2025-04-18  972143356  CLUFG5P4B554   \n",
       "1021            2025-04-18  787121139  V6AFQPN18437   \n",
       "1029            2027-07-31  782491644  U44ZMVYU52U6   \n",
       "1036            2029-08-31  488242600  R28EKN92ZTZ9   \n",
       "1037            2028-05-31  220304422  EADLFP7Z72E5   \n",
       "\n",
       "                                               abstract in_cruz_list  \n",
       "1     Computational thinking and robotics are increa...        False  \n",
       "3     The project will develop and research an after...         True  \n",
       "4     Providing computer science (CS) education to s...        False  \n",
       "9     Despite decades of policies and programs meant...         True  \n",
       "11    Despite evidence that gender differences in ma...         True  \n",
       "...                                                 ...          ...  \n",
       "1012  This Integrating Research and Practice project...         True  \n",
       "1021  There is increased recognition that engaging a...         True  \n",
       "1029  Preparing teachers to create equitable mathema...         True  \n",
       "1036  Broadening STEM research and education to incl...        False  \n",
       "1037  This collaborative project investigates the la...         True  \n",
       "\n",
       "[231 rows x 21 columns]"
      ]
     },
     "execution_count": 56,
     "metadata": {},
     "output_type": "execute_result"
    }
   ],
   "source": [
    "nsf_terminations.groupby('division').get_group(\"Research on Learning in Formal and Informal Settings\")"
   ]
  },
  {
   "cell_type": "code",
   "execution_count": 97,
   "id": "e0309c76-014f-433c-82cf-160a9ff1ba5e",
   "metadata": {},
   "outputs": [
    {
     "data": {
      "text/html": [
       "<div>\n",
       "<style scoped>\n",
       "    .dataframe tbody tr th:only-of-type {\n",
       "        vertical-align: middle;\n",
       "    }\n",
       "\n",
       "    .dataframe tbody tr th {\n",
       "        vertical-align: top;\n",
       "    }\n",
       "\n",
       "    .dataframe thead th {\n",
       "        text-align: right;\n",
       "    }\n",
       "</style>\n",
       "<table border=\"1\" class=\"dataframe\">\n",
       "  <thead>\n",
       "    <tr style=\"text-align: right;\">\n",
       "      <th></th>\n",
       "      <th>Division</th>\n",
       "      <th>No. of grants</th>\n",
       "      <th>Total funding</th>\n",
       "    </tr>\n",
       "  </thead>\n",
       "  <tbody>\n",
       "    <tr>\n",
       "      <th>28</th>\n",
       "      <td>Research on Learning in Formal and Informal Se...</td>\n",
       "      <td>231</td>\n",
       "      <td>216146001</td>\n",
       "    </tr>\n",
       "    <tr>\n",
       "      <th>14</th>\n",
       "      <td>Equity for Excellence in STEM</td>\n",
       "      <td>111</td>\n",
       "      <td>57882298</td>\n",
       "    </tr>\n",
       "    <tr>\n",
       "      <th>31</th>\n",
       "      <td>Technology, Innovation and Partnerships</td>\n",
       "      <td>32</td>\n",
       "      <td>51953341</td>\n",
       "    </tr>\n",
       "    <tr>\n",
       "      <th>30</th>\n",
       "      <td>Social and Economic Sciences</td>\n",
       "      <td>145</td>\n",
       "      <td>42730299</td>\n",
       "    </tr>\n",
       "    <tr>\n",
       "      <th>7</th>\n",
       "      <td>Computer and Network Systems</td>\n",
       "      <td>61</td>\n",
       "      <td>34970002</td>\n",
       "    </tr>\n",
       "    <tr>\n",
       "      <th>15</th>\n",
       "      <td>Graduate Education</td>\n",
       "      <td>40</td>\n",
       "      <td>31958992</td>\n",
       "    </tr>\n",
       "    <tr>\n",
       "      <th>29</th>\n",
       "      <td>Research, Innovation, Synergies, and Education</td>\n",
       "      <td>30</td>\n",
       "      <td>27646019</td>\n",
       "    </tr>\n",
       "    <tr>\n",
       "      <th>12</th>\n",
       "      <td>Engineering Education and Centers</td>\n",
       "      <td>66</td>\n",
       "      <td>23860134</td>\n",
       "    </tr>\n",
       "    <tr>\n",
       "      <th>3</th>\n",
       "      <td>Biological Infrastructure</td>\n",
       "      <td>35</td>\n",
       "      <td>22931877</td>\n",
       "    </tr>\n",
       "    <tr>\n",
       "      <th>2</th>\n",
       "      <td>Behavioral and Cognitive Sciences</td>\n",
       "      <td>71</td>\n",
       "      <td>22906439</td>\n",
       "    </tr>\n",
       "  </tbody>\n",
       "</table>\n",
       "</div>"
      ],
      "text/plain": [
       "                                             Division No. of grants  \\\n",
       "28  Research on Learning in Formal and Informal Se...           231   \n",
       "14                      Equity for Excellence in STEM           111   \n",
       "31            Technology, Innovation and Partnerships            32   \n",
       "30                       Social and Economic Sciences           145   \n",
       "7                        Computer and Network Systems            61   \n",
       "15                                 Graduate Education            40   \n",
       "29     Research, Innovation, Synergies, and Education            30   \n",
       "12                  Engineering Education and Centers            66   \n",
       "3                           Biological Infrastructure            35   \n",
       "2                   Behavioral and Cognitive Sciences            71   \n",
       "\n",
       "    Total funding  \n",
       "28      216146001  \n",
       "14       57882298  \n",
       "31       51953341  \n",
       "30       42730299  \n",
       "7        34970002  \n",
       "15       31958992  \n",
       "29       27646019  \n",
       "12       23860134  \n",
       "3        22931877  \n",
       "2        22906439  "
      ]
     },
     "execution_count": 97,
     "metadata": {},
     "output_type": "execute_result"
    }
   ],
   "source": [
    "df_new = pd.DataFrame()\n",
    "for name, group in  nsf_terminations.groupby('division'):\n",
    "#    print(name, group.shape[0], f'{group[\"usaspending_obligated\"].sum():,.0f}')\n",
    "    df_temp = pd.DataFrame([name, group.shape[0], group[\"usaspending_obligated\"].sum()]).T\n",
    "    df_new = pd.concat([df_new, df_temp], ignore_index=True)\n",
    "df_new.columns = [\"Division\", \"No. of grants\", \"Total funding\"]\n",
    "df_new[\"Total funding\"] = df_new[\"Total funding\"].astype(int)\n",
    "df_new = df_new.sort_values(\"Total funding\", ascending=False)\n",
    "#df_new[\"Total funding\"] = df_new[\"Total funding\"].apply(lambda x: \"{:,.0f}\".format(x))\n",
    "df_new.nlargest(10,\"Total funding\")"
   ]
  },
  {
   "cell_type": "code",
   "execution_count": 98,
   "id": "00fd12d7-2a77-49a9-8530-d6393923460e",
   "metadata": {},
   "outputs": [
    {
     "name": "stdout",
     "output_type": "stream",
     "text": [
      "\"Social, Behavioral and Economic Sciences\"\n",
      "division\n",
      "Behavioral and Cognitive Sciences     71\n",
      "Multidisciplinary Activities          50\n",
      "Social and Economic Sciences         145\n",
      "dtype: int64\n",
      "division\n",
      "Behavioral and Cognitive Sciences    22906439.0\n",
      "Multidisciplinary Activities         11999166.0\n",
      "Social and Economic Sciences         42730299.0\n",
      "Name: usaspending_obligated, dtype: float64\n",
      "\"Technology, Innovation and Partnerships\"\n",
      "division\n",
      "Industrial Innovation                       1\n",
      "Technology, Innovation and Partnerships    32\n",
      "Translational Impacts                      12\n",
      "dtype: int64\n",
      "division\n",
      "Industrial Innovation                        266000.0\n",
      "Technology, Innovation and Partnerships    51953341.0\n",
      "Translational Impacts                       8811969.0\n",
      "Name: usaspending_obligated, dtype: float64\n",
      "Biological Sciences\n",
      "division\n",
      "Biological Infrastructure             35\n",
      "Emerging Frontiers                     1\n",
      "Environmental Biology                  5\n",
      "Integrative Organismal Systems         1\n",
      "Molecular and Cellular Biosciences     3\n",
      "dtype: int64\n",
      "division\n",
      "Biological Infrastructure             22931877.0\n",
      "Emerging Frontiers                      109940.0\n",
      "Environmental Biology                  2251615.0\n",
      "Integrative Organismal Systems           53487.0\n",
      "Molecular and Cellular Biosciences     2164581.0\n",
      "Name: usaspending_obligated, dtype: float64\n",
      "Computer and Information Science and Engineering\n",
      "division\n",
      "Computer and Network Systems               61\n",
      "Computing and Communication Foundations     3\n",
      "Information and Intelligent Systems        21\n",
      "dtype: int64\n",
      "division\n",
      "Computer and Network Systems               34970002.0\n",
      "Computing and Communication Foundations     1798703.0\n",
      "Information and Intelligent Systems         7861408.0\n",
      "Name: usaspending_obligated, dtype: float64\n",
      "Engineering\n",
      "division\n",
      "Chemical, Bioengineering, Environmental and Transport Systems     6\n",
      "Civil, Mechanical and Manufacturing Innovation                   21\n",
      "Electrical, Communications and Cyber Systems                      1\n",
      "Engineering Education and Centers                                66\n",
      "dtype: int64\n",
      "division\n",
      "Chemical, Bioengineering, Environmental and Transport Systems     3509018.0\n",
      "Civil, Mechanical and Manufacturing Innovation                    5603333.0\n",
      "Electrical, Communications and Cyber Systems                       500000.0\n",
      "Engineering Education and Centers                                23860134.0\n",
      "Name: usaspending_obligated, dtype: float64\n",
      "Geosciences\n",
      "division\n",
      "Atmospheric and Geospace Sciences                  1\n",
      "Earth Sciences                                     6\n",
      "Ocean Sciences                                     7\n",
      "Polar Programs                                     7\n",
      "Research, Innovation, Synergies, and Education    30\n",
      "dtype: int64\n",
      "division\n",
      "Atmospheric and Geospace Sciences                   524512.0\n",
      "Earth Sciences                                     3481099.0\n",
      "Ocean Sciences                                     2508883.0\n",
      "Polar Programs                                     1788468.0\n",
      "Research, Innovation, Synergies, and Education    27646019.0\n",
      "Name: usaspending_obligated, dtype: float64\n",
      "Mathematical and Physical Sciences\n",
      "division\n",
      "Astronomical Sciences                1\n",
      "Chemistry                            2\n",
      "MPS Multidisciplinary Activities     1\n",
      "Materials Research                   4\n",
      "Mathematical Sciences               15\n",
      "Physics                              7\n",
      "dtype: int64\n",
      "division\n",
      "Astronomical Sciences                247686.0\n",
      "Chemistry                            788800.0\n",
      "MPS Multidisciplinary Activities    1196064.0\n",
      "Materials Research                  1580715.0\n",
      "Mathematical Sciences               1939805.0\n",
      "Physics                              665242.0\n",
      "Name: usaspending_obligated, dtype: float64\n",
      "Office of the Director\n",
      "division\n",
      "International Science and Engineering    7\n",
      "dtype: int64\n",
      "division\n",
      "International Science and Engineering    4859738.0\n",
      "Name: usaspending_obligated, dtype: float64\n",
      "STEM Education\n",
      "division\n",
      "Equity for Excellence in STEM                           111\n",
      "Graduate Education                                       40\n",
      "Research on Learning in Formal and Informal Settings    231\n",
      "Undergraduate Education                                  34\n",
      "dtype: int64\n",
      "division\n",
      "Equity for Excellence in STEM                            57882298.0\n",
      "Graduate Education                                       31958992.0\n",
      "Research on Learning in Formal and Informal Settings    216146001.0\n",
      "Undergraduate Education                                  15767565.0\n",
      "Name: usaspending_obligated, dtype: float64\n"
     ]
    }
   ],
   "source": [
    "for name, group in  nsf_terminations.groupby('directorate'):\n",
    "    print(name)\n",
    "    print(group.groupby('division').size())\n",
    "    print(group.groupby('division')[\"usaspending_obligated\"].sum())"
   ]
  },
  {
   "cell_type": "code",
   "execution_count": 4,
   "id": "c3e7bf14-f276-44b5-8c1a-c48deb3f85ad",
   "metadata": {},
   "outputs": [],
   "source": []
  },
  {
   "cell_type": "code",
   "execution_count": 115,
   "id": "55eea165-5b45-4bde-a68d-9540f00d7d06",
   "metadata": {},
   "outputs": [
    {
     "name": "stdout",
     "output_type": "stream",
     "text": [
      "['Engineering' 'STEM Education'\n",
      " '\"Social, Behavioral and Economic Sciences\"'\n",
      " '\"Technology, Innovation and Partnerships\"'\n",
      " 'Computer and Information Science and Engineering' 'Geosciences'\n",
      " 'Biological Sciences' 'Mathematical and Physical Sciences' nan\n",
      " 'Office of the Director']\n",
      "['Engineering Education and Centers'\n",
      " 'Research on Learning in Formal and Informal Settings'\n",
      " 'Equity for Excellence in STEM' 'Behavioral and Cognitive Sciences'\n",
      " 'Social and Economic Sciences' 'Multidisciplinary Activities'\n",
      " 'Technology, Innovation and Partnerships' 'Computer and Network Systems'\n",
      " 'Atmospheric and Geospace Sciences' 'Molecular and Cellular Biosciences'\n",
      " 'Research, Innovation, Synergies, and Education' 'Graduate Education'\n",
      " 'Civil, Mechanical and Manufacturing Innovation' 'Mathematical Sciences'\n",
      " 'Biological Infrastructure'\n",
      " 'Chemical, Bioengineering, Environmental and Transport Systems'\n",
      " 'Astronomical Sciences' 'Information and Intelligent Systems'\n",
      " 'Translational Impacts' 'Chemistry' nan 'Undergraduate Education'\n",
      " 'Materials Research' 'Polar Programs' 'MPS Multidisciplinary Activities'\n",
      " 'Earth Sciences' 'Computing and Communication Foundations' 'Physics'\n",
      " 'International Science and Engineering' 'Ocean Sciences'\n",
      " 'Integrative Organismal Systems' 'Environmental Biology'\n",
      " 'Electrical, Communications and Cyber Systems' 'Emerging Frontiers'\n",
      " 'Industrial Innovation']\n"
     ]
    },
    {
     "data": {
      "text/plain": [
       "{nan}"
      ]
     },
     "execution_count": 115,
     "metadata": {},
     "output_type": "execute_result"
    }
   ],
   "source": [
    "print(nsf_terminations['directorate'].unique())\n",
    "print(nsf_terminations['division'].unique())\n"
   ]
  },
  {
   "cell_type": "code",
   "execution_count": 4,
   "id": "eadca561-4862-467a-b2ae-27fecdc9bae6",
   "metadata": {},
   "outputs": [],
   "source": []
  },
  {
   "cell_type": "code",
   "execution_count": 86,
   "id": "911dd6e9-ce5c-4fb3-bb16-731647e4291a",
   "metadata": {},
   "outputs": [
    {
     "data": {
      "application/vnd.plotly.v1+json": {
       "config": {
        "plotlyServerURL": "https://plot.ly"
       },
       "data": [
        {
         "branchvalues": "total",
         "customdata": [
          [
           247686
          ],
          [
           524512
          ],
          [
           22906439
          ],
          [
           22931877
          ],
          [
           3509018
          ],
          [
           788800
          ],
          [
           5603333
          ],
          [
           34970002
          ],
          [
           1798703
          ],
          [
           3481099
          ],
          [
           500000
          ],
          [
           109940
          ],
          [
           23860134
          ],
          [
           2251615
          ],
          [
           57882298
          ],
          [
           31958992
          ],
          [
           266000
          ],
          [
           7861408
          ],
          [
           53487
          ],
          [
           4859738
          ],
          [
           1196064
          ],
          [
           1580715
          ],
          [
           1939805
          ],
          [
           2164581
          ],
          [
           11999166
          ],
          [
           2508883
          ],
          [
           665242
          ],
          [
           1788468
          ],
          [
           216146001
          ],
          [
           27646019
          ],
          [
           42730299
          ],
          [
           51953341
          ],
          [
           8811969
          ],
          [
           15767565
          ],
          [
           32131568.726058476
          ],
          [
           45499124.87081208
          ],
          [
           19469716.71554383
          ],
          [
           28858051.694932453
          ],
          [
           18321512.20715071
          ],
          [
           21869566.798820224
          ],
          [
           1373908.4598109284
          ],
          [
           4859738
          ],
          [
           159560754.05972454
          ]
         ],
         "domain": {
          "x": [
           0,
           1
          ],
          "y": [
           0,
           1
          ]
         },
         "hovertemplate": "labels=%{label}<br>usaspending_obligated_sum=%{value}<br>parent=%{parent}<br>id=%{id}<br>usaspending_obligated=%{color}<extra></extra>",
         "ids": [
          "Mathematical and Physical Sciences/Astronomical Sciences",
          "Geosciences/Atmospheric and Geospace Sciences",
          "\"Social, Behavioral and Economic Sciences\"/Behavioral and Cognitive Sciences",
          "Biological Sciences/Biological Infrastructure",
          "Engineering/Chemical, Bioengineering, Environmental and Transport Systems",
          "Mathematical and Physical Sciences/Chemistry",
          "Engineering/Civil, Mechanical and Manufacturing Innovation",
          "Computer and Information Science and Engineering/Computer and Network Systems",
          "Computer and Information Science and Engineering/Computing and Communication Foundations",
          "Geosciences/Earth Sciences",
          "Engineering/Electrical, Communications and Cyber Systems",
          "Biological Sciences/Emerging Frontiers",
          "Engineering/Engineering Education and Centers",
          "Biological Sciences/Environmental Biology",
          "STEM Education/Equity for Excellence in STEM",
          "STEM Education/Graduate Education",
          "\"Technology, Innovation and Partnerships\"/Industrial Innovation",
          "Computer and Information Science and Engineering/Information and Intelligent Systems",
          "Biological Sciences/Integrative Organismal Systems",
          "Office of the Director/International Science and Engineering",
          "Mathematical and Physical Sciences/MPS Multidisciplinary Activities",
          "Mathematical and Physical Sciences/Materials Research",
          "Mathematical and Physical Sciences/Mathematical Sciences",
          "Biological Sciences/Molecular and Cellular Biosciences",
          "\"Social, Behavioral and Economic Sciences\"/Multidisciplinary Activities",
          "Geosciences/Ocean Sciences",
          "Mathematical and Physical Sciences/Physics",
          "Geosciences/Polar Programs",
          "STEM Education/Research on Learning in Formal and Informal Settings",
          "Geosciences/Research, Innovation, Synergies, and Education",
          "\"Social, Behavioral and Economic Sciences\"/Social and Economic Sciences",
          "\"Technology, Innovation and Partnerships\"/Technology, Innovation and Partnerships",
          "\"Technology, Innovation and Partnerships\"/Translational Impacts",
          "STEM Education/Undergraduate Education",
          "\"Social, Behavioral and Economic Sciences\"",
          "\"Technology, Innovation and Partnerships\"",
          "Biological Sciences",
          "Computer and Information Science and Engineering",
          "Engineering",
          "Geosciences",
          "Mathematical and Physical Sciences",
          "Office of the Director",
          "STEM Education"
         ],
         "labels": [
          "Astronomical Sciences",
          "Atmospheric and Geospace Sciences",
          "Behavioral and Cognitive Sciences",
          "Biological Infrastructure",
          "Chemical, Bioengineering, Environmental and Transport Systems",
          "Chemistry",
          "Civil, Mechanical and Manufacturing Innovation",
          "Computer and Network Systems",
          "Computing and Communication Foundations",
          "Earth Sciences",
          "Electrical, Communications and Cyber Systems",
          "Emerging Frontiers",
          "Engineering Education and Centers",
          "Environmental Biology",
          "Equity for Excellence in STEM",
          "Graduate Education",
          "Industrial Innovation",
          "Information and Intelligent Systems",
          "Integrative Organismal Systems",
          "International Science and Engineering",
          "MPS Multidisciplinary Activities",
          "Materials Research",
          "Mathematical Sciences",
          "Molecular and Cellular Biosciences",
          "Multidisciplinary Activities",
          "Ocean Sciences",
          "Physics",
          "Polar Programs",
          "Research on Learning in Formal and Informal Settings",
          "Research, Innovation, Synergies, and Education",
          "Social and Economic Sciences",
          "Technology, Innovation and Partnerships",
          "Translational Impacts",
          "Undergraduate Education",
          "\"Social, Behavioral and Economic Sciences\"",
          "\"Technology, Innovation and Partnerships\"",
          "Biological Sciences",
          "Computer and Information Science and Engineering",
          "Engineering",
          "Geosciences",
          "Mathematical and Physical Sciences",
          "Office of the Director",
          "STEM Education"
         ],
         "marker": {
          "coloraxis": "coloraxis",
          "colors": [
           247686,
           524512,
           22906439,
           22931877,
           3509018,
           788800,
           5603333,
           34970002,
           1798703,
           3481099,
           500000,
           109940,
           23860134,
           2251615,
           57882298,
           31958992,
           266000,
           7861408,
           53487,
           4859738,
           1196064,
           1580715,
           1939805,
           2164581,
           11999166,
           2508883,
           665242,
           1788468,
           216146001,
           27646019,
           42730299,
           51953341,
           8811969,
           15767565,
           0,
           0,
           0,
           0,
           0,
           0,
           0,
           0,
           0
          ]
         },
         "name": "",
         "parents": [
          "Mathematical and Physical Sciences",
          "Geosciences",
          "\"Social, Behavioral and Economic Sciences\"",
          "Biological Sciences",
          "Engineering",
          "Mathematical and Physical Sciences",
          "Engineering",
          "Computer and Information Science and Engineering",
          "Computer and Information Science and Engineering",
          "Geosciences",
          "Engineering",
          "Biological Sciences",
          "Engineering",
          "Biological Sciences",
          "STEM Education",
          "STEM Education",
          "\"Technology, Innovation and Partnerships\"",
          "Computer and Information Science and Engineering",
          "Biological Sciences",
          "Office of the Director",
          "Mathematical and Physical Sciences",
          "Mathematical and Physical Sciences",
          "Mathematical and Physical Sciences",
          "Biological Sciences",
          "\"Social, Behavioral and Economic Sciences\"",
          "Geosciences",
          "Mathematical and Physical Sciences",
          "Geosciences",
          "STEM Education",
          "Geosciences",
          "\"Social, Behavioral and Economic Sciences\"",
          "\"Technology, Innovation and Partnerships\"",
          "\"Technology, Innovation and Partnerships\"",
          "STEM Education",
          "",
          "",
          "",
          "",
          "",
          "",
          "",
          "",
          ""
         ],
         "textinfo": "label+percent entry",
         "type": "sunburst",
         "values": [
          247686,
          524512,
          22906439,
          22931877,
          3509018,
          788800,
          5603333,
          34970002,
          1798703,
          3481099,
          500000,
          109940,
          23860134,
          2251615,
          57882298,
          31958992,
          266000,
          7861408,
          53487,
          4859738,
          1196064,
          1580715,
          1939805,
          2164581,
          11999166,
          2508883,
          665242,
          1788468,
          216146001,
          27646019,
          42730299,
          51953341,
          8811969,
          15767565,
          77635904,
          61031310,
          27511500,
          44630113,
          33472485,
          35948981,
          6418312,
          4859738,
          321754856
         ]
        }
       ],
       "layout": {
        "coloraxis": {
         "colorbar": {
          "title": {
           "text": "usaspending_obligated"
          }
         },
         "colorscale": [
          [
           0,
           "black"
          ],
          [
           1e-06,
           "rgb(68,1,84)"
          ],
          [
           0.25,
           "rgb(59,82,139)"
          ],
          [
           0.5,
           "rgb(33,145,140)"
          ],
          [
           0.75,
           "rgb(94,201,98)"
          ],
          [
           1,
           "rgb(253,231,37)"
          ]
         ]
        },
        "height": 700,
        "legend": {
         "tracegroupgap": 0
        },
        "template": {
         "data": {
          "bar": [
           {
            "error_x": {
             "color": "#2a3f5f"
            },
            "error_y": {
             "color": "#2a3f5f"
            },
            "marker": {
             "line": {
              "color": "#E5ECF6",
              "width": 0.5
             },
             "pattern": {
              "fillmode": "overlay",
              "size": 10,
              "solidity": 0.2
             }
            },
            "type": "bar"
           }
          ],
          "barpolar": [
           {
            "marker": {
             "line": {
              "color": "#E5ECF6",
              "width": 0.5
             },
             "pattern": {
              "fillmode": "overlay",
              "size": 10,
              "solidity": 0.2
             }
            },
            "type": "barpolar"
           }
          ],
          "carpet": [
           {
            "aaxis": {
             "endlinecolor": "#2a3f5f",
             "gridcolor": "white",
             "linecolor": "white",
             "minorgridcolor": "white",
             "startlinecolor": "#2a3f5f"
            },
            "baxis": {
             "endlinecolor": "#2a3f5f",
             "gridcolor": "white",
             "linecolor": "white",
             "minorgridcolor": "white",
             "startlinecolor": "#2a3f5f"
            },
            "type": "carpet"
           }
          ],
          "choropleth": [
           {
            "colorbar": {
             "outlinewidth": 0,
             "ticks": ""
            },
            "type": "choropleth"
           }
          ],
          "contour": [
           {
            "colorbar": {
             "outlinewidth": 0,
             "ticks": ""
            },
            "colorscale": [
             [
              0,
              "#0d0887"
             ],
             [
              0.1111111111111111,
              "#46039f"
             ],
             [
              0.2222222222222222,
              "#7201a8"
             ],
             [
              0.3333333333333333,
              "#9c179e"
             ],
             [
              0.4444444444444444,
              "#bd3786"
             ],
             [
              0.5555555555555556,
              "#d8576b"
             ],
             [
              0.6666666666666666,
              "#ed7953"
             ],
             [
              0.7777777777777778,
              "#fb9f3a"
             ],
             [
              0.8888888888888888,
              "#fdca26"
             ],
             [
              1,
              "#f0f921"
             ]
            ],
            "type": "contour"
           }
          ],
          "contourcarpet": [
           {
            "colorbar": {
             "outlinewidth": 0,
             "ticks": ""
            },
            "type": "contourcarpet"
           }
          ],
          "heatmap": [
           {
            "colorbar": {
             "outlinewidth": 0,
             "ticks": ""
            },
            "colorscale": [
             [
              0,
              "#0d0887"
             ],
             [
              0.1111111111111111,
              "#46039f"
             ],
             [
              0.2222222222222222,
              "#7201a8"
             ],
             [
              0.3333333333333333,
              "#9c179e"
             ],
             [
              0.4444444444444444,
              "#bd3786"
             ],
             [
              0.5555555555555556,
              "#d8576b"
             ],
             [
              0.6666666666666666,
              "#ed7953"
             ],
             [
              0.7777777777777778,
              "#fb9f3a"
             ],
             [
              0.8888888888888888,
              "#fdca26"
             ],
             [
              1,
              "#f0f921"
             ]
            ],
            "type": "heatmap"
           }
          ],
          "heatmapgl": [
           {
            "colorbar": {
             "outlinewidth": 0,
             "ticks": ""
            },
            "colorscale": [
             [
              0,
              "#0d0887"
             ],
             [
              0.1111111111111111,
              "#46039f"
             ],
             [
              0.2222222222222222,
              "#7201a8"
             ],
             [
              0.3333333333333333,
              "#9c179e"
             ],
             [
              0.4444444444444444,
              "#bd3786"
             ],
             [
              0.5555555555555556,
              "#d8576b"
             ],
             [
              0.6666666666666666,
              "#ed7953"
             ],
             [
              0.7777777777777778,
              "#fb9f3a"
             ],
             [
              0.8888888888888888,
              "#fdca26"
             ],
             [
              1,
              "#f0f921"
             ]
            ],
            "type": "heatmapgl"
           }
          ],
          "histogram": [
           {
            "marker": {
             "pattern": {
              "fillmode": "overlay",
              "size": 10,
              "solidity": 0.2
             }
            },
            "type": "histogram"
           }
          ],
          "histogram2d": [
           {
            "colorbar": {
             "outlinewidth": 0,
             "ticks": ""
            },
            "colorscale": [
             [
              0,
              "#0d0887"
             ],
             [
              0.1111111111111111,
              "#46039f"
             ],
             [
              0.2222222222222222,
              "#7201a8"
             ],
             [
              0.3333333333333333,
              "#9c179e"
             ],
             [
              0.4444444444444444,
              "#bd3786"
             ],
             [
              0.5555555555555556,
              "#d8576b"
             ],
             [
              0.6666666666666666,
              "#ed7953"
             ],
             [
              0.7777777777777778,
              "#fb9f3a"
             ],
             [
              0.8888888888888888,
              "#fdca26"
             ],
             [
              1,
              "#f0f921"
             ]
            ],
            "type": "histogram2d"
           }
          ],
          "histogram2dcontour": [
           {
            "colorbar": {
             "outlinewidth": 0,
             "ticks": ""
            },
            "colorscale": [
             [
              0,
              "#0d0887"
             ],
             [
              0.1111111111111111,
              "#46039f"
             ],
             [
              0.2222222222222222,
              "#7201a8"
             ],
             [
              0.3333333333333333,
              "#9c179e"
             ],
             [
              0.4444444444444444,
              "#bd3786"
             ],
             [
              0.5555555555555556,
              "#d8576b"
             ],
             [
              0.6666666666666666,
              "#ed7953"
             ],
             [
              0.7777777777777778,
              "#fb9f3a"
             ],
             [
              0.8888888888888888,
              "#fdca26"
             ],
             [
              1,
              "#f0f921"
             ]
            ],
            "type": "histogram2dcontour"
           }
          ],
          "mesh3d": [
           {
            "colorbar": {
             "outlinewidth": 0,
             "ticks": ""
            },
            "type": "mesh3d"
           }
          ],
          "parcoords": [
           {
            "line": {
             "colorbar": {
              "outlinewidth": 0,
              "ticks": ""
             }
            },
            "type": "parcoords"
           }
          ],
          "pie": [
           {
            "automargin": true,
            "type": "pie"
           }
          ],
          "scatter": [
           {
            "fillpattern": {
             "fillmode": "overlay",
             "size": 10,
             "solidity": 0.2
            },
            "type": "scatter"
           }
          ],
          "scatter3d": [
           {
            "line": {
             "colorbar": {
              "outlinewidth": 0,
              "ticks": ""
             }
            },
            "marker": {
             "colorbar": {
              "outlinewidth": 0,
              "ticks": ""
             }
            },
            "type": "scatter3d"
           }
          ],
          "scattercarpet": [
           {
            "marker": {
             "colorbar": {
              "outlinewidth": 0,
              "ticks": ""
             }
            },
            "type": "scattercarpet"
           }
          ],
          "scattergeo": [
           {
            "marker": {
             "colorbar": {
              "outlinewidth": 0,
              "ticks": ""
             }
            },
            "type": "scattergeo"
           }
          ],
          "scattergl": [
           {
            "marker": {
             "colorbar": {
              "outlinewidth": 0,
              "ticks": ""
             }
            },
            "type": "scattergl"
           }
          ],
          "scattermapbox": [
           {
            "marker": {
             "colorbar": {
              "outlinewidth": 0,
              "ticks": ""
             }
            },
            "type": "scattermapbox"
           }
          ],
          "scatterpolar": [
           {
            "marker": {
             "colorbar": {
              "outlinewidth": 0,
              "ticks": ""
             }
            },
            "type": "scatterpolar"
           }
          ],
          "scatterpolargl": [
           {
            "marker": {
             "colorbar": {
              "outlinewidth": 0,
              "ticks": ""
             }
            },
            "type": "scatterpolargl"
           }
          ],
          "scatterternary": [
           {
            "marker": {
             "colorbar": {
              "outlinewidth": 0,
              "ticks": ""
             }
            },
            "type": "scatterternary"
           }
          ],
          "surface": [
           {
            "colorbar": {
             "outlinewidth": 0,
             "ticks": ""
            },
            "colorscale": [
             [
              0,
              "#0d0887"
             ],
             [
              0.1111111111111111,
              "#46039f"
             ],
             [
              0.2222222222222222,
              "#7201a8"
             ],
             [
              0.3333333333333333,
              "#9c179e"
             ],
             [
              0.4444444444444444,
              "#bd3786"
             ],
             [
              0.5555555555555556,
              "#d8576b"
             ],
             [
              0.6666666666666666,
              "#ed7953"
             ],
             [
              0.7777777777777778,
              "#fb9f3a"
             ],
             [
              0.8888888888888888,
              "#fdca26"
             ],
             [
              1,
              "#f0f921"
             ]
            ],
            "type": "surface"
           }
          ],
          "table": [
           {
            "cells": {
             "fill": {
              "color": "#EBF0F8"
             },
             "line": {
              "color": "white"
             }
            },
            "header": {
             "fill": {
              "color": "#C8D4E3"
             },
             "line": {
              "color": "white"
             }
            },
            "type": "table"
           }
          ]
         },
         "layout": {
          "annotationdefaults": {
           "arrowcolor": "#2a3f5f",
           "arrowhead": 0,
           "arrowwidth": 1
          },
          "autotypenumbers": "strict",
          "coloraxis": {
           "colorbar": {
            "outlinewidth": 0,
            "ticks": ""
           }
          },
          "colorscale": {
           "diverging": [
            [
             0,
             "#8e0152"
            ],
            [
             0.1,
             "#c51b7d"
            ],
            [
             0.2,
             "#de77ae"
            ],
            [
             0.3,
             "#f1b6da"
            ],
            [
             0.4,
             "#fde0ef"
            ],
            [
             0.5,
             "#f7f7f7"
            ],
            [
             0.6,
             "#e6f5d0"
            ],
            [
             0.7,
             "#b8e186"
            ],
            [
             0.8,
             "#7fbc41"
            ],
            [
             0.9,
             "#4d9221"
            ],
            [
             1,
             "#276419"
            ]
           ],
           "sequential": [
            [
             0,
             "#0d0887"
            ],
            [
             0.1111111111111111,
             "#46039f"
            ],
            [
             0.2222222222222222,
             "#7201a8"
            ],
            [
             0.3333333333333333,
             "#9c179e"
            ],
            [
             0.4444444444444444,
             "#bd3786"
            ],
            [
             0.5555555555555556,
             "#d8576b"
            ],
            [
             0.6666666666666666,
             "#ed7953"
            ],
            [
             0.7777777777777778,
             "#fb9f3a"
            ],
            [
             0.8888888888888888,
             "#fdca26"
            ],
            [
             1,
             "#f0f921"
            ]
           ],
           "sequentialminus": [
            [
             0,
             "#0d0887"
            ],
            [
             0.1111111111111111,
             "#46039f"
            ],
            [
             0.2222222222222222,
             "#7201a8"
            ],
            [
             0.3333333333333333,
             "#9c179e"
            ],
            [
             0.4444444444444444,
             "#bd3786"
            ],
            [
             0.5555555555555556,
             "#d8576b"
            ],
            [
             0.6666666666666666,
             "#ed7953"
            ],
            [
             0.7777777777777778,
             "#fb9f3a"
            ],
            [
             0.8888888888888888,
             "#fdca26"
            ],
            [
             1,
             "#f0f921"
            ]
           ]
          },
          "colorway": [
           "#636efa",
           "#EF553B",
           "#00cc96",
           "#ab63fa",
           "#FFA15A",
           "#19d3f3",
           "#FF6692",
           "#B6E880",
           "#FF97FF",
           "#FECB52"
          ],
          "font": {
           "color": "#2a3f5f"
          },
          "geo": {
           "bgcolor": "white",
           "lakecolor": "white",
           "landcolor": "#E5ECF6",
           "showlakes": true,
           "showland": true,
           "subunitcolor": "white"
          },
          "hoverlabel": {
           "align": "left"
          },
          "hovermode": "closest",
          "mapbox": {
           "style": "light"
          },
          "paper_bgcolor": "white",
          "plot_bgcolor": "#E5ECF6",
          "polar": {
           "angularaxis": {
            "gridcolor": "white",
            "linecolor": "white",
            "ticks": ""
           },
           "bgcolor": "#E5ECF6",
           "radialaxis": {
            "gridcolor": "white",
            "linecolor": "white",
            "ticks": ""
           }
          },
          "scene": {
           "xaxis": {
            "backgroundcolor": "#E5ECF6",
            "gridcolor": "white",
            "gridwidth": 2,
            "linecolor": "white",
            "showbackground": true,
            "ticks": "",
            "zerolinecolor": "white"
           },
           "yaxis": {
            "backgroundcolor": "#E5ECF6",
            "gridcolor": "white",
            "gridwidth": 2,
            "linecolor": "white",
            "showbackground": true,
            "ticks": "",
            "zerolinecolor": "white"
           },
           "zaxis": {
            "backgroundcolor": "#E5ECF6",
            "gridcolor": "white",
            "gridwidth": 2,
            "linecolor": "white",
            "showbackground": true,
            "ticks": "",
            "zerolinecolor": "white"
           }
          },
          "shapedefaults": {
           "line": {
            "color": "#2a3f5f"
           }
          },
          "ternary": {
           "aaxis": {
            "gridcolor": "white",
            "linecolor": "white",
            "ticks": ""
           },
           "baxis": {
            "gridcolor": "white",
            "linecolor": "white",
            "ticks": ""
           },
           "bgcolor": "#E5ECF6",
           "caxis": {
            "gridcolor": "white",
            "linecolor": "white",
            "ticks": ""
           }
          },
          "title": {
           "x": 0.05
          },
          "xaxis": {
           "automargin": true,
           "gridcolor": "white",
           "linecolor": "white",
           "ticks": "",
           "title": {
            "standoff": 15
           },
           "zerolinecolor": "white",
           "zerolinewidth": 2
          },
          "yaxis": {
           "automargin": true,
           "gridcolor": "white",
           "linecolor": "white",
           "ticks": "",
           "title": {
            "standoff": 15
           },
           "zerolinecolor": "white",
           "zerolinewidth": 2
          }
         }
        },
        "title": {
         "text": "Distribution of the NSF funding cut of <b>$613,263,199</b> in April 2025."
        },
        "width": 900
       }
      },
      "image/png": "[encoded data removed]",
      "text/html": [
       "<div>                            <div id=\"da62e75d-c2c8-4630-a7b4-33f478336ffb\" class=\"plotly-graph-div\" style=\"height:700px; width:900px;\"></div>            <script type=\"text/javascript\">                require([\"plotly\"], function(Plotly) {                    window.PLOTLYENV=window.PLOTLYENV || {};                                    if (document.getElementById(\"da62e75d-c2c8-4630-a7b4-33f478336ffb\")) {                    Plotly.newPlot(                        \"da62e75d-c2c8-4630-a7b4-33f478336ffb\",                        [{\"branchvalues\":\"total\",\"customdata\":[[247686.0],[524512.0],[22906439.0],[22931877.0],[3509018.0],[788800.0],[5603333.0],[34970002.0],[1798703.0],[3481099.0],[500000.0],[109940.0],[23860134.0],[2251615.0],[57882298.0],[31958992.0],[266000.0],[7861408.0],[53487.0],[4859738.0],[1196064.0],[1580715.0],[1939805.0],[2164581.0],[11999166.0],[2508883.0],[665242.0],[1788468.0],[216146001.0],[27646019.0],[42730299.0],[51953341.0],[8811969.0],[15767565.0],[32131568.726058476],[45499124.87081208],[19469716.71554383],[28858051.694932453],[18321512.20715071],[21869566.798820224],[1373908.4598109284],[4859738.0],[159560754.05972454]],\"domain\":{\"x\":[0.0,1.0],\"y\":[0.0,1.0]},\"hovertemplate\":\"labels=%{label}\\u003cbr\\u003eusaspending_obligated_sum=%{value}\\u003cbr\\u003eparent=%{parent}\\u003cbr\\u003eid=%{id}\\u003cbr\\u003eusaspending_obligated=%{color}\\u003cextra\\u003e\\u003c\\u002fextra\\u003e\",\"ids\":[\"Mathematical and Physical Sciences\\u002fAstronomical Sciences\",\"Geosciences\\u002fAtmospheric and Geospace Sciences\",\"\\\"Social, Behavioral and Economic Sciences\\\"\\u002fBehavioral and Cognitive Sciences\",\"Biological Sciences\\u002fBiological Infrastructure\",\"Engineering\\u002fChemical, Bioengineering, Environmental and Transport Systems\",\"Mathematical and Physical Sciences\\u002fChemistry\",\"Engineering\\u002fCivil, Mechanical and Manufacturing Innovation\",\"Computer and Information Science and Engineering\\u002fComputer and Network Systems\",\"Computer and Information Science and Engineering\\u002fComputing and Communication Foundations\",\"Geosciences\\u002fEarth Sciences\",\"Engineering\\u002fElectrical, Communications and Cyber Systems\",\"Biological Sciences\\u002fEmerging Frontiers\",\"Engineering\\u002fEngineering Education and Centers\",\"Biological Sciences\\u002fEnvironmental Biology\",\"STEM Education\\u002fEquity for Excellence in STEM\",\"STEM Education\\u002fGraduate Education\",\"\\\"Technology, Innovation and Partnerships\\\"\\u002fIndustrial Innovation\",\"Computer and Information Science and Engineering\\u002fInformation and Intelligent Systems\",\"Biological Sciences\\u002fIntegrative Organismal Systems\",\"Office of the Director\\u002fInternational Science and Engineering\",\"Mathematical and Physical Sciences\\u002fMPS Multidisciplinary Activities\",\"Mathematical and Physical Sciences\\u002fMaterials Research\",\"Mathematical and Physical Sciences\\u002fMathematical Sciences\",\"Biological Sciences\\u002fMolecular and Cellular Biosciences\",\"\\\"Social, Behavioral and Economic Sciences\\\"\\u002fMultidisciplinary Activities\",\"Geosciences\\u002fOcean Sciences\",\"Mathematical and Physical Sciences\\u002fPhysics\",\"Geosciences\\u002fPolar Programs\",\"STEM Education\\u002fResearch on Learning in Formal and Informal Settings\",\"Geosciences\\u002fResearch, Innovation, Synergies, and Education\",\"\\\"Social, Behavioral and Economic Sciences\\\"\\u002fSocial and Economic Sciences\",\"\\\"Technology, Innovation and Partnerships\\\"\\u002fTechnology, Innovation and Partnerships\",\"\\\"Technology, Innovation and Partnerships\\\"\\u002fTranslational Impacts\",\"STEM Education\\u002fUndergraduate Education\",\"\\\"Social, Behavioral and Economic Sciences\\\"\",\"\\\"Technology, Innovation and Partnerships\\\"\",\"Biological Sciences\",\"Computer and Information Science and Engineering\",\"Engineering\",\"Geosciences\",\"Mathematical and Physical Sciences\",\"Office of the Director\",\"STEM Education\"],\"labels\":[\"Astronomical Sciences\",\"Atmospheric and Geospace Sciences\",\"Behavioral and Cognitive Sciences\",\"Biological Infrastructure\",\"Chemical, Bioengineering, Environmental and Transport Systems\",\"Chemistry\",\"Civil, Mechanical and Manufacturing Innovation\",\"Computer and Network Systems\",\"Computing and Communication Foundations\",\"Earth Sciences\",\"Electrical, Communications and Cyber Systems\",\"Emerging Frontiers\",\"Engineering Education and Centers\",\"Environmental Biology\",\"Equity for Excellence in STEM\",\"Graduate Education\",\"Industrial Innovation\",\"Information and Intelligent Systems\",\"Integrative Organismal Systems\",\"International Science and Engineering\",\"MPS Multidisciplinary Activities\",\"Materials Research\",\"Mathematical Sciences\",\"Molecular and Cellular Biosciences\",\"Multidisciplinary Activities\",\"Ocean Sciences\",\"Physics\",\"Polar Programs\",\"Research on Learning in Formal and Informal Settings\",\"Research, Innovation, Synergies, and Education\",\"Social and Economic Sciences\",\"Technology, Innovation and Partnerships\",\"Translational Impacts\",\"Undergraduate Education\",\"\\\"Social, Behavioral and Economic Sciences\\\"\",\"\\\"Technology, Innovation and Partnerships\\\"\",\"Biological Sciences\",\"Computer and Information Science and Engineering\",\"Engineering\",\"Geosciences\",\"Mathematical and Physical Sciences\",\"Office of the Director\",\"STEM Education\"],\"marker\":{\"coloraxis\":\"coloraxis\",\"colors\":[247686.0,524512.0,22906439.0,22931877.0,3509018.0,788800.0,5603333.0,34970002.0,1798703.0,3481099.0,500000.0,109940.0,23860134.0,2251615.0,57882298.0,31958992.0,266000.0,7861408.0,53487.0,4859738.0,1196064.0,1580715.0,1939805.0,2164581.0,11999166.0,2508883.0,665242.0,1788468.0,216146001.0,27646019.0,42730299.0,51953341.0,8811969.0,15767565.0,0.0,0.0,0.0,0.0,0.0,0.0,0.0,0.0,0.0]},\"name\":\"\",\"parents\":[\"Mathematical and Physical Sciences\",\"Geosciences\",\"\\\"Social, Behavioral and Economic Sciences\\\"\",\"Biological Sciences\",\"Engineering\",\"Mathematical and Physical Sciences\",\"Engineering\",\"Computer and Information Science and Engineering\",\"Computer and Information Science and Engineering\",\"Geosciences\",\"Engineering\",\"Biological Sciences\",\"Engineering\",\"Biological Sciences\",\"STEM Education\",\"STEM Education\",\"\\\"Technology, Innovation and Partnerships\\\"\",\"Computer and Information Science and Engineering\",\"Biological Sciences\",\"Office of the Director\",\"Mathematical and Physical Sciences\",\"Mathematical and Physical Sciences\",\"Mathematical and Physical Sciences\",\"Biological Sciences\",\"\\\"Social, Behavioral and Economic Sciences\\\"\",\"Geosciences\",\"Mathematical and Physical Sciences\",\"Geosciences\",\"STEM Education\",\"Geosciences\",\"\\\"Social, Behavioral and Economic Sciences\\\"\",\"\\\"Technology, Innovation and Partnerships\\\"\",\"\\\"Technology, Innovation and Partnerships\\\"\",\"STEM Education\",\"\",\"\",\"\",\"\",\"\",\"\",\"\",\"\",\"\"],\"values\":[247686.0,524512.0,22906439.0,22931877.0,3509018.0,788800.0,5603333.0,34970002.0,1798703.0,3481099.0,500000.0,109940.0,23860134.0,2251615.0,57882298.0,31958992.0,266000.0,7861408.0,53487.0,4859738.0,1196064.0,1580715.0,1939805.0,2164581.0,11999166.0,2508883.0,665242.0,1788468.0,216146001.0,27646019.0,42730299.0,51953341.0,8811969.0,15767565.0,77635904.0,61031310.0,27511500.0,44630113.0,33472485.0,35948981.0,6418312.0,4859738.0,321754856.0],\"type\":\"sunburst\",\"textinfo\":\"label+percent entry\"}],                        {\"template\":{\"data\":{\"histogram2dcontour\":[{\"type\":\"histogram2dcontour\",\"colorbar\":{\"outlinewidth\":0,\"ticks\":\"\"},\"colorscale\":[[0.0,\"#0d0887\"],[0.1111111111111111,\"#46039f\"],[0.2222222222222222,\"#7201a8\"],[0.3333333333333333,\"#9c179e\"],[0.4444444444444444,\"#bd3786\"],[0.5555555555555556,\"#d8576b\"],[0.6666666666666666,\"#ed7953\"],[0.7777777777777778,\"#fb9f3a\"],[0.8888888888888888,\"#fdca26\"],[1.0,\"#f0f921\"]]}],\"choropleth\":[{\"type\":\"choropleth\",\"colorbar\":{\"outlinewidth\":0,\"ticks\":\"\"}}],\"histogram2d\":[{\"type\":\"histogram2d\",\"colorbar\":{\"outlinewidth\":0,\"ticks\":\"\"},\"colorscale\":[[0.0,\"#0d0887\"],[0.1111111111111111,\"#46039f\"],[0.2222222222222222,\"#7201a8\"],[0.3333333333333333,\"#9c179e\"],[0.4444444444444444,\"#bd3786\"],[0.5555555555555556,\"#d8576b\"],[0.6666666666666666,\"#ed7953\"],[0.7777777777777778,\"#fb9f3a\"],[0.8888888888888888,\"#fdca26\"],[1.0,\"#f0f921\"]]}],\"heatmap\":[{\"type\":\"heatmap\",\"colorbar\":{\"outlinewidth\":0,\"ticks\":\"\"},\"colorscale\":[[0.0,\"#0d0887\"],[0.1111111111111111,\"#46039f\"],[0.2222222222222222,\"#7201a8\"],[0.3333333333333333,\"#9c179e\"],[0.4444444444444444,\"#bd3786\"],[0.5555555555555556,\"#d8576b\"],[0.6666666666666666,\"#ed7953\"],[0.7777777777777778,\"#fb9f3a\"],[0.8888888888888888,\"#fdca26\"],[1.0,\"#f0f921\"]]}],\"heatmapgl\":[{\"type\":\"heatmapgl\",\"colorbar\":{\"outlinewidth\":0,\"ticks\":\"\"},\"colorscale\":[[0.0,\"#0d0887\"],[0.1111111111111111,\"#46039f\"],[0.2222222222222222,\"#7201a8\"],[0.3333333333333333,\"#9c179e\"],[0.4444444444444444,\"#bd3786\"],[0.5555555555555556,\"#d8576b\"],[0.6666666666666666,\"#ed7953\"],[0.7777777777777778,\"#fb9f3a\"],[0.8888888888888888,\"#fdca26\"],[1.0,\"#f0f921\"]]}],\"contourcarpet\":[{\"type\":\"contourcarpet\",\"colorbar\":{\"outlinewidth\":0,\"ticks\":\"\"}}],\"contour\":[{\"type\":\"contour\",\"colorbar\":{\"outlinewidth\":0,\"ticks\":\"\"},\"colorscale\":[[0.0,\"#0d0887\"],[0.1111111111111111,\"#46039f\"],[0.2222222222222222,\"#7201a8\"],[0.3333333333333333,\"#9c179e\"],[0.4444444444444444,\"#bd3786\"],[0.5555555555555556,\"#d8576b\"],[0.6666666666666666,\"#ed7953\"],[0.7777777777777778,\"#fb9f3a\"],[0.8888888888888888,\"#fdca26\"],[1.0,\"#f0f921\"]]}],\"surface\":[{\"type\":\"surface\",\"colorbar\":{\"outlinewidth\":0,\"ticks\":\"\"},\"colorscale\":[[0.0,\"#0d0887\"],[0.1111111111111111,\"#46039f\"],[0.2222222222222222,\"#7201a8\"],[0.3333333333333333,\"#9c179e\"],[0.4444444444444444,\"#bd3786\"],[0.5555555555555556,\"#d8576b\"],[0.6666666666666666,\"#ed7953\"],[0.7777777777777778,\"#fb9f3a\"],[0.8888888888888888,\"#fdca26\"],[1.0,\"#f0f921\"]]}],\"mesh3d\":[{\"type\":\"mesh3d\",\"colorbar\":{\"outlinewidth\":0,\"ticks\":\"\"}}],\"scatter\":[{\"fillpattern\":{\"fillmode\":\"overlay\",\"size\":10,\"solidity\":0.2},\"type\":\"scatter\"}],\"parcoords\":[{\"type\":\"parcoords\",\"line\":{\"colorbar\":{\"outlinewidth\":0,\"ticks\":\"\"}}}],\"scatterpolargl\":[{\"type\":\"scatterpolargl\",\"marker\":{\"colorbar\":{\"outlinewidth\":0,\"ticks\":\"\"}}}],\"bar\":[{\"error_x\":{\"color\":\"#2a3f5f\"},\"error_y\":{\"color\":\"#2a3f5f\"},\"marker\":{\"line\":{\"color\":\"#E5ECF6\",\"width\":0.5},\"pattern\":{\"fillmode\":\"overlay\",\"size\":10,\"solidity\":0.2}},\"type\":\"bar\"}],\"scattergeo\":[{\"type\":\"scattergeo\",\"marker\":{\"colorbar\":{\"outlinewidth\":0,\"ticks\":\"\"}}}],\"scatterpolar\":[{\"type\":\"scatterpolar\",\"marker\":{\"colorbar\":{\"outlinewidth\":0,\"ticks\":\"\"}}}],\"histogram\":[{\"marker\":{\"pattern\":{\"fillmode\":\"overlay\",\"size\":10,\"solidity\":0.2}},\"type\":\"histogram\"}],\"scattergl\":[{\"type\":\"scattergl\",\"marker\":{\"colorbar\":{\"outlinewidth\":0,\"ticks\":\"\"}}}],\"scatter3d\":[{\"type\":\"scatter3d\",\"line\":{\"colorbar\":{\"outlinewidth\":0,\"ticks\":\"\"}},\"marker\":{\"colorbar\":{\"outlinewidth\":0,\"ticks\":\"\"}}}],\"scattermapbox\":[{\"type\":\"scattermapbox\",\"marker\":{\"colorbar\":{\"outlinewidth\":0,\"ticks\":\"\"}}}],\"scatterternary\":[{\"type\":\"scatterternary\",\"marker\":{\"colorbar\":{\"outlinewidth\":0,\"ticks\":\"\"}}}],\"scattercarpet\":[{\"type\":\"scattercarpet\",\"marker\":{\"colorbar\":{\"outlinewidth\":0,\"ticks\":\"\"}}}],\"carpet\":[{\"aaxis\":{\"endlinecolor\":\"#2a3f5f\",\"gridcolor\":\"white\",\"linecolor\":\"white\",\"minorgridcolor\":\"white\",\"startlinecolor\":\"#2a3f5f\"},\"baxis\":{\"endlinecolor\":\"#2a3f5f\",\"gridcolor\":\"white\",\"linecolor\":\"white\",\"minorgridcolor\":\"white\",\"startlinecolor\":\"#2a3f5f\"},\"type\":\"carpet\"}],\"table\":[{\"cells\":{\"fill\":{\"color\":\"#EBF0F8\"},\"line\":{\"color\":\"white\"}},\"header\":{\"fill\":{\"color\":\"#C8D4E3\"},\"line\":{\"color\":\"white\"}},\"type\":\"table\"}],\"barpolar\":[{\"marker\":{\"line\":{\"color\":\"#E5ECF6\",\"width\":0.5},\"pattern\":{\"fillmode\":\"overlay\",\"size\":10,\"solidity\":0.2}},\"type\":\"barpolar\"}],\"pie\":[{\"automargin\":true,\"type\":\"pie\"}]},\"layout\":{\"autotypenumbers\":\"strict\",\"colorway\":[\"#636efa\",\"#EF553B\",\"#00cc96\",\"#ab63fa\",\"#FFA15A\",\"#19d3f3\",\"#FF6692\",\"#B6E880\",\"#FF97FF\",\"#FECB52\"],\"font\":{\"color\":\"#2a3f5f\"},\"hovermode\":\"closest\",\"hoverlabel\":{\"align\":\"left\"},\"paper_bgcolor\":\"white\",\"plot_bgcolor\":\"#E5ECF6\",\"polar\":{\"bgcolor\":\"#E5ECF6\",\"angularaxis\":{\"gridcolor\":\"white\",\"linecolor\":\"white\",\"ticks\":\"\"},\"radialaxis\":{\"gridcolor\":\"white\",\"linecolor\":\"white\",\"ticks\":\"\"}},\"ternary\":{\"bgcolor\":\"#E5ECF6\",\"aaxis\":{\"gridcolor\":\"white\",\"linecolor\":\"white\",\"ticks\":\"\"},\"baxis\":{\"gridcolor\":\"white\",\"linecolor\":\"white\",\"ticks\":\"\"},\"caxis\":{\"gridcolor\":\"white\",\"linecolor\":\"white\",\"ticks\":\"\"}},\"coloraxis\":{\"colorbar\":{\"outlinewidth\":0,\"ticks\":\"\"}},\"colorscale\":{\"sequential\":[[0.0,\"#0d0887\"],[0.1111111111111111,\"#46039f\"],[0.2222222222222222,\"#7201a8\"],[0.3333333333333333,\"#9c179e\"],[0.4444444444444444,\"#bd3786\"],[0.5555555555555556,\"#d8576b\"],[0.6666666666666666,\"#ed7953\"],[0.7777777777777778,\"#fb9f3a\"],[0.8888888888888888,\"#fdca26\"],[1.0,\"#f0f921\"]],\"sequentialminus\":[[0.0,\"#0d0887\"],[0.1111111111111111,\"#46039f\"],[0.2222222222222222,\"#7201a8\"],[0.3333333333333333,\"#9c179e\"],[0.4444444444444444,\"#bd3786\"],[0.5555555555555556,\"#d8576b\"],[0.6666666666666666,\"#ed7953\"],[0.7777777777777778,\"#fb9f3a\"],[0.8888888888888888,\"#fdca26\"],[1.0,\"#f0f921\"]],\"diverging\":[[0,\"#8e0152\"],[0.1,\"#c51b7d\"],[0.2,\"#de77ae\"],[0.3,\"#f1b6da\"],[0.4,\"#fde0ef\"],[0.5,\"#f7f7f7\"],[0.6,\"#e6f5d0\"],[0.7,\"#b8e186\"],[0.8,\"#7fbc41\"],[0.9,\"#4d9221\"],[1,\"#276419\"]]},\"xaxis\":{\"gridcolor\":\"white\",\"linecolor\":\"white\",\"ticks\":\"\",\"title\":{\"standoff\":15},\"zerolinecolor\":\"white\",\"automargin\":true,\"zerolinewidth\":2},\"yaxis\":{\"gridcolor\":\"white\",\"linecolor\":\"white\",\"ticks\":\"\",\"title\":{\"standoff\":15},\"zerolinecolor\":\"white\",\"automargin\":true,\"zerolinewidth\":2},\"scene\":{\"xaxis\":{\"backgroundcolor\":\"#E5ECF6\",\"gridcolor\":\"white\",\"linecolor\":\"white\",\"showbackground\":true,\"ticks\":\"\",\"zerolinecolor\":\"white\",\"gridwidth\":2},\"yaxis\":{\"backgroundcolor\":\"#E5ECF6\",\"gridcolor\":\"white\",\"linecolor\":\"white\",\"showbackground\":true,\"ticks\":\"\",\"zerolinecolor\":\"white\",\"gridwidth\":2},\"zaxis\":{\"backgroundcolor\":\"#E5ECF6\",\"gridcolor\":\"white\",\"linecolor\":\"white\",\"showbackground\":true,\"ticks\":\"\",\"zerolinecolor\":\"white\",\"gridwidth\":2}},\"shapedefaults\":{\"line\":{\"color\":\"#2a3f5f\"}},\"annotationdefaults\":{\"arrowcolor\":\"#2a3f5f\",\"arrowhead\":0,\"arrowwidth\":1},\"geo\":{\"bgcolor\":\"white\",\"landcolor\":\"#E5ECF6\",\"subunitcolor\":\"white\",\"showland\":true,\"showlakes\":true,\"lakecolor\":\"white\"},\"title\":{\"x\":0.05},\"mapbox\":{\"style\":\"light\"}}},\"coloraxis\":{\"colorbar\":{\"title\":{\"text\":\"usaspending_obligated\"}},\"colorscale\":[[0.0,\"black\"],[1e-06,\"rgb(68,1,84)\"],[0.25,\"rgb(59,82,139)\"],[0.5,\"rgb(33,145,140)\"],[0.75,\"rgb(94,201,98)\"],[1.0,\"rgb(253,231,37)\"]]},\"legend\":{\"tracegroupgap\":0},\"title\":{\"text\":\"Distribution of the NSF funding cut of \\u003cb\\u003e$613,263,199\\u003c\\u002fb\\u003e in April 2025.\"},\"height\":700,\"width\":900},                        {\"responsive\": true}                    ).then(function(){\n",
       "                            \n",
       "var gd = document.getElementById('da62e75d-c2c8-4630-a7b4-33f478336ffb');\n",
       "var x = new MutationObserver(function (mutations, observer) {{\n",
       "        var display = window.getComputedStyle(gd).display;\n",
       "        if (!display || display === 'none') {{\n",
       "            console.log([gd, 'removed!']);\n",
       "            Plotly.purge(gd);\n",
       "            observer.disconnect();\n",
       "        }}\n",
       "}});\n",
       "\n",
       "// Listen for the removal of the full notebook cells\n",
       "var notebookContainer = gd.closest('#notebook-container');\n",
       "if (notebookContainer) {{\n",
       "    x.observe(notebookContainer, {childList: true});\n",
       "}}\n",
       "\n",
       "// Listen for the clearing of the current output cell\n",
       "var outputEl = gd.closest('.output');\n",
       "if (outputEl) {{\n",
       "    x.observe(outputEl, {childList: true});\n",
       "}}\n",
       "\n",
       "                        })                };                });            </script>        </div>"
      ]
     },
     "metadata": {},
     "output_type": "display_data"
    }
   ],
   "source": [
    "import pandas as pd\n",
    "import plotly.express as px\n",
    "nsf_terminations = pd.read_csv('https://raw.githubusercontent.com/rfordatascience/tidytuesday/main/data/2025/2025-05-06/nsf_terminations.csv')\n",
    "\n",
    "nsf_grp = nsf_terminations.groupby(['directorate', 'division'], as_index=False)['usaspending_obligated'].sum()\n",
    "\n",
    "custom_colorscale = [\n",
    "    [0.0, 'black'],       # 0 → black\n",
    "    [0.000001, 'rgb(68,1,84)'],   # Start of Viridis after 0\n",
    "    [0.25, 'rgb(59,82,139)'],\n",
    "    [0.5, 'rgb(33,145,140)'],\n",
    "    [0.75, 'rgb(94,201,98)'],\n",
    "    [1.0, 'rgb(253,231,37)']\n",
    "]\n",
    "\n",
    "fig = px.sunburst(nsf_grp, path=['directorate', 'division'], values='usaspending_obligated', \\\n",
    "                  color='usaspending_obligated', color_continuous_scale=custom_colorscale, width=900, height=700, \\\n",
    "                  title=f\"Distribution of the NSF funding cut of <b>${nsf_grp[\"usaspending_obligated\"].sum():,.0f}</b> in April 2025.\"\n",
    "                 )\n",
    "fig.update_traces(textinfo='label+percent entry')\n",
    "for i in range(len(fig.data[0].marker.colors) - len(nsf_grp['directorate'].unique()), len(fig.data[0].marker.colors)):\n",
    "    fig.data[0].marker.colors[i] = 0\n",
    "#fig.write_image(\"sunburst_plot.png\")\n",
    "fig.show()"
   ]
  },
  {
   "cell_type": "code",
   "execution_count": 57,
   "id": "7cf6bdad-26b6-41cd-a766-54fed4c67ab5",
   "metadata": {},
   "outputs": [
    {
     "data": {
      "text/html": [
       "<div>\n",
       "<style scoped>\n",
       "    .dataframe tbody tr th:only-of-type {\n",
       "        vertical-align: middle;\n",
       "    }\n",
       "\n",
       "    .dataframe tbody tr th {\n",
       "        vertical-align: top;\n",
       "    }\n",
       "\n",
       "    .dataframe thead th {\n",
       "        text-align: right;\n",
       "    }\n",
       "</style>\n",
       "<table border=\"1\" class=\"dataframe\">\n",
       "  <thead>\n",
       "    <tr style=\"text-align: right;\">\n",
       "      <th></th>\n",
       "      <th>directorate</th>\n",
       "      <th>division</th>\n",
       "      <th>usaspending_obligated</th>\n",
       "    </tr>\n",
       "  </thead>\n",
       "  <tbody>\n",
       "    <tr>\n",
       "      <th>0</th>\n",
       "      <td>\"Social, Behavioral and Economic Sciences\"</td>\n",
       "      <td>Behavioral and Cognitive Sciences</td>\n",
       "      <td>22906439.0</td>\n",
       "    </tr>\n",
       "    <tr>\n",
       "      <th>1</th>\n",
       "      <td>\"Social, Behavioral and Economic Sciences\"</td>\n",
       "      <td>Multidisciplinary Activities</td>\n",
       "      <td>11999166.0</td>\n",
       "    </tr>\n",
       "    <tr>\n",
       "      <th>2</th>\n",
       "      <td>\"Social, Behavioral and Economic Sciences\"</td>\n",
       "      <td>Social and Economic Sciences</td>\n",
       "      <td>42730299.0</td>\n",
       "    </tr>\n",
       "    <tr>\n",
       "      <th>3</th>\n",
       "      <td>\"Technology, Innovation and Partnerships\"</td>\n",
       "      <td>Industrial Innovation</td>\n",
       "      <td>266000.0</td>\n",
       "    </tr>\n",
       "    <tr>\n",
       "      <th>4</th>\n",
       "      <td>\"Technology, Innovation and Partnerships\"</td>\n",
       "      <td>Technology, Innovation and Partnerships</td>\n",
       "      <td>51953341.0</td>\n",
       "    </tr>\n",
       "    <tr>\n",
       "      <th>5</th>\n",
       "      <td>\"Technology, Innovation and Partnerships\"</td>\n",
       "      <td>Translational Impacts</td>\n",
       "      <td>8811969.0</td>\n",
       "    </tr>\n",
       "    <tr>\n",
       "      <th>6</th>\n",
       "      <td>Biological Sciences</td>\n",
       "      <td>Biological Infrastructure</td>\n",
       "      <td>22931877.0</td>\n",
       "    </tr>\n",
       "    <tr>\n",
       "      <th>7</th>\n",
       "      <td>Biological Sciences</td>\n",
       "      <td>Emerging Frontiers</td>\n",
       "      <td>109940.0</td>\n",
       "    </tr>\n",
       "    <tr>\n",
       "      <th>8</th>\n",
       "      <td>Biological Sciences</td>\n",
       "      <td>Environmental Biology</td>\n",
       "      <td>2251615.0</td>\n",
       "    </tr>\n",
       "    <tr>\n",
       "      <th>9</th>\n",
       "      <td>Biological Sciences</td>\n",
       "      <td>Integrative Organismal Systems</td>\n",
       "      <td>53487.0</td>\n",
       "    </tr>\n",
       "    <tr>\n",
       "      <th>10</th>\n",
       "      <td>Biological Sciences</td>\n",
       "      <td>Molecular and Cellular Biosciences</td>\n",
       "      <td>2164581.0</td>\n",
       "    </tr>\n",
       "    <tr>\n",
       "      <th>11</th>\n",
       "      <td>Computer and Information Science and Engineering</td>\n",
       "      <td>Computer and Network Systems</td>\n",
       "      <td>34970002.0</td>\n",
       "    </tr>\n",
       "    <tr>\n",
       "      <th>12</th>\n",
       "      <td>Computer and Information Science and Engineering</td>\n",
       "      <td>Computing and Communication Foundations</td>\n",
       "      <td>1798703.0</td>\n",
       "    </tr>\n",
       "    <tr>\n",
       "      <th>13</th>\n",
       "      <td>Computer and Information Science and Engineering</td>\n",
       "      <td>Information and Intelligent Systems</td>\n",
       "      <td>7861408.0</td>\n",
       "    </tr>\n",
       "    <tr>\n",
       "      <th>14</th>\n",
       "      <td>Engineering</td>\n",
       "      <td>Chemical, Bioengineering, Environmental and Tr...</td>\n",
       "      <td>3509018.0</td>\n",
       "    </tr>\n",
       "    <tr>\n",
       "      <th>15</th>\n",
       "      <td>Engineering</td>\n",
       "      <td>Civil, Mechanical and Manufacturing Innovation</td>\n",
       "      <td>5603333.0</td>\n",
       "    </tr>\n",
       "    <tr>\n",
       "      <th>16</th>\n",
       "      <td>Engineering</td>\n",
       "      <td>Electrical, Communications and Cyber Systems</td>\n",
       "      <td>500000.0</td>\n",
       "    </tr>\n",
       "    <tr>\n",
       "      <th>17</th>\n",
       "      <td>Engineering</td>\n",
       "      <td>Engineering Education and Centers</td>\n",
       "      <td>23860134.0</td>\n",
       "    </tr>\n",
       "    <tr>\n",
       "      <th>18</th>\n",
       "      <td>Geosciences</td>\n",
       "      <td>Atmospheric and Geospace Sciences</td>\n",
       "      <td>524512.0</td>\n",
       "    </tr>\n",
       "    <tr>\n",
       "      <th>19</th>\n",
       "      <td>Geosciences</td>\n",
       "      <td>Earth Sciences</td>\n",
       "      <td>3481099.0</td>\n",
       "    </tr>\n",
       "    <tr>\n",
       "      <th>20</th>\n",
       "      <td>Geosciences</td>\n",
       "      <td>Ocean Sciences</td>\n",
       "      <td>2508883.0</td>\n",
       "    </tr>\n",
       "    <tr>\n",
       "      <th>21</th>\n",
       "      <td>Geosciences</td>\n",
       "      <td>Polar Programs</td>\n",
       "      <td>1788468.0</td>\n",
       "    </tr>\n",
       "    <tr>\n",
       "      <th>22</th>\n",
       "      <td>Geosciences</td>\n",
       "      <td>Research, Innovation, Synergies, and Education</td>\n",
       "      <td>27646019.0</td>\n",
       "    </tr>\n",
       "    <tr>\n",
       "      <th>23</th>\n",
       "      <td>Mathematical and Physical Sciences</td>\n",
       "      <td>Astronomical Sciences</td>\n",
       "      <td>247686.0</td>\n",
       "    </tr>\n",
       "    <tr>\n",
       "      <th>24</th>\n",
       "      <td>Mathematical and Physical Sciences</td>\n",
       "      <td>Chemistry</td>\n",
       "      <td>788800.0</td>\n",
       "    </tr>\n",
       "    <tr>\n",
       "      <th>25</th>\n",
       "      <td>Mathematical and Physical Sciences</td>\n",
       "      <td>MPS Multidisciplinary Activities</td>\n",
       "      <td>1196064.0</td>\n",
       "    </tr>\n",
       "    <tr>\n",
       "      <th>26</th>\n",
       "      <td>Mathematical and Physical Sciences</td>\n",
       "      <td>Materials Research</td>\n",
       "      <td>1580715.0</td>\n",
       "    </tr>\n",
       "    <tr>\n",
       "      <th>27</th>\n",
       "      <td>Mathematical and Physical Sciences</td>\n",
       "      <td>Mathematical Sciences</td>\n",
       "      <td>1939805.0</td>\n",
       "    </tr>\n",
       "    <tr>\n",
       "      <th>28</th>\n",
       "      <td>Mathematical and Physical Sciences</td>\n",
       "      <td>Physics</td>\n",
       "      <td>665242.0</td>\n",
       "    </tr>\n",
       "    <tr>\n",
       "      <th>29</th>\n",
       "      <td>Office of the Director</td>\n",
       "      <td>International Science and Engineering</td>\n",
       "      <td>4859738.0</td>\n",
       "    </tr>\n",
       "    <tr>\n",
       "      <th>30</th>\n",
       "      <td>STEM Education</td>\n",
       "      <td>Equity for Excellence in STEM</td>\n",
       "      <td>57882298.0</td>\n",
       "    </tr>\n",
       "    <tr>\n",
       "      <th>31</th>\n",
       "      <td>STEM Education</td>\n",
       "      <td>Graduate Education</td>\n",
       "      <td>31958992.0</td>\n",
       "    </tr>\n",
       "    <tr>\n",
       "      <th>32</th>\n",
       "      <td>STEM Education</td>\n",
       "      <td>Research on Learning in Formal and Informal Se...</td>\n",
       "      <td>216146001.0</td>\n",
       "    </tr>\n",
       "    <tr>\n",
       "      <th>33</th>\n",
       "      <td>STEM Education</td>\n",
       "      <td>Undergraduate Education</td>\n",
       "      <td>15767565.0</td>\n",
       "    </tr>\n",
       "  </tbody>\n",
       "</table>\n",
       "</div>"
      ],
      "text/plain": [
       "                                         directorate  \\\n",
       "0         \"Social, Behavioral and Economic Sciences\"   \n",
       "1         \"Social, Behavioral and Economic Sciences\"   \n",
       "2         \"Social, Behavioral and Economic Sciences\"   \n",
       "3          \"Technology, Innovation and Partnerships\"   \n",
       "4          \"Technology, Innovation and Partnerships\"   \n",
       "5          \"Technology, Innovation and Partnerships\"   \n",
       "6                                Biological Sciences   \n",
       "7                                Biological Sciences   \n",
       "8                                Biological Sciences   \n",
       "9                                Biological Sciences   \n",
       "10                               Biological Sciences   \n",
       "11  Computer and Information Science and Engineering   \n",
       "12  Computer and Information Science and Engineering   \n",
       "13  Computer and Information Science and Engineering   \n",
       "14                                       Engineering   \n",
       "15                                       Engineering   \n",
       "16                                       Engineering   \n",
       "17                                       Engineering   \n",
       "18                                       Geosciences   \n",
       "19                                       Geosciences   \n",
       "20                                       Geosciences   \n",
       "21                                       Geosciences   \n",
       "22                                       Geosciences   \n",
       "23                Mathematical and Physical Sciences   \n",
       "24                Mathematical and Physical Sciences   \n",
       "25                Mathematical and Physical Sciences   \n",
       "26                Mathematical and Physical Sciences   \n",
       "27                Mathematical and Physical Sciences   \n",
       "28                Mathematical and Physical Sciences   \n",
       "29                            Office of the Director   \n",
       "30                                    STEM Education   \n",
       "31                                    STEM Education   \n",
       "32                                    STEM Education   \n",
       "33                                    STEM Education   \n",
       "\n",
       "                                             division  usaspending_obligated  \n",
       "0                   Behavioral and Cognitive Sciences             22906439.0  \n",
       "1                        Multidisciplinary Activities             11999166.0  \n",
       "2                        Social and Economic Sciences             42730299.0  \n",
       "3                               Industrial Innovation               266000.0  \n",
       "4             Technology, Innovation and Partnerships             51953341.0  \n",
       "5                               Translational Impacts              8811969.0  \n",
       "6                           Biological Infrastructure             22931877.0  \n",
       "7                                  Emerging Frontiers               109940.0  \n",
       "8                               Environmental Biology              2251615.0  \n",
       "9                      Integrative Organismal Systems                53487.0  \n",
       "10                 Molecular and Cellular Biosciences              2164581.0  \n",
       "11                       Computer and Network Systems             34970002.0  \n",
       "12            Computing and Communication Foundations              1798703.0  \n",
       "13                Information and Intelligent Systems              7861408.0  \n",
       "14  Chemical, Bioengineering, Environmental and Tr...              3509018.0  \n",
       "15     Civil, Mechanical and Manufacturing Innovation              5603333.0  \n",
       "16       Electrical, Communications and Cyber Systems               500000.0  \n",
       "17                  Engineering Education and Centers             23860134.0  \n",
       "18                  Atmospheric and Geospace Sciences               524512.0  \n",
       "19                                     Earth Sciences              3481099.0  \n",
       "20                                     Ocean Sciences              2508883.0  \n",
       "21                                     Polar Programs              1788468.0  \n",
       "22     Research, Innovation, Synergies, and Education             27646019.0  \n",
       "23                              Astronomical Sciences               247686.0  \n",
       "24                                          Chemistry               788800.0  \n",
       "25                   MPS Multidisciplinary Activities              1196064.0  \n",
       "26                                 Materials Research              1580715.0  \n",
       "27                              Mathematical Sciences              1939805.0  \n",
       "28                                            Physics               665242.0  \n",
       "29              International Science and Engineering              4859738.0  \n",
       "30                      Equity for Excellence in STEM             57882298.0  \n",
       "31                                 Graduate Education             31958992.0  \n",
       "32  Research on Learning in Formal and Informal Se...            216146001.0  \n",
       "33                            Undergraduate Education             15767565.0  "
      ]
     },
     "execution_count": 57,
     "metadata": {},
     "output_type": "execute_result"
    }
   ],
   "source": [
    "df"
   ]
  },
  {
   "cell_type": "code",
   "execution_count": null,
   "id": "3b0bdd43-642f-4c12-9339-29986bed6111",
   "metadata": {},
   "outputs": [],
   "source": [
    "df = nsf_terminations.groupby(['directorate', 'division'], as_index=False)['usaspending_obligated'].sum()\n",
    "df['obligated_millions'] = df['usaspending_obligated'] / 1e6\n",
    "\n",
    "fig = px.sunburst(df, path=['directorate', 'division'], values='usaspending_obligated', \\\n",
    "                  color='usaspending_obligated', custom_data=['obligated_millions'], \\\n",
    "                  title=\"Distribution of the NSF funding cut.\",\\\n",
    "                  width=900, height=700\n",
    "                 )\n",
    "fig.update_traces(\n",
    "    hovertemplate=\"%{label}<br>usaspending_obligated: <b>$%{customdata[0]:,.2f}M</b><extra></extra>\",\n",
    "    selector='division'\n",
    ")\n",
    "#fig.write_image(\"sunburst1.svg\")\n",
    "fig.show()"
   ]
  },
  {
   "cell_type": "code",
   "execution_count": 105,
   "id": "8482a5f4-2446-4c3f-811f-5f3ddae2cefc",
   "metadata": {},
   "outputs": [],
   "source": [
    "df_tips = px.data.tips()"
   ]
  },
  {
   "cell_type": "code",
   "execution_count": 110,
   "id": "390e4c81-cab3-4b18-8e04-bd6f11bd2b62",
   "metadata": {},
   "outputs": [
    {
     "data": {
      "application/vnd.plotly.v1+json": {
       "config": {
        "plotlyServerURL": "https://plot.ly"
       },
       "data": [
        {
         "branchvalues": "total",
         "customdata": [
          [
           "Dinner"
          ],
          [
           "Lunch"
          ],
          [
           "(?)"
          ],
          [
           "Dinner"
          ],
          [
           "Dinner"
          ],
          [
           "Dinner"
          ],
          [
           "Dinner"
          ],
          [
           "(?)"
          ],
          [
           "(?)"
          ],
          [
           "(?)"
          ],
          [
           "Lunch"
          ],
          [
           "Lunch"
          ],
          [
           "Lunch"
          ],
          [
           "Dinner"
          ],
          [
           "Dinner"
          ],
          [
           "Dinner"
          ],
          [
           "Dinner"
          ],
          [
           "Dinner"
          ],
          [
           "Dinner"
          ],
          [
           "Lunch"
          ],
          [
           "(?)"
          ]
         ],
         "domain": {
          "x": [
           0,
           1
          ],
          "y": [
           0,
           1
          ]
         },
         "hovertemplate": "labels=%{label}<br>total_bill=%{value}<br>parent=%{parent}<br>id=%{id}<br>time=%{customdata[0]}<extra></extra>",
         "ids": [
          "Female/Fri/Dinner",
          "Male/Thur",
          "Female/Thur",
          "Male/Sun",
          "Female/Sun",
          "Male/Sat",
          "Female/Sat",
          "Male/Fri",
          "Female/Fri",
          "Female",
          "Male/Thur/Lunch",
          "Male/Fri/Lunch",
          "Female/Fri/Lunch",
          "Female/Thur/Dinner",
          "Male/Sun/Dinner",
          "Female/Sun/Dinner",
          "Male/Sat/Dinner",
          "Female/Sat/Dinner",
          "Male/Fri/Dinner",
          "Female/Thur/Lunch",
          "Male"
         ],
         "labels": [
          "Dinner",
          "Thur",
          "Thur",
          "Sun",
          "Sun",
          "Sat",
          "Sat",
          "Fri",
          "Fri",
          "Female",
          "Lunch",
          "Lunch",
          "Lunch",
          "Dinner",
          "Dinner",
          "Dinner",
          "Dinner",
          "Dinner",
          "Dinner",
          "Lunch",
          "Male"
         ],
         "marker": {
          "colors": [
           "#636efa",
           "#EF553B",
           "#00cc96",
           "#636efa",
           "#636efa",
           "#636efa",
           "#636efa",
           "#00cc96",
           "#00cc96",
           "#00cc96",
           "#EF553B",
           "#EF553B",
           "#EF553B",
           "#636efa",
           "#636efa",
           "#636efa",
           "#636efa",
           "#636efa",
           "#636efa",
           "#EF553B",
           "#00cc96"
          ]
         },
         "name": "",
         "parents": [
          "Female/Fri",
          "Male",
          "Female",
          "Male",
          "Female",
          "Male",
          "Female",
          "Male",
          "Female",
          "",
          "Male/Thur",
          "Male/Fri",
          "Female/Fri",
          "Female/Thur",
          "Male/Sun",
          "Female/Sun",
          "Male/Sat",
          "Female/Sat",
          "Male/Fri",
          "Female/Thur",
          ""
         ],
         "type": "sunburst",
         "values": [
          71.55,
          561.4399999999999,
          534.89,
          1269.46,
          357.7,
          1227.35,
          551.05,
          198.57,
          127.31,
          1570.95,
          561.4399999999999,
          34.16,
          55.760000000000005,
          18.78,
          1269.46,
          357.7,
          1227.35,
          551.05,
          164.41,
          516.11,
          3256.82
         ]
        }
       ],
       "layout": {
        "autosize": true,
        "legend": {
         "tracegroupgap": 0
        },
        "margin": {
         "t": 60
        },
        "template": {
         "data": {
          "bar": [
           {
            "error_x": {
             "color": "#2a3f5f"
            },
            "error_y": {
             "color": "#2a3f5f"
            },
            "marker": {
             "line": {
              "color": "#E5ECF6",
              "width": 0.5
             },
             "pattern": {
              "fillmode": "overlay",
              "size": 10,
              "solidity": 0.2
             }
            },
            "type": "bar"
           }
          ],
          "barpolar": [
           {
            "marker": {
             "line": {
              "color": "#E5ECF6",
              "width": 0.5
             },
             "pattern": {
              "fillmode": "overlay",
              "size": 10,
              "solidity": 0.2
             }
            },
            "type": "barpolar"
           }
          ],
          "carpet": [
           {
            "aaxis": {
             "endlinecolor": "#2a3f5f",
             "gridcolor": "white",
             "linecolor": "white",
             "minorgridcolor": "white",
             "startlinecolor": "#2a3f5f"
            },
            "baxis": {
             "endlinecolor": "#2a3f5f",
             "gridcolor": "white",
             "linecolor": "white",
             "minorgridcolor": "white",
             "startlinecolor": "#2a3f5f"
            },
            "type": "carpet"
           }
          ],
          "choropleth": [
           {
            "colorbar": {
             "outlinewidth": 0,
             "ticks": ""
            },
            "type": "choropleth"
           }
          ],
          "contour": [
           {
            "colorbar": {
             "outlinewidth": 0,
             "ticks": ""
            },
            "colorscale": [
             [
              0,
              "#0d0887"
             ],
             [
              0.1111111111111111,
              "#46039f"
             ],
             [
              0.2222222222222222,
              "#7201a8"
             ],
             [
              0.3333333333333333,
              "#9c179e"
             ],
             [
              0.4444444444444444,
              "#bd3786"
             ],
             [
              0.5555555555555556,
              "#d8576b"
             ],
             [
              0.6666666666666666,
              "#ed7953"
             ],
             [
              0.7777777777777778,
              "#fb9f3a"
             ],
             [
              0.8888888888888888,
              "#fdca26"
             ],
             [
              1,
              "#f0f921"
             ]
            ],
            "type": "contour"
           }
          ],
          "contourcarpet": [
           {
            "colorbar": {
             "outlinewidth": 0,
             "ticks": ""
            },
            "type": "contourcarpet"
           }
          ],
          "heatmap": [
           {
            "colorbar": {
             "outlinewidth": 0,
             "ticks": ""
            },
            "colorscale": [
             [
              0,
              "#0d0887"
             ],
             [
              0.1111111111111111,
              "#46039f"
             ],
             [
              0.2222222222222222,
              "#7201a8"
             ],
             [
              0.3333333333333333,
              "#9c179e"
             ],
             [
              0.4444444444444444,
              "#bd3786"
             ],
             [
              0.5555555555555556,
              "#d8576b"
             ],
             [
              0.6666666666666666,
              "#ed7953"
             ],
             [
              0.7777777777777778,
              "#fb9f3a"
             ],
             [
              0.8888888888888888,
              "#fdca26"
             ],
             [
              1,
              "#f0f921"
             ]
            ],
            "type": "heatmap"
           }
          ],
          "heatmapgl": [
           {
            "colorbar": {
             "outlinewidth": 0,
             "ticks": ""
            },
            "colorscale": [
             [
              0,
              "#0d0887"
             ],
             [
              0.1111111111111111,
              "#46039f"
             ],
             [
              0.2222222222222222,
              "#7201a8"
             ],
             [
              0.3333333333333333,
              "#9c179e"
             ],
             [
              0.4444444444444444,
              "#bd3786"
             ],
             [
              0.5555555555555556,
              "#d8576b"
             ],
             [
              0.6666666666666666,
              "#ed7953"
             ],
             [
              0.7777777777777778,
              "#fb9f3a"
             ],
             [
              0.8888888888888888,
              "#fdca26"
             ],
             [
              1,
              "#f0f921"
             ]
            ],
            "type": "heatmapgl"
           }
          ],
          "histogram": [
           {
            "marker": {
             "pattern": {
              "fillmode": "overlay",
              "size": 10,
              "solidity": 0.2
             }
            },
            "type": "histogram"
           }
          ],
          "histogram2d": [
           {
            "colorbar": {
             "outlinewidth": 0,
             "ticks": ""
            },
            "colorscale": [
             [
              0,
              "#0d0887"
             ],
             [
              0.1111111111111111,
              "#46039f"
             ],
             [
              0.2222222222222222,
              "#7201a8"
             ],
             [
              0.3333333333333333,
              "#9c179e"
             ],
             [
              0.4444444444444444,
              "#bd3786"
             ],
             [
              0.5555555555555556,
              "#d8576b"
             ],
             [
              0.6666666666666666,
              "#ed7953"
             ],
             [
              0.7777777777777778,
              "#fb9f3a"
             ],
             [
              0.8888888888888888,
              "#fdca26"
             ],
             [
              1,
              "#f0f921"
             ]
            ],
            "type": "histogram2d"
           }
          ],
          "histogram2dcontour": [
           {
            "colorbar": {
             "outlinewidth": 0,
             "ticks": ""
            },
            "colorscale": [
             [
              0,
              "#0d0887"
             ],
             [
              0.1111111111111111,
              "#46039f"
             ],
             [
              0.2222222222222222,
              "#7201a8"
             ],
             [
              0.3333333333333333,
              "#9c179e"
             ],
             [
              0.4444444444444444,
              "#bd3786"
             ],
             [
              0.5555555555555556,
              "#d8576b"
             ],
             [
              0.6666666666666666,
              "#ed7953"
             ],
             [
              0.7777777777777778,
              "#fb9f3a"
             ],
             [
              0.8888888888888888,
              "#fdca26"
             ],
             [
              1,
              "#f0f921"
             ]
            ],
            "type": "histogram2dcontour"
           }
          ],
          "mesh3d": [
           {
            "colorbar": {
             "outlinewidth": 0,
             "ticks": ""
            },
            "type": "mesh3d"
           }
          ],
          "parcoords": [
           {
            "line": {
             "colorbar": {
              "outlinewidth": 0,
              "ticks": ""
             }
            },
            "type": "parcoords"
           }
          ],
          "pie": [
           {
            "automargin": true,
            "type": "pie"
           }
          ],
          "scatter": [
           {
            "fillpattern": {
             "fillmode": "overlay",
             "size": 10,
             "solidity": 0.2
            },
            "type": "scatter"
           }
          ],
          "scatter3d": [
           {
            "line": {
             "colorbar": {
              "outlinewidth": 0,
              "ticks": ""
             }
            },
            "marker": {
             "colorbar": {
              "outlinewidth": 0,
              "ticks": ""
             }
            },
            "type": "scatter3d"
           }
          ],
          "scattercarpet": [
           {
            "marker": {
             "colorbar": {
              "outlinewidth": 0,
              "ticks": ""
             }
            },
            "type": "scattercarpet"
           }
          ],
          "scattergeo": [
           {
            "marker": {
             "colorbar": {
              "outlinewidth": 0,
              "ticks": ""
             }
            },
            "type": "scattergeo"
           }
          ],
          "scattergl": [
           {
            "marker": {
             "colorbar": {
              "outlinewidth": 0,
              "ticks": ""
             }
            },
            "type": "scattergl"
           }
          ],
          "scattermapbox": [
           {
            "marker": {
             "colorbar": {
              "outlinewidth": 0,
              "ticks": ""
             }
            },
            "type": "scattermapbox"
           }
          ],
          "scatterpolar": [
           {
            "marker": {
             "colorbar": {
              "outlinewidth": 0,
              "ticks": ""
             }
            },
            "type": "scatterpolar"
           }
          ],
          "scatterpolargl": [
           {
            "marker": {
             "colorbar": {
              "outlinewidth": 0,
              "ticks": ""
             }
            },
            "type": "scatterpolargl"
           }
          ],
          "scatterternary": [
           {
            "marker": {
             "colorbar": {
              "outlinewidth": 0,
              "ticks": ""
             }
            },
            "type": "scatterternary"
           }
          ],
          "surface": [
           {
            "colorbar": {
             "outlinewidth": 0,
             "ticks": ""
            },
            "colorscale": [
             [
              0,
              "#0d0887"
             ],
             [
              0.1111111111111111,
              "#46039f"
             ],
             [
              0.2222222222222222,
              "#7201a8"
             ],
             [
              0.3333333333333333,
              "#9c179e"
             ],
             [
              0.4444444444444444,
              "#bd3786"
             ],
             [
              0.5555555555555556,
              "#d8576b"
             ],
             [
              0.6666666666666666,
              "#ed7953"
             ],
             [
              0.7777777777777778,
              "#fb9f3a"
             ],
             [
              0.8888888888888888,
              "#fdca26"
             ],
             [
              1,
              "#f0f921"
             ]
            ],
            "type": "surface"
           }
          ],
          "table": [
           {
            "cells": {
             "fill": {
              "color": "#EBF0F8"
             },
             "line": {
              "color": "white"
             }
            },
            "header": {
             "fill": {
              "color": "#C8D4E3"
             },
             "line": {
              "color": "white"
             }
            },
            "type": "table"
           }
          ]
         },
         "layout": {
          "annotationdefaults": {
           "arrowcolor": "#2a3f5f",
           "arrowhead": 0,
           "arrowwidth": 1
          },
          "autotypenumbers": "strict",
          "coloraxis": {
           "colorbar": {
            "outlinewidth": 0,
            "ticks": ""
           }
          },
          "colorscale": {
           "diverging": [
            [
             0,
             "#8e0152"
            ],
            [
             0.1,
             "#c51b7d"
            ],
            [
             0.2,
             "#de77ae"
            ],
            [
             0.3,
             "#f1b6da"
            ],
            [
             0.4,
             "#fde0ef"
            ],
            [
             0.5,
             "#f7f7f7"
            ],
            [
             0.6,
             "#e6f5d0"
            ],
            [
             0.7,
             "#b8e186"
            ],
            [
             0.8,
             "#7fbc41"
            ],
            [
             0.9,
             "#4d9221"
            ],
            [
             1,
             "#276419"
            ]
           ],
           "sequential": [
            [
             0,
             "#0d0887"
            ],
            [
             0.1111111111111111,
             "#46039f"
            ],
            [
             0.2222222222222222,
             "#7201a8"
            ],
            [
             0.3333333333333333,
             "#9c179e"
            ],
            [
             0.4444444444444444,
             "#bd3786"
            ],
            [
             0.5555555555555556,
             "#d8576b"
            ],
            [
             0.6666666666666666,
             "#ed7953"
            ],
            [
             0.7777777777777778,
             "#fb9f3a"
            ],
            [
             0.8888888888888888,
             "#fdca26"
            ],
            [
             1,
             "#f0f921"
            ]
           ],
           "sequentialminus": [
            [
             0,
             "#0d0887"
            ],
            [
             0.1111111111111111,
             "#46039f"
            ],
            [
             0.2222222222222222,
             "#7201a8"
            ],
            [
             0.3333333333333333,
             "#9c179e"
            ],
            [
             0.4444444444444444,
             "#bd3786"
            ],
            [
             0.5555555555555556,
             "#d8576b"
            ],
            [
             0.6666666666666666,
             "#ed7953"
            ],
            [
             0.7777777777777778,
             "#fb9f3a"
            ],
            [
             0.8888888888888888,
             "#fdca26"
            ],
            [
             1,
             "#f0f921"
            ]
           ]
          },
          "colorway": [
           "#636efa",
           "#EF553B",
           "#00cc96",
           "#ab63fa",
           "#FFA15A",
           "#19d3f3",
           "#FF6692",
           "#B6E880",
           "#FF97FF",
           "#FECB52"
          ],
          "font": {
           "color": "#2a3f5f"
          },
          "geo": {
           "bgcolor": "white",
           "lakecolor": "white",
           "landcolor": "#E5ECF6",
           "showlakes": true,
           "showland": true,
           "subunitcolor": "white"
          },
          "hoverlabel": {
           "align": "left"
          },
          "hovermode": "closest",
          "mapbox": {
           "style": "light"
          },
          "paper_bgcolor": "white",
          "plot_bgcolor": "#E5ECF6",
          "polar": {
           "angularaxis": {
            "gridcolor": "white",
            "linecolor": "white",
            "ticks": ""
           },
           "bgcolor": "#E5ECF6",
           "radialaxis": {
            "gridcolor": "white",
            "linecolor": "white",
            "ticks": ""
           }
          },
          "scene": {
           "xaxis": {
            "backgroundcolor": "#E5ECF6",
            "gridcolor": "white",
            "gridwidth": 2,
            "linecolor": "white",
            "showbackground": true,
            "ticks": "",
            "zerolinecolor": "white"
           },
           "yaxis": {
            "backgroundcolor": "#E5ECF6",
            "gridcolor": "white",
            "gridwidth": 2,
            "linecolor": "white",
            "showbackground": true,
            "ticks": "",
            "zerolinecolor": "white"
           },
           "zaxis": {
            "backgroundcolor": "#E5ECF6",
            "gridcolor": "white",
            "gridwidth": 2,
            "linecolor": "white",
            "showbackground": true,
            "ticks": "",
            "zerolinecolor": "white"
           }
          },
          "shapedefaults": {
           "line": {
            "color": "#2a3f5f"
           }
          },
          "ternary": {
           "aaxis": {
            "gridcolor": "white",
            "linecolor": "white",
            "ticks": ""
           },
           "baxis": {
            "gridcolor": "white",
            "linecolor": "white",
            "ticks": ""
           },
           "bgcolor": "#E5ECF6",
           "caxis": {
            "gridcolor": "white",
            "linecolor": "white",
            "ticks": ""
           }
          },
          "title": {
           "x": 0.05
          },
          "xaxis": {
           "automargin": true,
           "gridcolor": "white",
           "linecolor": "white",
           "ticks": "",
           "title": {
            "standoff": 15
           },
           "zerolinecolor": "white",
           "zerolinewidth": 2
          },
          "yaxis": {
           "automargin": true,
           "gridcolor": "white",
           "linecolor": "white",
           "ticks": "",
           "title": {
            "standoff": 15
           },
           "zerolinecolor": "white",
           "zerolinewidth": 2
          }
         }
        }
       }
      },
      "image/png": "[encoded data removed]",
      "text/html": [
       "<div>                            <div id=\"b934a0ff-02eb-4a70-ba82-15ba2e6b1118\" class=\"plotly-graph-div\" style=\"height:525px; width:100%;\"></div>            <script type=\"text/javascript\">                require([\"plotly\"], function(Plotly) {                    window.PLOTLYENV=window.PLOTLYENV || {};                                    if (document.getElementById(\"b934a0ff-02eb-4a70-ba82-15ba2e6b1118\")) {                    Plotly.newPlot(                        \"b934a0ff-02eb-4a70-ba82-15ba2e6b1118\",                        [{\"branchvalues\":\"total\",\"customdata\":[[\"Dinner\"],[\"Lunch\"],[\"(?)\"],[\"Dinner\"],[\"Dinner\"],[\"Dinner\"],[\"Dinner\"],[\"(?)\"],[\"(?)\"],[\"(?)\"],[\"Lunch\"],[\"Lunch\"],[\"Lunch\"],[\"Dinner\"],[\"Dinner\"],[\"Dinner\"],[\"Dinner\"],[\"Dinner\"],[\"Dinner\"],[\"Lunch\"],[\"(?)\"]],\"domain\":{\"x\":[0.0,1.0],\"y\":[0.0,1.0]},\"hovertemplate\":\"labels=%{label}\\u003cbr\\u003etotal_bill=%{value}\\u003cbr\\u003eparent=%{parent}\\u003cbr\\u003eid=%{id}\\u003cbr\\u003etime=%{customdata[0]}\\u003cextra\\u003e\\u003c\\u002fextra\\u003e\",\"ids\":[\"Female\\u002fFri\\u002fDinner\",\"Male\\u002fThur\",\"Female\\u002fThur\",\"Male\\u002fSun\",\"Female\\u002fSun\",\"Male\\u002fSat\",\"Female\\u002fSat\",\"Male\\u002fFri\",\"Female\\u002fFri\",\"Female\",\"Male\\u002fThur\\u002fLunch\",\"Male\\u002fFri\\u002fLunch\",\"Female\\u002fFri\\u002fLunch\",\"Female\\u002fThur\\u002fDinner\",\"Male\\u002fSun\\u002fDinner\",\"Female\\u002fSun\\u002fDinner\",\"Male\\u002fSat\\u002fDinner\",\"Female\\u002fSat\\u002fDinner\",\"Male\\u002fFri\\u002fDinner\",\"Female\\u002fThur\\u002fLunch\",\"Male\"],\"labels\":[\"Dinner\",\"Thur\",\"Thur\",\"Sun\",\"Sun\",\"Sat\",\"Sat\",\"Fri\",\"Fri\",\"Female\",\"Lunch\",\"Lunch\",\"Lunch\",\"Dinner\",\"Dinner\",\"Dinner\",\"Dinner\",\"Dinner\",\"Dinner\",\"Lunch\",\"Male\"],\"marker\":{\"colors\":[\"#636efa\",\"#EF553B\",\"#00cc96\",\"#636efa\",\"#636efa\",\"#636efa\",\"#636efa\",\"#00cc96\",\"#00cc96\",\"#00cc96\",\"#EF553B\",\"#EF553B\",\"#EF553B\",\"#636efa\",\"#636efa\",\"#636efa\",\"#636efa\",\"#636efa\",\"#636efa\",\"#EF553B\",\"#00cc96\"]},\"name\":\"\",\"parents\":[\"Female\\u002fFri\",\"Male\",\"Female\",\"Male\",\"Female\",\"Male\",\"Female\",\"Male\",\"Female\",\"\",\"Male\\u002fThur\",\"Male\\u002fFri\",\"Female\\u002fFri\",\"Female\\u002fThur\",\"Male\\u002fSun\",\"Female\\u002fSun\",\"Male\\u002fSat\",\"Female\\u002fSat\",\"Male\\u002fFri\",\"Female\\u002fThur\",\"\"],\"values\":[71.55,561.4399999999999,534.89,1269.46,357.7,1227.35,551.05,198.57,127.31,1570.95,561.4399999999999,34.16,55.760000000000005,18.78,1269.46,357.7,1227.35,551.05,164.41,516.11,3256.82],\"type\":\"sunburst\"}],                        {\"template\":{\"data\":{\"histogram2dcontour\":[{\"type\":\"histogram2dcontour\",\"colorbar\":{\"outlinewidth\":0,\"ticks\":\"\"},\"colorscale\":[[0.0,\"#0d0887\"],[0.1111111111111111,\"#46039f\"],[0.2222222222222222,\"#7201a8\"],[0.3333333333333333,\"#9c179e\"],[0.4444444444444444,\"#bd3786\"],[0.5555555555555556,\"#d8576b\"],[0.6666666666666666,\"#ed7953\"],[0.7777777777777778,\"#fb9f3a\"],[0.8888888888888888,\"#fdca26\"],[1.0,\"#f0f921\"]]}],\"choropleth\":[{\"type\":\"choropleth\",\"colorbar\":{\"outlinewidth\":0,\"ticks\":\"\"}}],\"histogram2d\":[{\"type\":\"histogram2d\",\"colorbar\":{\"outlinewidth\":0,\"ticks\":\"\"},\"colorscale\":[[0.0,\"#0d0887\"],[0.1111111111111111,\"#46039f\"],[0.2222222222222222,\"#7201a8\"],[0.3333333333333333,\"#9c179e\"],[0.4444444444444444,\"#bd3786\"],[0.5555555555555556,\"#d8576b\"],[0.6666666666666666,\"#ed7953\"],[0.7777777777777778,\"#fb9f3a\"],[0.8888888888888888,\"#fdca26\"],[1.0,\"#f0f921\"]]}],\"heatmap\":[{\"type\":\"heatmap\",\"colorbar\":{\"outlinewidth\":0,\"ticks\":\"\"},\"colorscale\":[[0.0,\"#0d0887\"],[0.1111111111111111,\"#46039f\"],[0.2222222222222222,\"#7201a8\"],[0.3333333333333333,\"#9c179e\"],[0.4444444444444444,\"#bd3786\"],[0.5555555555555556,\"#d8576b\"],[0.6666666666666666,\"#ed7953\"],[0.7777777777777778,\"#fb9f3a\"],[0.8888888888888888,\"#fdca26\"],[1.0,\"#f0f921\"]]}],\"heatmapgl\":[{\"type\":\"heatmapgl\",\"colorbar\":{\"outlinewidth\":0,\"ticks\":\"\"},\"colorscale\":[[0.0,\"#0d0887\"],[0.1111111111111111,\"#46039f\"],[0.2222222222222222,\"#7201a8\"],[0.3333333333333333,\"#9c179e\"],[0.4444444444444444,\"#bd3786\"],[0.5555555555555556,\"#d8576b\"],[0.6666666666666666,\"#ed7953\"],[0.7777777777777778,\"#fb9f3a\"],[0.8888888888888888,\"#fdca26\"],[1.0,\"#f0f921\"]]}],\"contourcarpet\":[{\"type\":\"contourcarpet\",\"colorbar\":{\"outlinewidth\":0,\"ticks\":\"\"}}],\"contour\":[{\"type\":\"contour\",\"colorbar\":{\"outlinewidth\":0,\"ticks\":\"\"},\"colorscale\":[[0.0,\"#0d0887\"],[0.1111111111111111,\"#46039f\"],[0.2222222222222222,\"#7201a8\"],[0.3333333333333333,\"#9c179e\"],[0.4444444444444444,\"#bd3786\"],[0.5555555555555556,\"#d8576b\"],[0.6666666666666666,\"#ed7953\"],[0.7777777777777778,\"#fb9f3a\"],[0.8888888888888888,\"#fdca26\"],[1.0,\"#f0f921\"]]}],\"surface\":[{\"type\":\"surface\",\"colorbar\":{\"outlinewidth\":0,\"ticks\":\"\"},\"colorscale\":[[0.0,\"#0d0887\"],[0.1111111111111111,\"#46039f\"],[0.2222222222222222,\"#7201a8\"],[0.3333333333333333,\"#9c179e\"],[0.4444444444444444,\"#bd3786\"],[0.5555555555555556,\"#d8576b\"],[0.6666666666666666,\"#ed7953\"],[0.7777777777777778,\"#fb9f3a\"],[0.8888888888888888,\"#fdca26\"],[1.0,\"#f0f921\"]]}],\"mesh3d\":[{\"type\":\"mesh3d\",\"colorbar\":{\"outlinewidth\":0,\"ticks\":\"\"}}],\"scatter\":[{\"fillpattern\":{\"fillmode\":\"overlay\",\"size\":10,\"solidity\":0.2},\"type\":\"scatter\"}],\"parcoords\":[{\"type\":\"parcoords\",\"line\":{\"colorbar\":{\"outlinewidth\":0,\"ticks\":\"\"}}}],\"scatterpolargl\":[{\"type\":\"scatterpolargl\",\"marker\":{\"colorbar\":{\"outlinewidth\":0,\"ticks\":\"\"}}}],\"bar\":[{\"error_x\":{\"color\":\"#2a3f5f\"},\"error_y\":{\"color\":\"#2a3f5f\"},\"marker\":{\"line\":{\"color\":\"#E5ECF6\",\"width\":0.5},\"pattern\":{\"fillmode\":\"overlay\",\"size\":10,\"solidity\":0.2}},\"type\":\"bar\"}],\"scattergeo\":[{\"type\":\"scattergeo\",\"marker\":{\"colorbar\":{\"outlinewidth\":0,\"ticks\":\"\"}}}],\"scatterpolar\":[{\"type\":\"scatterpolar\",\"marker\":{\"colorbar\":{\"outlinewidth\":0,\"ticks\":\"\"}}}],\"histogram\":[{\"marker\":{\"pattern\":{\"fillmode\":\"overlay\",\"size\":10,\"solidity\":0.2}},\"type\":\"histogram\"}],\"scattergl\":[{\"type\":\"scattergl\",\"marker\":{\"colorbar\":{\"outlinewidth\":0,\"ticks\":\"\"}}}],\"scatter3d\":[{\"type\":\"scatter3d\",\"line\":{\"colorbar\":{\"outlinewidth\":0,\"ticks\":\"\"}},\"marker\":{\"colorbar\":{\"outlinewidth\":0,\"ticks\":\"\"}}}],\"scattermapbox\":[{\"type\":\"scattermapbox\",\"marker\":{\"colorbar\":{\"outlinewidth\":0,\"ticks\":\"\"}}}],\"scatterternary\":[{\"type\":\"scatterternary\",\"marker\":{\"colorbar\":{\"outlinewidth\":0,\"ticks\":\"\"}}}],\"scattercarpet\":[{\"type\":\"scattercarpet\",\"marker\":{\"colorbar\":{\"outlinewidth\":0,\"ticks\":\"\"}}}],\"carpet\":[{\"aaxis\":{\"endlinecolor\":\"#2a3f5f\",\"gridcolor\":\"white\",\"linecolor\":\"white\",\"minorgridcolor\":\"white\",\"startlinecolor\":\"#2a3f5f\"},\"baxis\":{\"endlinecolor\":\"#2a3f5f\",\"gridcolor\":\"white\",\"linecolor\":\"white\",\"minorgridcolor\":\"white\",\"startlinecolor\":\"#2a3f5f\"},\"type\":\"carpet\"}],\"table\":[{\"cells\":{\"fill\":{\"color\":\"#EBF0F8\"},\"line\":{\"color\":\"white\"}},\"header\":{\"fill\":{\"color\":\"#C8D4E3\"},\"line\":{\"color\":\"white\"}},\"type\":\"table\"}],\"barpolar\":[{\"marker\":{\"line\":{\"color\":\"#E5ECF6\",\"width\":0.5},\"pattern\":{\"fillmode\":\"overlay\",\"size\":10,\"solidity\":0.2}},\"type\":\"barpolar\"}],\"pie\":[{\"automargin\":true,\"type\":\"pie\"}]},\"layout\":{\"autotypenumbers\":\"strict\",\"colorway\":[\"#636efa\",\"#EF553B\",\"#00cc96\",\"#ab63fa\",\"#FFA15A\",\"#19d3f3\",\"#FF6692\",\"#B6E880\",\"#FF97FF\",\"#FECB52\"],\"font\":{\"color\":\"#2a3f5f\"},\"hovermode\":\"closest\",\"hoverlabel\":{\"align\":\"left\"},\"paper_bgcolor\":\"white\",\"plot_bgcolor\":\"#E5ECF6\",\"polar\":{\"bgcolor\":\"#E5ECF6\",\"angularaxis\":{\"gridcolor\":\"white\",\"linecolor\":\"white\",\"ticks\":\"\"},\"radialaxis\":{\"gridcolor\":\"white\",\"linecolor\":\"white\",\"ticks\":\"\"}},\"ternary\":{\"bgcolor\":\"#E5ECF6\",\"aaxis\":{\"gridcolor\":\"white\",\"linecolor\":\"white\",\"ticks\":\"\"},\"baxis\":{\"gridcolor\":\"white\",\"linecolor\":\"white\",\"ticks\":\"\"},\"caxis\":{\"gridcolor\":\"white\",\"linecolor\":\"white\",\"ticks\":\"\"}},\"coloraxis\":{\"colorbar\":{\"outlinewidth\":0,\"ticks\":\"\"}},\"colorscale\":{\"sequential\":[[0.0,\"#0d0887\"],[0.1111111111111111,\"#46039f\"],[0.2222222222222222,\"#7201a8\"],[0.3333333333333333,\"#9c179e\"],[0.4444444444444444,\"#bd3786\"],[0.5555555555555556,\"#d8576b\"],[0.6666666666666666,\"#ed7953\"],[0.7777777777777778,\"#fb9f3a\"],[0.8888888888888888,\"#fdca26\"],[1.0,\"#f0f921\"]],\"sequentialminus\":[[0.0,\"#0d0887\"],[0.1111111111111111,\"#46039f\"],[0.2222222222222222,\"#7201a8\"],[0.3333333333333333,\"#9c179e\"],[0.4444444444444444,\"#bd3786\"],[0.5555555555555556,\"#d8576b\"],[0.6666666666666666,\"#ed7953\"],[0.7777777777777778,\"#fb9f3a\"],[0.8888888888888888,\"#fdca26\"],[1.0,\"#f0f921\"]],\"diverging\":[[0,\"#8e0152\"],[0.1,\"#c51b7d\"],[0.2,\"#de77ae\"],[0.3,\"#f1b6da\"],[0.4,\"#fde0ef\"],[0.5,\"#f7f7f7\"],[0.6,\"#e6f5d0\"],[0.7,\"#b8e186\"],[0.8,\"#7fbc41\"],[0.9,\"#4d9221\"],[1,\"#276419\"]]},\"xaxis\":{\"gridcolor\":\"white\",\"linecolor\":\"white\",\"ticks\":\"\",\"title\":{\"standoff\":15},\"zerolinecolor\":\"white\",\"automargin\":true,\"zerolinewidth\":2},\"yaxis\":{\"gridcolor\":\"white\",\"linecolor\":\"white\",\"ticks\":\"\",\"title\":{\"standoff\":15},\"zerolinecolor\":\"white\",\"automargin\":true,\"zerolinewidth\":2},\"scene\":{\"xaxis\":{\"backgroundcolor\":\"#E5ECF6\",\"gridcolor\":\"white\",\"linecolor\":\"white\",\"showbackground\":true,\"ticks\":\"\",\"zerolinecolor\":\"white\",\"gridwidth\":2},\"yaxis\":{\"backgroundcolor\":\"#E5ECF6\",\"gridcolor\":\"white\",\"linecolor\":\"white\",\"showbackground\":true,\"ticks\":\"\",\"zerolinecolor\":\"white\",\"gridwidth\":2},\"zaxis\":{\"backgroundcolor\":\"#E5ECF6\",\"gridcolor\":\"white\",\"linecolor\":\"white\",\"showbackground\":true,\"ticks\":\"\",\"zerolinecolor\":\"white\",\"gridwidth\":2}},\"shapedefaults\":{\"line\":{\"color\":\"#2a3f5f\"}},\"annotationdefaults\":{\"arrowcolor\":\"#2a3f5f\",\"arrowhead\":0,\"arrowwidth\":1},\"geo\":{\"bgcolor\":\"white\",\"landcolor\":\"#E5ECF6\",\"subunitcolor\":\"white\",\"showland\":true,\"showlakes\":true,\"lakecolor\":\"white\"},\"title\":{\"x\":0.05},\"mapbox\":{\"style\":\"light\"}}},\"legend\":{\"tracegroupgap\":0},\"margin\":{\"t\":60}},                        {\"responsive\": true}                    ).then(function(){\n",
       "                            \n",
       "var gd = document.getElementById('b934a0ff-02eb-4a70-ba82-15ba2e6b1118');\n",
       "var x = new MutationObserver(function (mutations, observer) {{\n",
       "        var display = window.getComputedStyle(gd).display;\n",
       "        if (!display || display === 'none') {{\n",
       "            console.log([gd, 'removed!']);\n",
       "            Plotly.purge(gd);\n",
       "            observer.disconnect();\n",
       "        }}\n",
       "}});\n",
       "\n",
       "// Listen for the removal of the full notebook cells\n",
       "var notebookContainer = gd.closest('#notebook-container');\n",
       "if (notebookContainer) {{\n",
       "    x.observe(notebookContainer, {childList: true});\n",
       "}}\n",
       "\n",
       "// Listen for the clearing of the current output cell\n",
       "var outputEl = gd.closest('.output');\n",
       "if (outputEl) {{\n",
       "    x.observe(outputEl, {childList: true});\n",
       "}}\n",
       "\n",
       "                        })                };                });            </script>        </div>"
      ]
     },
     "metadata": {},
     "output_type": "display_data"
    }
   ],
   "source": [
    "fig = px.sunburst(df_tips, path=['sex', 'day', 'time'], values='total_bill', color='time')\n",
    "fig.show()\n"
   ]
  },
  {
   "cell_type": "code",
   "execution_count": 109,
   "id": "4a4ff065-42aa-4670-b555-406d7bcc92d2",
   "metadata": {},
   "outputs": [
    {
     "data": {
      "text/html": [
       "<div>\n",
       "<style scoped>\n",
       "    .dataframe tbody tr th:only-of-type {\n",
       "        vertical-align: middle;\n",
       "    }\n",
       "\n",
       "    .dataframe tbody tr th {\n",
       "        vertical-align: top;\n",
       "    }\n",
       "\n",
       "    .dataframe thead th {\n",
       "        text-align: right;\n",
       "    }\n",
       "</style>\n",
       "<table border=\"1\" class=\"dataframe\">\n",
       "  <thead>\n",
       "    <tr style=\"text-align: right;\">\n",
       "      <th></th>\n",
       "      <th>total_bill</th>\n",
       "      <th>tip</th>\n",
       "      <th>sex</th>\n",
       "      <th>smoker</th>\n",
       "      <th>day</th>\n",
       "      <th>time</th>\n",
       "      <th>size</th>\n",
       "    </tr>\n",
       "  </thead>\n",
       "  <tbody>\n",
       "    <tr>\n",
       "      <th>0</th>\n",
       "      <td>16.99</td>\n",
       "      <td>1.01</td>\n",
       "      <td>Female</td>\n",
       "      <td>No</td>\n",
       "      <td>Sun</td>\n",
       "      <td>Dinner</td>\n",
       "      <td>2</td>\n",
       "    </tr>\n",
       "    <tr>\n",
       "      <th>1</th>\n",
       "      <td>10.34</td>\n",
       "      <td>1.66</td>\n",
       "      <td>Male</td>\n",
       "      <td>No</td>\n",
       "      <td>Sun</td>\n",
       "      <td>Dinner</td>\n",
       "      <td>3</td>\n",
       "    </tr>\n",
       "    <tr>\n",
       "      <th>2</th>\n",
       "      <td>21.01</td>\n",
       "      <td>3.50</td>\n",
       "      <td>Male</td>\n",
       "      <td>No</td>\n",
       "      <td>Sun</td>\n",
       "      <td>Dinner</td>\n",
       "      <td>3</td>\n",
       "    </tr>\n",
       "    <tr>\n",
       "      <th>3</th>\n",
       "      <td>23.68</td>\n",
       "      <td>3.31</td>\n",
       "      <td>Male</td>\n",
       "      <td>No</td>\n",
       "      <td>Sun</td>\n",
       "      <td>Dinner</td>\n",
       "      <td>2</td>\n",
       "    </tr>\n",
       "    <tr>\n",
       "      <th>4</th>\n",
       "      <td>24.59</td>\n",
       "      <td>3.61</td>\n",
       "      <td>Female</td>\n",
       "      <td>No</td>\n",
       "      <td>Sun</td>\n",
       "      <td>Dinner</td>\n",
       "      <td>4</td>\n",
       "    </tr>\n",
       "    <tr>\n",
       "      <th>...</th>\n",
       "      <td>...</td>\n",
       "      <td>...</td>\n",
       "      <td>...</td>\n",
       "      <td>...</td>\n",
       "      <td>...</td>\n",
       "      <td>...</td>\n",
       "      <td>...</td>\n",
       "    </tr>\n",
       "    <tr>\n",
       "      <th>239</th>\n",
       "      <td>29.03</td>\n",
       "      <td>5.92</td>\n",
       "      <td>Male</td>\n",
       "      <td>No</td>\n",
       "      <td>Sat</td>\n",
       "      <td>Dinner</td>\n",
       "      <td>3</td>\n",
       "    </tr>\n",
       "    <tr>\n",
       "      <th>240</th>\n",
       "      <td>27.18</td>\n",
       "      <td>2.00</td>\n",
       "      <td>Female</td>\n",
       "      <td>Yes</td>\n",
       "      <td>Sat</td>\n",
       "      <td>Dinner</td>\n",
       "      <td>2</td>\n",
       "    </tr>\n",
       "    <tr>\n",
       "      <th>241</th>\n",
       "      <td>22.67</td>\n",
       "      <td>2.00</td>\n",
       "      <td>Male</td>\n",
       "      <td>Yes</td>\n",
       "      <td>Sat</td>\n",
       "      <td>Dinner</td>\n",
       "      <td>2</td>\n",
       "    </tr>\n",
       "    <tr>\n",
       "      <th>242</th>\n",
       "      <td>17.82</td>\n",
       "      <td>1.75</td>\n",
       "      <td>Male</td>\n",
       "      <td>No</td>\n",
       "      <td>Sat</td>\n",
       "      <td>Dinner</td>\n",
       "      <td>2</td>\n",
       "    </tr>\n",
       "    <tr>\n",
       "      <th>243</th>\n",
       "      <td>18.78</td>\n",
       "      <td>3.00</td>\n",
       "      <td>Female</td>\n",
       "      <td>No</td>\n",
       "      <td>Thur</td>\n",
       "      <td>Dinner</td>\n",
       "      <td>2</td>\n",
       "    </tr>\n",
       "  </tbody>\n",
       "</table>\n",
       "<p>244 rows × 7 columns</p>\n",
       "</div>"
      ],
      "text/plain": [
       "     total_bill   tip     sex smoker   day    time  size\n",
       "0         16.99  1.01  Female     No   Sun  Dinner     2\n",
       "1         10.34  1.66    Male     No   Sun  Dinner     3\n",
       "2         21.01  3.50    Male     No   Sun  Dinner     3\n",
       "3         23.68  3.31    Male     No   Sun  Dinner     2\n",
       "4         24.59  3.61  Female     No   Sun  Dinner     4\n",
       "..          ...   ...     ...    ...   ...     ...   ...\n",
       "239       29.03  5.92    Male     No   Sat  Dinner     3\n",
       "240       27.18  2.00  Female    Yes   Sat  Dinner     2\n",
       "241       22.67  2.00    Male    Yes   Sat  Dinner     2\n",
       "242       17.82  1.75    Male     No   Sat  Dinner     2\n",
       "243       18.78  3.00  Female     No  Thur  Dinner     2\n",
       "\n",
       "[244 rows x 7 columns]"
      ]
     },
     "execution_count": 109,
     "metadata": {},
     "output_type": "execute_result"
    }
   ],
   "source": [
    "df_tips\n"
   ]
  }
 ],
 "metadata": {
  "kernelspec": {
   "display_name": "Python 3 (ipykernel)",
   "language": "python",
   "name": "python3"
  },
  "language_info": {
   "codemirror_mode": {
    "name": "ipython",
    "version": 3
   },
   "file_extension": ".py",
   "mimetype": "text/x-python",
   "name": "python",
   "nbconvert_exporter": "python",
   "pygments_lexer": "ipython3",
   "version": "3.12.4"
  }
 },
 "nbformat": 4,
 "nbformat_minor": 5
}
