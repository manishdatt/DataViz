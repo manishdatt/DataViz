


import pandas as pd


nsf_terminations = pd.read_csv('https://raw.githubusercontent.com/rfordatascience/tidytuesday/main/data/2025/2025-05-06/nsf_terminations.csv')


nsf_terminations.head()


nsf_terminations["termination_letter_date"].unique()


nsf_terminations.columns


with pd.option_context('display.max_rows', 5, 'display.max_columns', None): 
    display(nsf_terminations)



nsf_terminations.groupby('directorate').get_group("Biological Sciences").groupby("division").size()


nsf_terminations.groupby('division').get_group("Research on Learning in Formal and Informal Settings")


df_new = pd.DataFrame()
for name, group in  nsf_terminations.groupby('division'):
#    print(name, group.shape[0], f'{group["usaspending_obligated"].sum():,.0f}')
    df_temp = pd.DataFrame([name, group.shape[0], group["usaspending_obligated"].sum()]).T
    df_new = pd.concat([df_new, df_temp], ignore_index=True)
df_new.columns = ["Division", "No. of grants", "Total funding"]
df_new["Total funding"] = df_new["Total funding"].astype(int)
df_new = df_new.sort_values("Total funding", ascending=False)
#df_new["Total funding"] = df_new["Total funding"].apply(lambda x: "{:,.0f}".format(x))
df_new.nlargest(10,"Total funding")


for name, group in  nsf_terminations.groupby('directorate'):
    print(name)
    print(group.groupby('division').size())
    print(group.groupby('division')["usaspending_obligated"].sum())





print(nsf_terminations['directorate'].unique())
print(nsf_terminations['division'].unique())



import pandas as pd
import plotly.express as px
nsf_terminations = pd.read_csv('https://raw.githubusercontent.com/rfordatascience/tidytuesday/main/data/2025/2025-05-06/nsf_terminations.csv')

nsf_grp = nsf_terminations.groupby(['directorate', 'division'], as_index=False)['usaspending_obligated'].sum()

custom_colorscale = [
    [0.0, 'black'],       # 0 → black
    [0.000001, 'rgb(68,1,84)'],   # Start of Viridis after 0
    [0.25, 'rgb(59,82,139)'],
    [0.5, 'rgb(33,145,140)'],
    [0.75, 'rgb(94,201,98)'],
    [1.0, 'rgb(253,231,37)']
]

fig = px.sunburst(nsf_grp, path=['directorate', 'division'], values='usaspending_obligated', \
                  color='usaspending_obligated', color_continuous_scale=custom_colorscale, width=900, height=700, \
                  title=f"Distribution of the NSF funding cut of <b>${nsf_grp["usaspending_obligated"].sum():,.0f}</b> in April 2025."
                 )
fig.update_traces(textinfo='label+percent entry')
for i in range(len(fig.data[0].marker.colors) - len(nsf_grp['directorate'].unique()), len(fig.data[0].marker.colors)):
    fig.data[0].marker.colors[i] = 0
#fig.write_image("sunburst_plot.png")
fig.show()
