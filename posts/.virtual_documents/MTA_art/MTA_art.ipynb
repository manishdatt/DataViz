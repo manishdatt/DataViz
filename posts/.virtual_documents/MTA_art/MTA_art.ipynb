





import pandas as pd
import matplotlib.pyplot as plt


mta_art = pd.read_csv('https://raw.githubusercontent.com/rfordatascience/tidytuesday/main/data/2025/2025-07-22/mta_art.csv')
station_lines = pd.read_csv('https://raw.githubusercontent.com/rfordatascience/tidytuesday/main/data/2025/2025-07-22/station_lines.csv')


mta_art


mta_art_date = mta_art.groupby('art_date').nunique()
mta_art_date


# change art_matrial to sentence case
mta_art['art_material'] = mta_art['art_material'].str.title()
am_vc = mta_art['art_material'].value_counts()
#am_vc
# get am_vc greater than 1
am_vc[am_vc > 1]


# Filter art_materials that appear more than once
filtered_materials = am_vc[am_vc > 1].index

# Filter the dataset for these materials
filtered_mta_art = mta_art[mta_art['art_material'].isin(filtered_materials)]

# Find the first date for each art_material
material_timeline = filtered_mta_art.groupby('art_material')['art_date'].min().reset_index()
material_timeline = material_timeline.sort_values(by='art_date')
# split art_material by "(" and keep only the first part
material_timeline['art_material'] = material_timeline['art_material'].str.split('(').str[0]
material_timeline





fig, ax = plt.subplots(figsize=(7,7))
ml,sl,bl = ax.stem(material_timeline['art_date'], material_timeline['art_material'],\
 basefmt=' ', bottom=34)
plt.setp(sl, linestyle=':', color='lightblue')
plt.setp(ml,  marker="*")
for i, txt in enumerate(material_timeline['art_material']):
    ax.annotate(txt, (material_timeline['art_date'][i]+0.5, material_timeline['art_material'][i]), xytext=(0, -2), textcoords='offset points')
ax.get_yaxis().set_visible(False)
#ax.invert_yaxis()
ax.set_xticks(material_timeline['art_date'].unique())
ax.set_xticklabels(material_timeline['art_date'].unique(), rotation=90)
ax.xaxis.set_ticks_position('top')
ax.xaxis.set_label_position('top')
ax.tick_params(axis='x', which='both', length=0)
plt.xticks(fontfamily='monospace', color="gray")
plt.tick_params(axis='x', pad=-15)
ax.spines[['top', 'right', 'bottom', 'left']].set_visible(False)
plt.title("First appearance of art materials in the MTA art data.\nArt materials that appear more than once are shown.", fontfamily='serif', fontsize=12, loc='left')
#plt.savefig("MTA_art.png", dpi=300)
plt.show()
