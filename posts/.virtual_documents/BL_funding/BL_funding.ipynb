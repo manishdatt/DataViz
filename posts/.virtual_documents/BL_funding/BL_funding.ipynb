





import pandas as pd
bl_funding = pd.read_csv('https://raw.githubusercontent.com/rfordatascience/tidytuesday/main/data/2025/2025-07-15/bl_funding.csv')
bl_funding












