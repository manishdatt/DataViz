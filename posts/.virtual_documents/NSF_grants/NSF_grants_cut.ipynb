


import pandas as pd
import plotly.express as px
nsf_terminations = pd.read_csv('https://raw.githubusercontent.com/rfordatascience/tidytuesday/main/data/2025/2025-05-06/nsf_terminations.csv')
nsf_terminations


nsf_terminations.columns





nsf_grp = nsf_terminations.groupby(['directorate', 'division'], as_index=False)['usaspending_obligated'].sum()

custom_colorscale = [
    [0.0, 'black'],       # 0 → black
    [0.000001, 'rgb(68,1,84)'],   # Start of Viridis after 0
    [0.25, 'rgb(59,82,139)'],
    [0.5, 'rgb(33,145,140)'],
    [0.75, 'rgb(94,201,98)'],
    [1.0, 'rgb(253,231,37)']
]

fig = px.sunburst(nsf_grp, path=['directorate', 'division'], values='usaspending_obligated', \
                  color='usaspending_obligated', color_continuous_scale=custom_colorscale, width=900, height=700, \
                  title=f"Distribution of the NSF funding cut of <b>${nsf_grp["usaspending_obligated"].sum():,.0f}</b> in April 2025."
                 )
fig.update_traces(textinfo='label+percent entry')
for i in range(len(fig.data[0].marker.colors) - len(nsf_grp['directorate'].unique()), len(fig.data[0].marker.colors)):
    fig.data[0].marker.colors[i] = 0
#fig.write_image("sunburst_plot.png")
fig.show()



